{
  "nbformat": 4,
  "nbformat_minor": 0,
  "metadata": {
    "colab": {
      "name": "Sisagua - demais parametros.ipynb",
      "provenance": [],
      "collapsed_sections": []
    },
    "kernelspec": {
      "name": "python3",
      "display_name": "Python 3"
    },
    "language_info": {
      "name": "python"
    }
  },
  "cells": [
    {
      "cell_type": "markdown",
      "source": [
        "# Realizando a conexão com o driver"
      ],
      "metadata": {
        "id": "eonUvKqwyOYk"
      }
    },
    {
      "cell_type": "code",
      "source": [
        "from google.colab import drive\n",
        "drive.mount('/gdrive', force_remount=True)"
      ],
      "metadata": {
        "colab": {
          "base_uri": "https://localhost:8080/"
        },
        "id": "Mj5neRk5Xyfq",
        "outputId": "dc0d7993-0705-420b-959c-2e432e4fabaa"
      },
      "execution_count": null,
      "outputs": [
        {
          "output_type": "stream",
          "name": "stdout",
          "text": [
            "Mounted at /gdrive\n"
          ]
        }
      ]
    },
    {
      "cell_type": "code",
      "source": [
        "%cd '/gdrive/My Drive/PDFS'\n",
        "%ls"
      ],
      "metadata": {
        "colab": {
          "base_uri": "https://localhost:8080/"
        },
        "id": "zFXf3ZW7XzjJ",
        "outputId": "6c085d09-be4b-4b2c-d1b2-e85d5f23c82d"
      },
      "execution_count": null,
      "outputs": [
        {
          "output_type": "stream",
          "name": "stdout",
          "text": [
            "/gdrive/My Drive/PDFS\n",
            "'comorbidades  com doses  e data..csv'   Download_arquivos_01_11_2021.txt\n",
            " comorbidade.txt                         Download_arquivos_28_10_2021.txt\n",
            " Contador_ID.txt                         Download_arquivos_29_10_2021.txt\n",
            "'dados publicacao.csv'                   Download_arquivos_31_10_2021.txt\n"
          ]
        }
      ]
    },
    {
      "cell_type": "markdown",
      "source": [
        "# Importando a base de dados"
      ],
      "metadata": {
        "id": "Z0jb8tn5XKWx"
      }
    },
    {
      "cell_type": "code",
      "execution_count": null,
      "metadata": {
        "id": "vxg4UgxOW6tJ",
        "colab": {
          "base_uri": "https://localhost:8080/"
        },
        "outputId": "6ec57388-a443-43f4-96d1-17b16642f2f6"
      },
      "outputs": [
        {
          "output_type": "stream",
          "name": "stdout",
          "text": [
            "/gdrive/My Drive/PDFS/Sisagua\n",
            "controle_mensal_parametros_basicos_2021.csv\n"
          ]
        },
        {
          "output_type": "stream",
          "name": "stderr",
          "text": [
            "/usr/local/lib/python3.7/dist-packages/IPython/core/interactiveshell.py:2718: DtypeWarning: Columns (5,6,7,9,14,15) have mixed types.Specify dtype option on import or set low_memory=False.\n",
            "  interactivity=interactivity, compiler=compiler, result=result)\n"
          ]
        }
      ],
      "source": [
        "import zipfile\n",
        "import pandas as pd\n",
        "import time\n",
        "\n",
        "# Realizando o download da base\n",
        "\n",
        "dados = !wget --no-check-certificate https://sage.saude.gov.br/dados/sisagua/controle_mensal_amostras_fora_padrao.zip\n",
        "\n",
        "# Pegando os CSV's que se encontravam zipados\n",
        "\n",
        "with zipfile.ZipFile('controle_mensal_parametros_basicos_2021.zip',\"r\") as zip_ref:\n",
        "    zip_ref.extractall(\"Sisagua\")\n",
        "\n",
        "time.sleep(20)\n",
        "\n",
        "%cd 'Sisagua'\n",
        "%ls\n",
        "\n",
        "# Lendo o Dataframe\n",
        "\n",
        "df = pd.read_csv('controle_mensal_parametros_basicos_2021.csv', encoding='latin_1',sep=';',decimal=',',\n",
        "                 dtype={'Código IBGE':'object','CNPJ da Instituição':'object',r'CNPJ do escritório regional/local':'object'})"
      ]
    },
    {
      "cell_type": "markdown",
      "source": [
        "# Visão geral do formato das colunas"
      ],
      "metadata": {
        "id": "1h9BJTH0yd-h"
      }
    },
    {
      "cell_type": "code",
      "source": [
        "df.info()"
      ],
      "metadata": {
        "id": "RR1paczuruHE",
        "colab": {
          "base_uri": "https://localhost:8080/"
        },
        "outputId": "51652b07-fc0e-4eb9-f9f2-ff72c2037790"
      },
      "execution_count": null,
      "outputs": [
        {
          "output_type": "stream",
          "name": "stdout",
          "text": [
            "<class 'pandas.core.frame.DataFrame'>\n",
            "RangeIndex: 8682233 entries, 0 to 8682232\n",
            "Data columns (total 22 columns):\n",
            " #   Column                             Dtype  \n",
            "---  ------                             -----  \n",
            " 0   Região Geográfica                  object \n",
            " 1   UF                                 object \n",
            " 2   Regional de Saúde                  object \n",
            " 3   Código IBGE                        object \n",
            " 4   Município                          object \n",
            " 5   Tipo da Instituição                object \n",
            " 6   Sigla da Instituição               object \n",
            " 7   Nome da Instituição                object \n",
            " 8   CNPJ da Instituição                object \n",
            " 9   Nome do escritório regional/local  object \n",
            " 10  CNPJ do escritório regional/local  object \n",
            " 11  Tipo da Forma de Abastecimento     object \n",
            " 12  Código Forma de abastecimento      object \n",
            " 13  Nome da Forma de Abastecimento     object \n",
            " 14  Nome da ETA / UTA                  object \n",
            " 15  Tipo de Filtração                  object \n",
            " 16  Ano de referência                  int64  \n",
            " 17  Mês de referência                  int64  \n",
            " 18  Ponto de Monitoramento             object \n",
            " 19  Parâmetro                          object \n",
            " 20  Campo                              object \n",
            " 21  Valor                              float64\n",
            "dtypes: float64(1), int64(2), object(19)\n",
            "memory usage: 1.4+ GB\n"
          ]
        }
      ]
    },
    {
      "cell_type": "markdown",
      "source": [
        "# Contagem de valores nulos"
      ],
      "metadata": {
        "id": "bCFrXDMc-Em2"
      }
    },
    {
      "cell_type": "code",
      "source": [
        "df.isnull().astype(int).sum()"
      ],
      "metadata": {
        "id": "E8l-3JXr-G8_",
        "colab": {
          "base_uri": "https://localhost:8080/"
        },
        "outputId": "46faf718-d095-4bc8-acdd-ba4318d6f96c"
      },
      "execution_count": null,
      "outputs": [
        {
          "output_type": "execute_result",
          "data": {
            "text/plain": [
              "Região Geográfica                          0\n",
              "UF                                         0\n",
              "Regional de Saúde                          0\n",
              "Código IBGE                                0\n",
              "Município                                  0\n",
              "Tipo da Instituição                   143353\n",
              "Sigla da Instituição                 5523990\n",
              "Nome da Instituição                   143353\n",
              "CNPJ da Instituição                   143353\n",
              "Nome do escritório regional/local    5523990\n",
              "CNPJ do escritório regional/local    5523990\n",
              "Tipo da Forma de Abastecimento             0\n",
              "Código Forma de abastecimento              0\n",
              "Nome da Forma de Abastecimento             0\n",
              "Nome da ETA / UTA                    6138349\n",
              "Tipo de Filtração                    1686520\n",
              "Ano de referência                          0\n",
              "Mês de referência                          0\n",
              "Ponto de Monitoramento                     0\n",
              "Parâmetro                                  0\n",
              "Campo                                      0\n",
              "Valor                                      0\n",
              "dtype: int64"
            ]
          },
          "metadata": {},
          "execution_count": 5
        }
      ]
    },
    {
      "cell_type": "markdown",
      "source": [
        "# Conferindo se existem 27 UF's"
      ],
      "metadata": {
        "id": "WbpKDrBtyhzS"
      }
    },
    {
      "cell_type": "code",
      "source": [
        "df['UF'].value_counts()"
      ],
      "metadata": {
        "id": "HrbFeifUymRm",
        "colab": {
          "base_uri": "https://localhost:8080/"
        },
        "outputId": "d3882064-a48d-48ef-b271-0d08eb44dc62"
      },
      "execution_count": null,
      "outputs": [
        {
          "output_type": "execute_result",
          "data": {
            "text/plain": [
              "SP    4179199\n",
              "RS    1298124\n",
              "PR     703665\n",
              "MG     649807\n",
              "SC     309652\n",
              "BA     301676\n",
              "GO     157446\n",
              "CE     142110\n",
              "MA     139729\n",
              "MS     122159\n",
              "TO     114692\n",
              "MT     110949\n",
              "RJ     107408\n",
              "ES      89010\n",
              "AL      51701\n",
              "PE      34644\n",
              "PB      29693\n",
              "DF      29069\n",
              "RN      25777\n",
              "SE      24420\n",
              "AM      16671\n",
              "PI      15869\n",
              "PA      10578\n",
              "RR       9440\n",
              "AC       5105\n",
              "RO       3323\n",
              "AP        317\n",
              "Name: UF, dtype: int64"
            ]
          },
          "metadata": {},
          "execution_count": 6
        }
      ]
    },
    {
      "cell_type": "markdown",
      "source": [
        "# Conferindo se as 5 regiões estão corretas"
      ],
      "metadata": {
        "id": "ftx19NVw728d"
      }
    },
    {
      "cell_type": "code",
      "source": [
        "df['Região Geográfica'].value_counts()"
      ],
      "metadata": {
        "id": "SD3Vtu5p7x-p",
        "colab": {
          "base_uri": "https://localhost:8080/"
        },
        "outputId": "86888778-27b7-4c44-da19-5c1c8709cc54"
      },
      "execution_count": null,
      "outputs": [
        {
          "output_type": "execute_result",
          "data": {
            "text/plain": [
              "SUDESTE         5025424\n",
              "SUL             2311441\n",
              "NORDESTE         765619\n",
              "CENTRO-OESTE     419623\n",
              "NORTE            160126\n",
              "Name: Região Geográfica, dtype: int64"
            ]
          },
          "metadata": {},
          "execution_count": 7
        }
      ]
    },
    {
      "cell_type": "markdown",
      "source": [
        "# Número de municípios distintos presentes na base"
      ],
      "metadata": {
        "id": "n0He5Mj48YoZ"
      }
    },
    {
      "cell_type": "code",
      "source": [
        "df['Município'].value_counts().count()"
      ],
      "metadata": {
        "id": "5bpk3hv68Bcd",
        "colab": {
          "base_uri": "https://localhost:8080/"
        },
        "outputId": "485c711c-98c0-49ee-a078-4b6a4e4ef6f6"
      },
      "execution_count": null,
      "outputs": [
        {
          "output_type": "execute_result",
          "data": {
            "text/plain": [
              "4253"
            ]
          },
          "metadata": {},
          "execution_count": 8
        }
      ]
    },
    {
      "cell_type": "markdown",
      "source": [
        "# Conferindo se o Código IBGE está indexado corretamente"
      ],
      "metadata": {
        "id": "HcYxoM1bEByY"
      }
    },
    {
      "cell_type": "code",
      "source": [
        "(df.drop_duplicates(subset =\"Código IBGE\", keep = 'last')['Código IBGE']).to_csv('new.csv', index=False)"
      ],
      "metadata": {
        "id": "7SAnxhIFGU9H"
      },
      "execution_count": null,
      "outputs": []
    },
    {
      "cell_type": "markdown",
      "source": [
        "Existem 31 códigos IBGE que não tiveram correspondência com a base disponibilizada pelo Ministério da saúde, sendo estes:\n",
        "\n",
        "![image.png](data:image/png;base64,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)"
      ],
      "metadata": {
        "id": "naf_0OVNH4Fg"
      }
    },
    {
      "cell_type": "markdown",
      "source": [
        "Conferindo quais municipios são referentes os códigos do IBGE "
      ],
      "metadata": {
        "id": "itSxxSvWZXzq"
      }
    },
    {
      "cell_type": "code",
      "source": [
        "df[df['Código IBGE']=='530004'].head(1)"
      ],
      "metadata": {
        "id": "8DxGe1NzZGDJ",
        "colab": {
          "base_uri": "https://localhost:8080/",
          "height": 266
        },
        "outputId": "b5ff39bc-1999-47df-b3d9-5e554d03f903"
      },
      "execution_count": null,
      "outputs": [
        {
          "output_type": "execute_result",
          "data": {
            "text/html": [
              "\n",
              "  <div id=\"df-3bf2a9ed-0994-4d7d-8d46-3a47d913aaa0\">\n",
              "    <div class=\"colab-df-container\">\n",
              "      <div>\n",
              "<style scoped>\n",
              "    .dataframe tbody tr th:only-of-type {\n",
              "        vertical-align: middle;\n",
              "    }\n",
              "\n",
              "    .dataframe tbody tr th {\n",
              "        vertical-align: top;\n",
              "    }\n",
              "\n",
              "    .dataframe thead th {\n",
              "        text-align: right;\n",
              "    }\n",
              "</style>\n",
              "<table border=\"1\" class=\"dataframe\">\n",
              "  <thead>\n",
              "    <tr style=\"text-align: right;\">\n",
              "      <th></th>\n",
              "      <th>Região Geográfica</th>\n",
              "      <th>UF</th>\n",
              "      <th>Regional de Saúde</th>\n",
              "      <th>Código IBGE</th>\n",
              "      <th>Município</th>\n",
              "      <th>Tipo da Instituição</th>\n",
              "      <th>Sigla da Instituição</th>\n",
              "      <th>Nome da Instituição</th>\n",
              "      <th>CNPJ da Instituição</th>\n",
              "      <th>Nome do escritório regional/local</th>\n",
              "      <th>CNPJ do escritório regional/local</th>\n",
              "      <th>Tipo da Forma de Abastecimento</th>\n",
              "      <th>Código Forma de abastecimento</th>\n",
              "      <th>Nome da Forma de Abastecimento</th>\n",
              "      <th>Nome da ETA / UTA</th>\n",
              "      <th>Tipo de Filtração</th>\n",
              "      <th>Ano de referência</th>\n",
              "      <th>Mês de referência</th>\n",
              "      <th>Ponto de Monitoramento</th>\n",
              "      <th>Parâmetro</th>\n",
              "      <th>Campo</th>\n",
              "      <th>Valor</th>\n",
              "    </tr>\n",
              "  </thead>\n",
              "  <tbody>\n",
              "    <tr>\n",
              "      <th>1526865</th>\n",
              "      <td>CENTRO-OESTE</td>\n",
              "      <td>DF</td>\n",
              "      <td>UNICA</td>\n",
              "      <td>530004</td>\n",
              "      <td>BRAZLANDIA</td>\n",
              "      <td>Regional</td>\n",
              "      <td>CAESB</td>\n",
              "      <td>COMPANHIA DE SANEAMENTO AMBIENTAL DO DISTRITO ...</td>\n",
              "      <td>82024000137</td>\n",
              "      <td>CAESB REGIONAL UNICA</td>\n",
              "      <td>82024000137</td>\n",
              "      <td>SAA</td>\n",
              "      <td>S530004000001</td>\n",
              "      <td>BRAZLÂNDIA</td>\n",
              "      <td>ETA BRAZLÂNDIA (ETA.BRZ.001)</td>\n",
              "      <td>SEM FILTRAÇÃO</td>\n",
              "      <td>2021</td>\n",
              "      <td>2</td>\n",
              "      <td>Pós-filtração ou Pré-desinfecção</td>\n",
              "      <td>Turbidez (uT)</td>\n",
              "      <td>Número de amostras analisadas</td>\n",
              "      <td>672.0</td>\n",
              "    </tr>\n",
              "  </tbody>\n",
              "</table>\n",
              "</div>\n",
              "      <button class=\"colab-df-convert\" onclick=\"convertToInteractive('df-3bf2a9ed-0994-4d7d-8d46-3a47d913aaa0')\"\n",
              "              title=\"Convert this dataframe to an interactive table.\"\n",
              "              style=\"display:none;\">\n",
              "        \n",
              "  <svg xmlns=\"http://www.w3.org/2000/svg\" height=\"24px\"viewBox=\"0 0 24 24\"\n",
              "       width=\"24px\">\n",
              "    <path d=\"M0 0h24v24H0V0z\" fill=\"none\"/>\n",
              "    <path d=\"M18.56 5.44l.94 2.06.94-2.06 2.06-.94-2.06-.94-.94-2.06-.94 2.06-2.06.94zm-11 1L8.5 8.5l.94-2.06 2.06-.94-2.06-.94L8.5 2.5l-.94 2.06-2.06.94zm10 10l.94 2.06.94-2.06 2.06-.94-2.06-.94-.94-2.06-.94 2.06-2.06.94z\"/><path d=\"M17.41 7.96l-1.37-1.37c-.4-.4-.92-.59-1.43-.59-.52 0-1.04.2-1.43.59L10.3 9.45l-7.72 7.72c-.78.78-.78 2.05 0 2.83L4 21.41c.39.39.9.59 1.41.59.51 0 1.02-.2 1.41-.59l7.78-7.78 2.81-2.81c.8-.78.8-2.07 0-2.86zM5.41 20L4 18.59l7.72-7.72 1.47 1.35L5.41 20z\"/>\n",
              "  </svg>\n",
              "      </button>\n",
              "      \n",
              "  <style>\n",
              "    .colab-df-container {\n",
              "      display:flex;\n",
              "      flex-wrap:wrap;\n",
              "      gap: 12px;\n",
              "    }\n",
              "\n",
              "    .colab-df-convert {\n",
              "      background-color: #E8F0FE;\n",
              "      border: none;\n",
              "      border-radius: 50%;\n",
              "      cursor: pointer;\n",
              "      display: none;\n",
              "      fill: #1967D2;\n",
              "      height: 32px;\n",
              "      padding: 0 0 0 0;\n",
              "      width: 32px;\n",
              "    }\n",
              "\n",
              "    .colab-df-convert:hover {\n",
              "      background-color: #E2EBFA;\n",
              "      box-shadow: 0px 1px 2px rgba(60, 64, 67, 0.3), 0px 1px 3px 1px rgba(60, 64, 67, 0.15);\n",
              "      fill: #174EA6;\n",
              "    }\n",
              "\n",
              "    [theme=dark] .colab-df-convert {\n",
              "      background-color: #3B4455;\n",
              "      fill: #D2E3FC;\n",
              "    }\n",
              "\n",
              "    [theme=dark] .colab-df-convert:hover {\n",
              "      background-color: #434B5C;\n",
              "      box-shadow: 0px 1px 3px 1px rgba(0, 0, 0, 0.15);\n",
              "      filter: drop-shadow(0px 1px 2px rgba(0, 0, 0, 0.3));\n",
              "      fill: #FFFFFF;\n",
              "    }\n",
              "  </style>\n",
              "\n",
              "      <script>\n",
              "        const buttonEl =\n",
              "          document.querySelector('#df-3bf2a9ed-0994-4d7d-8d46-3a47d913aaa0 button.colab-df-convert');\n",
              "        buttonEl.style.display =\n",
              "          google.colab.kernel.accessAllowed ? 'block' : 'none';\n",
              "\n",
              "        async function convertToInteractive(key) {\n",
              "          const element = document.querySelector('#df-3bf2a9ed-0994-4d7d-8d46-3a47d913aaa0');\n",
              "          const dataTable =\n",
              "            await google.colab.kernel.invokeFunction('convertToInteractive',\n",
              "                                                     [key], {});\n",
              "          if (!dataTable) return;\n",
              "\n",
              "          const docLinkHtml = 'Like what you see? Visit the ' +\n",
              "            '<a target=\"_blank\" href=https://colab.research.google.com/notebooks/data_table.ipynb>data table notebook</a>'\n",
              "            + ' to learn more about interactive tables.';\n",
              "          element.innerHTML = '';\n",
              "          dataTable['output_type'] = 'display_data';\n",
              "          await google.colab.output.renderOutput(dataTable, element);\n",
              "          const docLink = document.createElement('div');\n",
              "          docLink.innerHTML = docLinkHtml;\n",
              "          element.appendChild(docLink);\n",
              "        }\n",
              "      </script>\n",
              "    </div>\n",
              "  </div>\n",
              "  "
            ],
            "text/plain": [
              "        Região Geográfica  UF  ...                          Campo  Valor\n",
              "1526865      CENTRO-OESTE  DF  ...  Número de amostras analisadas  672.0\n",
              "\n",
              "[1 rows x 22 columns]"
            ]
          },
          "metadata": {},
          "execution_count": 34
        }
      ]
    },
    {
      "cell_type": "markdown",
      "source": [
        "# Tipos de instituições presentes na base"
      ],
      "metadata": {
        "id": "TCTNOIFLIoC4"
      }
    },
    {
      "cell_type": "code",
      "source": [
        "df['Tipo da Instituição'].value_counts()"
      ],
      "metadata": {
        "id": "ePATkOGlIjSB",
        "colab": {
          "base_uri": "https://localhost:8080/"
        },
        "outputId": "0dae3cfb-1329-47c7-d51f-5d08111f11ca"
      },
      "execution_count": null,
      "outputs": [
        {
          "output_type": "execute_result",
          "data": {
            "text/plain": [
              "Local       5380637\n",
              "Regional    3158243\n",
              "Name: Tipo da Instituição, dtype: int64"
            ]
          },
          "metadata": {},
          "execution_count": 11
        }
      ]
    },
    {
      "cell_type": "markdown",
      "source": [
        "# Siglas das 66 instituições presentes no banco com suas respectivas frequências"
      ],
      "metadata": {
        "id": "yQKHOEtVIsvg"
      }
    },
    {
      "cell_type": "markdown",
      "source": [
        "Algumas siglas se encontram cortadas ou com presença de espaçamentos na sua escrita"
      ],
      "metadata": {
        "id": "HSffTZivJzeI"
      }
    },
    {
      "cell_type": "code",
      "source": [
        "pd.options.display.max_rows=1000"
      ],
      "metadata": {
        "id": "dTN_pjnxJt4h"
      },
      "execution_count": null,
      "outputs": []
    },
    {
      "cell_type": "code",
      "source": [
        "df['Sigla da Instituição'].value_counts()"
      ],
      "metadata": {
        "id": "GybKU3ePIw1Y",
        "colab": {
          "base_uri": "https://localhost:8080/"
        },
        "outputId": "143ecc7e-e25a-49e9-86a5-3a5eee96b2b7"
      },
      "execution_count": null,
      "outputs": [
        {
          "output_type": "execute_result",
          "data": {
            "text/plain": [
              "SABESP        391652\n",
              "SANEPAR       327398\n",
              "COPASA        323357\n",
              "CORSAN        302912\n",
              "EMBASA        265754\n",
              "CASAN         147930\n",
              "SANEAGO       132785\n",
              "CAGECE        102038\n",
              "LACUA SIST     89756\n",
              "KF             89442\n",
              "ESSENCIAL      79771\n",
              "SANESUL        73302\n",
              "FV             66804\n",
              "SANEATINS      64914\n",
              "CESAN          52592\n",
              "ARTIBRAS       36582\n",
              "COPANOR        30824\n",
              "LABORPLAN      29791\n",
              "CAESB          29069\n",
              "COMPESA        28651\n",
              "CEDAE          28567\n",
              "HIDROFORTE     27620\n",
              "SISAR          26074\n",
              "CAEMA          25705\n",
              "CAGEPA         25508\n",
              "CAERN          24739\n",
              "ATS            23449\n",
              "DESO           22902\n",
              "AGUA E SOL     20835\n",
              "CASAL          14613\n",
              "ECO DIEHL      14501\n",
              "BRK AMBIEN     14101\n",
              "ENTREVIAS      14028\n",
              "VPAULISTA      13614\n",
              "BIOSUL         11777\n",
              "PRECISAO T     11302\n",
              "AUTOBAN        11200\n",
              "CART           10922\n",
              "SPVIAS         10324\n",
              "SOFT SUL P      9865\n",
              "AB TRIANGU      7015\n",
              "LICS R          6534\n",
              "COSAMA          6446\n",
              "GRILLO          5742\n",
              "AB COLINAS      5498\n",
              "RENOVIAS        5409\n",
              "EDSON LUIS      5247\n",
              "INTERVIAS       5134\n",
              "REGIS BITT      5058\n",
              "DEPASA          4851\n",
              "RDB             4805\n",
              "LIGIANE A       4389\n",
              "APPS            4158\n",
              "SIMAE           3720\n",
              "DEBORA B        3698\n",
              "AGESPISA        3389\n",
              "RODOANEL O      3150\n",
              "MUNDO D A       3014\n",
              "CTEEP           2980\n",
              "WETTA SAUD      2704\n",
              "VIARONDON       2603\n",
              "SIMAE2          2547\n",
              "TIETE           2520\n",
              "CRISTAL         2275\n",
              "NOVADUTRA       2250\n",
              "DESIN           1992\n",
              "SULTECH         1916\n",
              "VIAOESTE        1800\n",
              "AP FERNAO       1800\n",
              "CAERD           1745\n",
              "PROLAGOS        1683\n",
              "SPMAR           1652\n",
              "H2O             1605\n",
              "AGJ             1517\n",
              "TAMOIOS         1240\n",
              "RAIZEN          1212\n",
              "SHO              946\n",
              "FL ANALISE       922\n",
              "ECO PRESER       893\n",
              "TEBE             847\n",
              "ECOPISTAS        833\n",
              "CAER             760\n",
              "IBG CRYO         579\n",
              "COSANPA          549\n",
              "VIAPAR           279\n",
              "JOSIANE VI       261\n",
              "HIDROS           250\n",
              "AGRESTE          246\n",
              "DALCONT          136\n",
              "02PESQUISA       126\n",
              "IAPAR            126\n",
              "HOLUS             91\n",
              "SAAE SGA          72\n",
              "LA FONTANA        26\n",
              "7BIM              14\n",
              "SUSAM             13\n",
              "SEGUP/PA           6\n",
              "Name: Sigla da Instituição, dtype: int64"
            ]
          },
          "metadata": {},
          "execution_count": 13
        }
      ]
    },
    {
      "cell_type": "markdown",
      "source": [
        "# Conferindo se existe nomes de instituições preenchidos como número"
      ],
      "metadata": {
        "id": "UatZHMbcLHRj"
      }
    },
    {
      "cell_type": "code",
      "source": [
        "instituicao = list((df.drop_duplicates(subset =\"Nome da Instituição\", keep = 'last')['Nome da Instituição']))"
      ],
      "metadata": {
        "id": "Q99ehtwtUZBz"
      },
      "execution_count": null,
      "outputs": []
    },
    {
      "cell_type": "code",
      "source": [
        "import collections\n",
        "\n",
        "frequencia = []\n",
        "\n",
        "for i in range(0,len(instituicao)):\n",
        "  try:\n",
        "    result = instituicao[i].isdigit()\n",
        "    frequencia.append(result)\n",
        "  except:\n",
        "    print('Valor nulo encontrado')\n",
        "\n",
        "counter=collections.Counter(frequencia)\n",
        "\n",
        "print(counter)"
      ],
      "metadata": {
        "id": "V5mejMpKUrOf",
        "colab": {
          "base_uri": "https://localhost:8080/"
        },
        "outputId": "5fcd38c9-b7d9-4e9d-c26d-77e16724e8d8"
      },
      "execution_count": null,
      "outputs": [
        {
          "output_type": "stream",
          "name": "stdout",
          "text": [
            "Valor nulo encontrado\n",
            "Counter({False: 8559})\n"
          ]
        }
      ]
    },
    {
      "cell_type": "markdown",
      "source": [
        "# Conferindo se possui string na variavel CNPJ"
      ],
      "metadata": {
        "id": "JV3DGzV2Xmka"
      }
    },
    {
      "cell_type": "code",
      "source": [
        "CNPJ = list((df.drop_duplicates(subset =\"CNPJ da Instituição\", keep = 'last')['CNPJ da Instituição']))"
      ],
      "metadata": {
        "id": "LSKOXC3QZzeZ"
      },
      "execution_count": null,
      "outputs": []
    },
    {
      "cell_type": "code",
      "source": [
        "frequencia = []\n",
        "\n",
        "for i in range(0,len(CNPJ)):\n",
        "  try:\n",
        "    result = isinstance(CNPJ[i], str)\n",
        "    frequencia.append(result)\n",
        "  except:\n",
        "    print('Valor nulo encontrado')\n",
        "\n",
        "counter=collections.Counter(frequencia)\n",
        "\n",
        "print(counter)"
      ],
      "metadata": {
        "id": "5N9sRFEvZv35",
        "colab": {
          "base_uri": "https://localhost:8080/"
        },
        "outputId": "8846a813-26c7-4590-a0e7-d4c78fce77a1"
      },
      "execution_count": null,
      "outputs": [
        {
          "output_type": "stream",
          "name": "stdout",
          "text": [
            "Counter({True: 9063, False: 1})\n"
          ]
        }
      ]
    },
    {
      "cell_type": "markdown",
      "source": [
        "# Analisando o tamanho dos CNPJ's"
      ],
      "metadata": {
        "id": "MREeTwjKabFR"
      }
    },
    {
      "cell_type": "code",
      "source": [
        "frequencia = []\n",
        "\n",
        "for i in range(0,len(CNPJ)):\n",
        "  try:\n",
        "    result = sum(len(i) for i in CNPJ[i])\n",
        "    frequencia.append(result)\n",
        "  except:\n",
        "    print('Valor nulo encontrado')\n",
        "\n",
        "counter=collections.Counter(frequencia)\n",
        "\n",
        "print(counter)"
      ],
      "metadata": {
        "id": "MBHB_Dsuaf0p",
        "colab": {
          "base_uri": "https://localhost:8080/"
        },
        "outputId": "fc0aa330-dfb4-45d8-beb9-924465a57547"
      },
      "execution_count": null,
      "outputs": [
        {
          "output_type": "stream",
          "name": "stdout",
          "text": [
            "Valor nulo encontrado\n",
            "Counter({14: 5971, 13: 2774, 12: 292, 11: 20, 10: 4, 9: 2})\n"
          ]
        }
      ]
    },
    {
      "cell_type": "markdown",
      "source": [
        "# Conferindo se o nome da instituição regional / local esta preenchido como string"
      ],
      "metadata": {
        "id": "-ZbuoBSLbNvJ"
      }
    },
    {
      "cell_type": "code",
      "source": [
        "instituicao = list((df.drop_duplicates(subset =\"Nome do escritório regional/local\", keep = 'last')['Nome do escritório regional/local']))"
      ],
      "metadata": {
        "id": "qijZznwpbdyx"
      },
      "execution_count": null,
      "outputs": []
    },
    {
      "cell_type": "code",
      "source": [
        "import collections\n",
        "\n",
        "frequencia = []\n",
        "\n",
        "for i in range(0,len(instituicao)):\n",
        "  try:\n",
        "    result = instituicao[i].isdigit()\n",
        "    frequencia.append(result)\n",
        "  except:\n",
        "    print('Valor nulo encontrado')\n",
        "\n",
        "counter=collections.Counter(frequencia)\n",
        "\n",
        "print(counter)"
      ],
      "metadata": {
        "id": "5V1xUKdqbFpB",
        "colab": {
          "base_uri": "https://localhost:8080/"
        },
        "outputId": "c40904a2-1c1e-4dbb-95b8-5f6937486f8d"
      },
      "execution_count": null,
      "outputs": [
        {
          "output_type": "stream",
          "name": "stdout",
          "text": [
            "Valor nulo encontrado\n",
            "Counter({False: 612})\n"
          ]
        }
      ]
    },
    {
      "cell_type": "markdown",
      "source": [
        "# Conferindo se possui valores textuais na variavel CNPJ do escritório regional/local"
      ],
      "metadata": {
        "id": "RKDQIwnzbsrx"
      }
    },
    {
      "cell_type": "code",
      "source": [
        "CNPJ = list((df.drop_duplicates(subset =\"CNPJ do escritório regional/local\", keep = 'last')['CNPJ do escritório regional/local']))"
      ],
      "metadata": {
        "id": "EFfcJ6UgbT3h"
      },
      "execution_count": null,
      "outputs": []
    },
    {
      "cell_type": "code",
      "source": [
        "frequencia = []\n",
        "\n",
        "for i in range(0,len(CNPJ)):\n",
        "  try:\n",
        "    result = isinstance(CNPJ[i], str)\n",
        "    frequencia.append(result)\n",
        "  except:\n",
        "    print('Valor nulo encontrado')\n",
        "\n",
        "counter=collections.Counter(frequencia)\n",
        "\n",
        "print(counter)"
      ],
      "metadata": {
        "id": "sLl1hlBbb1kT",
        "colab": {
          "base_uri": "https://localhost:8080/"
        },
        "outputId": "e2612d21-063d-4374-d427-58d38615d29c"
      },
      "execution_count": null,
      "outputs": [
        {
          "output_type": "stream",
          "name": "stdout",
          "text": [
            "Counter({True: 430, False: 1})\n"
          ]
        }
      ]
    },
    {
      "cell_type": "markdown",
      "source": [
        "# Conferindo a frequência de caracteres na variável CNPJ do escritório regional/local"
      ],
      "metadata": {
        "id": "10j6AutHb45i"
      }
    },
    {
      "cell_type": "code",
      "source": [
        "instituicao = list((df.drop_duplicates(subset =\"CNPJ do escritório regional/local\", keep = 'last')['CNPJ do escritório regional/local']))"
      ],
      "metadata": {
        "id": "igNxitldb4Si"
      },
      "execution_count": null,
      "outputs": []
    },
    {
      "cell_type": "code",
      "source": [
        "frequencia = []\n",
        "\n",
        "for i in range(0,len(instituicao)):\n",
        "  try:\n",
        "    result = sum(len(i) for i in instituicao[i])\n",
        "    frequencia.append(result)\n",
        "  except:\n",
        "    print('Valor nulo encontrado')\n",
        "\n",
        "counter=collections.Counter(frequencia)\n",
        "\n",
        "print(counter)"
      ],
      "metadata": {
        "id": "Ipvu88bsb4jK",
        "colab": {
          "base_uri": "https://localhost:8080/"
        },
        "outputId": "f3460f18-0d93-4119-dba3-6f2a664d3bfe"
      },
      "execution_count": null,
      "outputs": [
        {
          "output_type": "stream",
          "name": "stdout",
          "text": [
            "Valor nulo encontrado\n",
            "Counter({True: 430})\n"
          ]
        }
      ]
    },
    {
      "cell_type": "markdown",
      "source": [
        "# Tipo da forma de abastecimento"
      ],
      "metadata": {
        "id": "oUYE98rJcJap"
      }
    },
    {
      "cell_type": "code",
      "source": [
        "df['Tipo da Forma de Abastecimento'].value_counts()"
      ],
      "metadata": {
        "id": "2DUOu1AwcFOK",
        "colab": {
          "base_uri": "https://localhost:8080/"
        },
        "outputId": "f26fabd1-cf54-4a7c-d710-ac25ded77ee3"
      },
      "execution_count": null,
      "outputs": [
        {
          "output_type": "execute_result",
          "data": {
            "text/plain": [
              "SAC    4451829\n",
              "SAA    4230404\n",
              "Name: Tipo da Forma de Abastecimento, dtype: int64"
            ]
          },
          "metadata": {},
          "execution_count": 25
        }
      ]
    },
    {
      "cell_type": "markdown",
      "source": [
        "### Conferindo se tem nome preenchido apenas com números"
      ],
      "metadata": {
        "id": "eqYZheobcdzi"
      }
    },
    {
      "cell_type": "code",
      "source": [
        "instituicao = list((df.drop_duplicates(subset =\"Nome da Forma de Abastecimento\", keep = 'last')['Nome da Forma de Abastecimento']))"
      ],
      "metadata": {
        "id": "UtEKlRKPcm-g"
      },
      "execution_count": null,
      "outputs": []
    },
    {
      "cell_type": "code",
      "source": [
        "import collections\n",
        "\n",
        "frequencia = []\n",
        "\n",
        "for i in range(0,len(instituicao)):\n",
        "  try:\n",
        "    result = instituicao[i].isdigit()\n",
        "    frequencia.append(result)\n",
        "  except:\n",
        "    print('Valor nulo encontrado')\n",
        "\n",
        "counter=collections.Counter(frequencia)\n",
        "\n",
        "print(counter)"
      ],
      "metadata": {
        "id": "vmviYIplcpgA",
        "colab": {
          "base_uri": "https://localhost:8080/"
        },
        "outputId": "008134e9-263d-4cab-f623-6d7c337af9b8"
      },
      "execution_count": null,
      "outputs": [
        {
          "output_type": "stream",
          "name": "stdout",
          "text": [
            "Counter({False: 21852, True: 6})\n"
          ]
        }
      ]
    },
    {
      "cell_type": "markdown",
      "source": [
        "# Análise do ano de referência"
      ],
      "metadata": {
        "id": "35JRIrTEc0xK"
      }
    },
    {
      "cell_type": "code",
      "source": [
        "df['Ano de referência'].value_counts()"
      ],
      "metadata": {
        "id": "TRvhhTeTc3Yg",
        "colab": {
          "base_uri": "https://localhost:8080/"
        },
        "outputId": "a26b1278-f30b-4c09-f360-a4f50b2b702e"
      },
      "execution_count": null,
      "outputs": [
        {
          "output_type": "execute_result",
          "data": {
            "text/plain": [
              "2021    8682233\n",
              "Name: Ano de referência, dtype: int64"
            ]
          },
          "metadata": {},
          "execution_count": 28
        }
      ]
    },
    {
      "cell_type": "markdown",
      "source": [
        "# Mês de referência"
      ],
      "metadata": {
        "id": "BeSBRV5CdEWq"
      }
    },
    {
      "cell_type": "code",
      "source": [
        "df['Mês de referência'].value_counts()"
      ],
      "metadata": {
        "id": "unA3Um7Uc7FY",
        "colab": {
          "base_uri": "https://localhost:8080/"
        },
        "outputId": "c5292644-783b-49aa-871b-b18bca29461b"
      },
      "execution_count": null,
      "outputs": [
        {
          "output_type": "execute_result",
          "data": {
            "text/plain": [
              "1     895495\n",
              "6     891754\n",
              "2     886461\n",
              "4     882608\n",
              "3     880464\n",
              "5     871668\n",
              "7     871151\n",
              "8     853633\n",
              "9     816077\n",
              "10    717191\n",
              "11    115074\n",
              "12       657\n",
              "Name: Mês de referência, dtype: int64"
            ]
          },
          "metadata": {},
          "execution_count": 29
        }
      ]
    },
    {
      "cell_type": "markdown",
      "source": [
        "# Ponto de Monitoramento"
      ],
      "metadata": {
        "id": "RutyrwJWdKN4"
      }
    },
    {
      "cell_type": "code",
      "source": [
        "df['Ponto de Monitoramento'].value_counts()"
      ],
      "metadata": {
        "id": "6tWdMbxkdLPw",
        "colab": {
          "base_uri": "https://localhost:8080/"
        },
        "outputId": "eb758672-8a30-4e25-f130-3c19f2ed3a1e"
      },
      "execution_count": null,
      "outputs": [
        {
          "output_type": "execute_result",
          "data": {
            "text/plain": [
              "SAÍDA DO TRATAMENTO                           2210852\n",
              "PONTO DE CONSUMO                              2201044\n",
              "Saída do tratamento (para água canalizada)    2166935\n",
              "SISTEMA DE DISTRIBUIÇÃO                       1669632\n",
              "Pós-filtração ou Pré-desinfecção               433770\n",
              "Name: Ponto de Monitoramento, dtype: int64"
            ]
          },
          "metadata": {},
          "execution_count": 30
        }
      ]
    },
    {
      "cell_type": "markdown",
      "source": [
        "# Campo"
      ],
      "metadata": {
        "id": "DdmwZB57d2FQ"
      }
    },
    {
      "cell_type": "markdown",
      "source": [
        "Existem diferentes classificações na variável, sendo que algumas delas se encontram incompletas"
      ],
      "metadata": {
        "id": "-dKvQMG4eEPH"
      }
    },
    {
      "cell_type": "code",
      "source": [
        "df['Campo'].value_counts()"
      ],
      "metadata": {
        "id": "sL0C_H_Yd3FQ",
        "colab": {
          "base_uri": "https://localhost:8080/"
        },
        "outputId": "7bbc649a-15c4-4bc5-d03f-efd9648f0932"
      },
      "execution_count": null,
      "outputs": [
        {
          "output_type": "execute_result",
          "data": {
            "text/plain": [
              "Número de amostras analisadas                       2312501\n",
              "Percentil 95                                         428082\n",
              "N de amostras com presença de coliformes totais      349172\n",
              "N de amostras com ausência de coliformes totais      349160\n",
              "Número de dados <= 15,0 uH                           346631\n",
              "Número de dados > 15,0 uH                            346629\n",
              "Número de dados < 0,2 mg/L                           345734\n",
              "Número de dados > 2,0 mg/L e <= 5,0mg/L              344163\n",
              "Número de dados >= 0,2 mg/L e <= 2,0mg/L             344162\n",
              "Número de dados > 5,0 mg/L                           344161\n",
              "N de amostras com presença para Escherichia coli     339149\n",
              "N de amostras com ausência para Escherichia coli     339144\n",
              "Número de dados > 9,0                                316880\n",
              "Número de dados >= 6,0 e <= 9,0                      316879\n",
              "Número de dados < 6,0                                316879\n",
              "Número de dados > 5,0 uT                             261577\n",
              "Número de dados <= 5,0 uT                            261574\n",
              "Número de dados <= 1,5 mg/L                          145725\n",
              "Número de dados > 1,5 mg/L                           145724\n",
              "Número de dados <                                     84918\n",
              "Número de dados >=                                    84918\n",
              "Número de dados >                                     84918\n",
              "Número de dados > 0,3 uT e <= 0,5 uT                  76288\n",
              "Número de dados > 0,5 uT e <= 1,0 uT                  76285\n",
              "Número de dados > 1,0 uT                              76285\n",
              "Número de dados <= 0,3 uT                             76284\n",
              "Média das temperaturas máximas diárias(°C)            67728\n",
              "Número de resultados > 500 UFC/mL                     48210\n",
              "Número de resultados < 500 UFC/mL                     48210\n",
              "Número de dados > 1,0 mg/L                             1572\n",
              "Número de dados >= 0,2 mg/L e <= 1,0 mg/L              1572\n",
              "Número de dados > 4,0 mg/L                              373\n",
              "Número de dados < 2,0 mg/L                              373\n",
              "Número de dados >= 2,0 mg/L e <= 4,0 mg/L               373\n",
              "Name: Campo, dtype: int64"
            ]
          },
          "metadata": {},
          "execution_count": 31
        }
      ]
    },
    {
      "cell_type": "markdown",
      "source": [
        "# Valor"
      ],
      "metadata": {
        "id": "i9pT4A8qeLtA"
      }
    },
    {
      "cell_type": "code",
      "source": [
        "Valor = list((df.drop_duplicates(subset =\"Valor\", keep = 'last')['Valor']))"
      ],
      "metadata": {
        "id": "HRBbYzqUeP5P"
      },
      "execution_count": null,
      "outputs": []
    },
    {
      "cell_type": "code",
      "source": [
        "frequencia = []\n",
        "\n",
        "for i in range(0,len(Valor)):\n",
        "  try:\n",
        "    result = isinstance(Valor[i], str)\n",
        "    frequencia.append(result)\n",
        "  except:\n",
        "    print('Valor nulo encontrado')\n",
        "\n",
        "counter=collections.Counter(frequencia)\n",
        "\n",
        "print(counter)"
      ],
      "metadata": {
        "id": "HetyWOqbeaiq",
        "colab": {
          "base_uri": "https://localhost:8080/"
        },
        "outputId": "14184efb-4767-401d-e3c3-9176bb7f0477"
      },
      "execution_count": null,
      "outputs": [
        {
          "output_type": "stream",
          "name": "stdout",
          "text": [
            "Counter({False: 11888})\n"
          ]
        }
      ]
    },
    {
      "cell_type": "markdown",
      "source": [
        "# Realizando a busca pela chave primária"
      ],
      "metadata": {
        "id": "zHmxiMM3PbLi"
      }
    },
    {
      "cell_type": "code",
      "source": [
        "(df.groupby(['Código Forma de abastecimento', 'Município','Mês de referência','Ponto de Monitoramento','Tipo de Filtração','Parâmetro','Campo']).size()).value_counts()"
      ],
      "metadata": {
        "colab": {
          "base_uri": "https://localhost:8080/"
        },
        "id": "4cq_V6yIPgEI",
        "outputId": "f2c5dbe2-df20-4b74-9e1c-9a9dd1047e00"
      },
      "execution_count": null,
      "outputs": [
        {
          "output_type": "execute_result",
          "data": {
            "text/plain": [
              "1     3778338\n",
              "2       47254\n",
              "3       17733\n",
              "4        9322\n",
              "5        6058\n",
              "6        3307\n",
              "7        2511\n",
              "8        1818\n",
              "9        1741\n",
              "11        793\n",
              "10        771\n",
              "12        737\n",
              "15        506\n",
              "17        448\n",
              "23        309\n",
              "21        281\n",
              "16        278\n",
              "13        233\n",
              "14        182\n",
              "19        158\n",
              "27        126\n",
              "26        109\n",
              "20        101\n",
              "30         78\n",
              "18         73\n",
              "22         68\n",
              "24         62\n",
              "29         49\n",
              "25         48\n",
              "28          5\n",
              "dtype: int64"
            ]
          },
          "metadata": {},
          "execution_count": 50
        }
      ]
    }
  ]
}