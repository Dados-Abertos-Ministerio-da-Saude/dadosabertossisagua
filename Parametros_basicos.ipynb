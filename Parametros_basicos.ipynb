{
  "nbformat": 4,
  "nbformat_minor": 0,
  "metadata": {
    "colab": {
      "name": "Parametros_basicos.ipynb",
      "provenance": [],
      "collapsed_sections": []
    },
    "kernelspec": {
      "name": "python3",
      "display_name": "Python 3"
    },
    "language_info": {
      "name": "python"
    }
  },
  "cells": [
    {
      "cell_type": "markdown",
      "source": [
        "# Realizando a conexão com o driver"
      ],
      "metadata": {
        "id": "hepBVSigzkw3"
      }
    },
    {
      "cell_type": "code",
      "execution_count": 3,
      "metadata": {
        "colab": {
          "base_uri": "https://localhost:8080/"
        },
        "id": "B10cq15czCcf",
        "outputId": "366860c4-c187-4d93-94e5-3537b95e1dec"
      },
      "outputs": [
        {
          "output_type": "stream",
          "name": "stdout",
          "text": [
            "Mounted at /gdrive\n"
          ]
        }
      ],
      "source": [
        "from google.colab import drive\n",
        "drive.mount('/gdrive', force_remount=True)"
      ]
    },
    {
      "cell_type": "code",
      "source": [
        "%cd '/gdrive/My Drive/PDFS'\n",
        "%ls"
      ],
      "metadata": {
        "colab": {
          "base_uri": "https://localhost:8080/"
        },
        "id": "81X9j5bMz5wf",
        "outputId": "26dcee4f-d9eb-4629-aa91-c3a0f682e59b"
      },
      "execution_count": 4,
      "outputs": [
        {
          "output_type": "stream",
          "name": "stdout",
          "text": [
            "/gdrive/My Drive/PDFS\n",
            "'comorbidades  com doses  e data..csv'\n",
            " comorbidade.txt\n",
            " Contador_ID.txt\n",
            " controle_mensal_amostras_fora_padrao.csv\n",
            " controle_mensal_infraestrutura_operacionais.csv\n",
            "'dados publicacao.csv'\n",
            " Download_arquivos_01_11_2021.txt\n",
            " Download_arquivos_28_10_2021.txt\n",
            " Download_arquivos_29_10_2021.txt\n",
            " Download_arquivos_31_10_2021.txt\n",
            " new.csv\n"
          ]
        }
      ]
    },
    {
      "cell_type": "markdown",
      "source": [
        "# Importando a base de dados"
      ],
      "metadata": {
        "id": "ijTsH9UBz5Cg"
      }
    },
    {
      "cell_type": "code",
      "source": [
        "import zipfile\n",
        "import pandas as pd\n",
        "import time\n",
        "\n",
        "# Realizando o download da base\n",
        "\n",
        "dados = !wget --no-check-certificate https://sage.saude.gov.br/dados/sisagua/controle_mensal_parametros_basicos_2021.zip\n",
        "\n",
        "# Pegando os CSV's que se encontravam zipados\n",
        "\n",
        "with zipfile.ZipFile('controle_mensal_parametros_basicos_2021.zip',\"r\") as zip_ref:\n",
        "    zip_ref.extractall(\"Sisagua\")\n",
        "\n",
        "time.sleep(20)\n",
        "\n",
        "%cd 'Sisagua'\n",
        "%ls\n",
        "\n",
        "# Lendo o Dataframe\n",
        "\n",
        "df = pd.read_csv('controle_mensal_parametros_basicos_2021.csv', encoding='latin_1',sep=';',decimal=',',\n",
        "                 dtype={'Código IBGE':'object','CNPJ da Instituição':'object',r'CNPJ do escritório regional/local':'object'})"
      ],
      "metadata": {
        "id": "V_oAokW4z-Gu"
      },
      "execution_count": 5,
      "outputs": []
    },
    {
      "cell_type": "markdown",
      "source": [
        "# Visão geral do formato das colunas"
      ],
      "metadata": {
        "id": "jTLPJK5I2DEX"
      }
    },
    {
      "cell_type": "code",
      "source": [
        "df.info()"
      ],
      "metadata": {
        "colab": {
          "base_uri": "https://localhost:8080/"
        },
        "id": "Oi-lLapz2EvQ",
        "outputId": "243284c9-39ee-40fa-e57d-5758d558e3da"
      },
      "execution_count": 8,
      "outputs": [
        {
          "output_type": "stream",
          "name": "stdout",
          "text": [
            "<class 'pandas.core.frame.DataFrame'>\n",
            "RangeIndex: 9659708 entries, 0 to 9659707\n",
            "Data columns (total 22 columns):\n",
            " #   Column                             Dtype  \n",
            "---  ------                             -----  \n",
            " 0   Região Geográfica                  object \n",
            " 1   UF                                 object \n",
            " 2   Regional de Saúde                  object \n",
            " 3   Código IBGE                        object \n",
            " 4   Município                          object \n",
            " 5   Tipo da Instituição                object \n",
            " 6   Sigla da Instituição               object \n",
            " 7   Nome da Instituição                object \n",
            " 8   CNPJ da Instituição                object \n",
            " 9   Nome do escritório regional/local  object \n",
            " 10  CNPJ do escritório regional/local  object \n",
            " 11  Tipo da Forma de Abastecimento     object \n",
            " 12  Código Forma de abastecimento      object \n",
            " 13  Nome da Forma de Abastecimento     object \n",
            " 14  Nome da ETA / UTA                  object \n",
            " 15  Tipo de Filtração                  object \n",
            " 16  Ano de referência                  int64  \n",
            " 17  Mês de referência                  int64  \n",
            " 18  Ponto de Monitoramento             object \n",
            " 19  Parâmetro                          object \n",
            " 20  Campo                              object \n",
            " 21  Valor                              float64\n",
            "dtypes: float64(1), int64(2), object(19)\n",
            "memory usage: 1.6+ GB\n"
          ]
        }
      ]
    },
    {
      "cell_type": "markdown",
      "source": [
        "# Contagem de valores nulos"
      ],
      "metadata": {
        "id": "wBcfPt-R2HFX"
      }
    },
    {
      "cell_type": "code",
      "source": [
        "df.isnull().astype(int).sum()"
      ],
      "metadata": {
        "colab": {
          "base_uri": "https://localhost:8080/"
        },
        "id": "EpSkduOB2K-f",
        "outputId": "afc7e8df-65b0-43e2-c714-20cd46c41109"
      },
      "execution_count": 9,
      "outputs": [
        {
          "output_type": "execute_result",
          "data": {
            "text/plain": [
              "Região Geográfica                          0\n",
              "UF                                         0\n",
              "Regional de Saúde                          0\n",
              "Código IBGE                                0\n",
              "Município                                  0\n",
              "Tipo da Instituição                   154570\n",
              "Sigla da Instituição                 6108577\n",
              "Nome da Instituição                   154570\n",
              "CNPJ da Instituição                   154570\n",
              "Nome do escritório regional/local    6108577\n",
              "CNPJ do escritório regional/local    6108577\n",
              "Tipo da Forma de Abastecimento             0\n",
              "Código Forma de abastecimento              0\n",
              "Nome da Forma de Abastecimento             0\n",
              "Nome da ETA / UTA                    6823359\n",
              "Tipo de Filtração                    1875811\n",
              "Ano de referência                          0\n",
              "Mês de referência                          0\n",
              "Ponto de Monitoramento                     0\n",
              "Parâmetro                                  0\n",
              "Campo                                      0\n",
              "Valor                                      0\n",
              "dtype: int64"
            ]
          },
          "metadata": {},
          "execution_count": 9
        }
      ]
    },
    {
      "cell_type": "markdown",
      "source": [
        "# Conferindo se existem 27 UF's"
      ],
      "metadata": {
        "id": "AfrV-fHm2M4P"
      }
    },
    {
      "cell_type": "code",
      "source": [
        "df['UF'].value_counts()"
      ],
      "metadata": {
        "colab": {
          "base_uri": "https://localhost:8080/"
        },
        "id": "zPFVRCTJ2Puf",
        "outputId": "84375265-d990-4f83-f5a5-44ad0acf0974"
      },
      "execution_count": 10,
      "outputs": [
        {
          "output_type": "execute_result",
          "data": {
            "text/plain": [
              "SP    4575825\n",
              "RS    1505002\n",
              "PR     779998\n",
              "MG     731207\n",
              "SC     345059\n",
              "BA     334077\n",
              "GO     174130\n",
              "CE     162760\n",
              "MA     159844\n",
              "MS     130281\n",
              "MT     124403\n",
              "TO     124363\n",
              "RJ     121795\n",
              "ES      96859\n",
              "AL      56480\n",
              "PE      40446\n",
              "PB      34671\n",
              "DF      31947\n",
              "RN      30443\n",
              "SE      27263\n",
              "PI      19056\n",
              "AM      18613\n",
              "PA      16214\n",
              "RR       9544\n",
              "AC       5470\n",
              "RO       3641\n",
              "AP        317\n",
              "Name: UF, dtype: int64"
            ]
          },
          "metadata": {},
          "execution_count": 10
        }
      ]
    },
    {
      "cell_type": "markdown",
      "source": [
        "# Conferindo se as 5 regiões estão corretas"
      ],
      "metadata": {
        "id": "1MY1TsKt2QkH"
      }
    },
    {
      "cell_type": "code",
      "source": [
        "df['Região Geográfica'].value_counts()"
      ],
      "metadata": {
        "colab": {
          "base_uri": "https://localhost:8080/"
        },
        "id": "fg6jYX1s2SK_",
        "outputId": "3828c427-8ebc-4cc3-ed62-cd980aab4bbf"
      },
      "execution_count": 11,
      "outputs": [
        {
          "output_type": "execute_result",
          "data": {
            "text/plain": [
              "SUDESTE         5525686\n",
              "SUL             2630059\n",
              "NORDESTE         865040\n",
              "CENTRO-OESTE     460761\n",
              "NORTE            178162\n",
              "Name: Região Geográfica, dtype: int64"
            ]
          },
          "metadata": {},
          "execution_count": 11
        }
      ]
    },
    {
      "cell_type": "markdown",
      "source": [
        "# Número de municípios distintos presentes na base"
      ],
      "metadata": {
        "id": "_sRK8QsO2VZn"
      }
    },
    {
      "cell_type": "code",
      "source": [
        "df['Município'].value_counts().count()"
      ],
      "metadata": {
        "colab": {
          "base_uri": "https://localhost:8080/"
        },
        "id": "MSt3_loK2WB2",
        "outputId": "a1bc2fb9-c2aa-476a-a6d8-111ded73b167"
      },
      "execution_count": 12,
      "outputs": [
        {
          "output_type": "execute_result",
          "data": {
            "text/plain": [
              "4313"
            ]
          },
          "metadata": {},
          "execution_count": 12
        }
      ]
    },
    {
      "cell_type": "markdown",
      "source": [
        "# Conferindo se o Código IBGE está indexado corretamente"
      ],
      "metadata": {
        "id": "gKwiZnIN2ain"
      }
    },
    {
      "cell_type": "code",
      "source": [
        "(df.drop_duplicates(subset =\"Código IBGE\", keep = 'last')['Código IBGE']).to_csv('new.csv', index=False)"
      ],
      "metadata": {
        "id": "nwvsZpsa2bLv"
      },
      "execution_count": 13,
      "outputs": []
    },
    {
      "cell_type": "markdown",
      "source": [
        "Existem 31 códigos IBGE que não tiveram correspondência com a base disponibilizada pelo Ministério da saúde, sendo estes:\n",
        "\n",
        "![image.png](data:image/png;base64,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)\n"
      ],
      "metadata": {
        "id": "61KVKUYB2dw_"
      }
    },
    {
      "cell_type": "markdown",
      "source": [
        "Conferindo quais municipios são referentes os códigos do IBGE"
      ],
      "metadata": {
        "id": "xYpp6jY75oGE"
      }
    },
    {
      "cell_type": "code",
      "source": [
        "df[df['Código IBGE']=='530004'].head(1)"
      ],
      "metadata": {
        "colab": {
          "base_uri": "https://localhost:8080/",
          "height": 266
        },
        "id": "F6kfkQk_5oNr",
        "outputId": "085ea8dd-3b09-4df8-9716-1f7f86037257"
      },
      "execution_count": 55,
      "outputs": [
        {
          "output_type": "execute_result",
          "data": {
            "text/html": [
              "\n",
              "  <div id=\"df-3ef8df34-cf53-49ed-bca0-8988fe5981b1\">\n",
              "    <div class=\"colab-df-container\">\n",
              "      <div>\n",
              "<style scoped>\n",
              "    .dataframe tbody tr th:only-of-type {\n",
              "        vertical-align: middle;\n",
              "    }\n",
              "\n",
              "    .dataframe tbody tr th {\n",
              "        vertical-align: top;\n",
              "    }\n",
              "\n",
              "    .dataframe thead th {\n",
              "        text-align: right;\n",
              "    }\n",
              "</style>\n",
              "<table border=\"1\" class=\"dataframe\">\n",
              "  <thead>\n",
              "    <tr style=\"text-align: right;\">\n",
              "      <th></th>\n",
              "      <th>Região Geográfica</th>\n",
              "      <th>UF</th>\n",
              "      <th>Regional de Saúde</th>\n",
              "      <th>Código IBGE</th>\n",
              "      <th>Município</th>\n",
              "      <th>Tipo da Instituição</th>\n",
              "      <th>Sigla da Instituição</th>\n",
              "      <th>Nome da Instituição</th>\n",
              "      <th>CNPJ da Instituição</th>\n",
              "      <th>Nome do escritório regional/local</th>\n",
              "      <th>CNPJ do escritório regional/local</th>\n",
              "      <th>Tipo da Forma de Abastecimento</th>\n",
              "      <th>Código Forma de abastecimento</th>\n",
              "      <th>Nome da Forma de Abastecimento</th>\n",
              "      <th>Nome da ETA / UTA</th>\n",
              "      <th>Tipo de Filtração</th>\n",
              "      <th>Ano de referência</th>\n",
              "      <th>Mês de referência</th>\n",
              "      <th>Ponto de Monitoramento</th>\n",
              "      <th>Parâmetro</th>\n",
              "      <th>Campo</th>\n",
              "      <th>Valor</th>\n",
              "    </tr>\n",
              "  </thead>\n",
              "  <tbody>\n",
              "    <tr>\n",
              "      <th>1699916</th>\n",
              "      <td>CENTRO-OESTE</td>\n",
              "      <td>DF</td>\n",
              "      <td>UNICA</td>\n",
              "      <td>530004</td>\n",
              "      <td>BRAZLANDIA</td>\n",
              "      <td>Regional</td>\n",
              "      <td>CAESB</td>\n",
              "      <td>COMPANHIA DE SANEAMENTO AMBIENTAL DO DISTRITO ...</td>\n",
              "      <td>82024000137</td>\n",
              "      <td>CAESB REGIONAL UNICA</td>\n",
              "      <td>82024000137</td>\n",
              "      <td>SAA</td>\n",
              "      <td>S530004000001</td>\n",
              "      <td>BRAZLÂNDIA</td>\n",
              "      <td>ETA BRAZLÂNDIA (ETA.BRZ.001)</td>\n",
              "      <td>SEM FILTRAÇÃO</td>\n",
              "      <td>2021</td>\n",
              "      <td>2</td>\n",
              "      <td>Pós-filtração ou Pré-desinfecção</td>\n",
              "      <td>Turbidez (uT)</td>\n",
              "      <td>Número de amostras analisadas</td>\n",
              "      <td>672.0</td>\n",
              "    </tr>\n",
              "  </tbody>\n",
              "</table>\n",
              "</div>\n",
              "      <button class=\"colab-df-convert\" onclick=\"convertToInteractive('df-3ef8df34-cf53-49ed-bca0-8988fe5981b1')\"\n",
              "              title=\"Convert this dataframe to an interactive table.\"\n",
              "              style=\"display:none;\">\n",
              "        \n",
              "  <svg xmlns=\"http://www.w3.org/2000/svg\" height=\"24px\"viewBox=\"0 0 24 24\"\n",
              "       width=\"24px\">\n",
              "    <path d=\"M0 0h24v24H0V0z\" fill=\"none\"/>\n",
              "    <path d=\"M18.56 5.44l.94 2.06.94-2.06 2.06-.94-2.06-.94-.94-2.06-.94 2.06-2.06.94zm-11 1L8.5 8.5l.94-2.06 2.06-.94-2.06-.94L8.5 2.5l-.94 2.06-2.06.94zm10 10l.94 2.06.94-2.06 2.06-.94-2.06-.94-.94-2.06-.94 2.06-2.06.94z\"/><path d=\"M17.41 7.96l-1.37-1.37c-.4-.4-.92-.59-1.43-.59-.52 0-1.04.2-1.43.59L10.3 9.45l-7.72 7.72c-.78.78-.78 2.05 0 2.83L4 21.41c.39.39.9.59 1.41.59.51 0 1.02-.2 1.41-.59l7.78-7.78 2.81-2.81c.8-.78.8-2.07 0-2.86zM5.41 20L4 18.59l7.72-7.72 1.47 1.35L5.41 20z\"/>\n",
              "  </svg>\n",
              "      </button>\n",
              "      \n",
              "  <style>\n",
              "    .colab-df-container {\n",
              "      display:flex;\n",
              "      flex-wrap:wrap;\n",
              "      gap: 12px;\n",
              "    }\n",
              "\n",
              "    .colab-df-convert {\n",
              "      background-color: #E8F0FE;\n",
              "      border: none;\n",
              "      border-radius: 50%;\n",
              "      cursor: pointer;\n",
              "      display: none;\n",
              "      fill: #1967D2;\n",
              "      height: 32px;\n",
              "      padding: 0 0 0 0;\n",
              "      width: 32px;\n",
              "    }\n",
              "\n",
              "    .colab-df-convert:hover {\n",
              "      background-color: #E2EBFA;\n",
              "      box-shadow: 0px 1px 2px rgba(60, 64, 67, 0.3), 0px 1px 3px 1px rgba(60, 64, 67, 0.15);\n",
              "      fill: #174EA6;\n",
              "    }\n",
              "\n",
              "    [theme=dark] .colab-df-convert {\n",
              "      background-color: #3B4455;\n",
              "      fill: #D2E3FC;\n",
              "    }\n",
              "\n",
              "    [theme=dark] .colab-df-convert:hover {\n",
              "      background-color: #434B5C;\n",
              "      box-shadow: 0px 1px 3px 1px rgba(0, 0, 0, 0.15);\n",
              "      filter: drop-shadow(0px 1px 2px rgba(0, 0, 0, 0.3));\n",
              "      fill: #FFFFFF;\n",
              "    }\n",
              "  </style>\n",
              "\n",
              "      <script>\n",
              "        const buttonEl =\n",
              "          document.querySelector('#df-3ef8df34-cf53-49ed-bca0-8988fe5981b1 button.colab-df-convert');\n",
              "        buttonEl.style.display =\n",
              "          google.colab.kernel.accessAllowed ? 'block' : 'none';\n",
              "\n",
              "        async function convertToInteractive(key) {\n",
              "          const element = document.querySelector('#df-3ef8df34-cf53-49ed-bca0-8988fe5981b1');\n",
              "          const dataTable =\n",
              "            await google.colab.kernel.invokeFunction('convertToInteractive',\n",
              "                                                     [key], {});\n",
              "          if (!dataTable) return;\n",
              "\n",
              "          const docLinkHtml = 'Like what you see? Visit the ' +\n",
              "            '<a target=\"_blank\" href=https://colab.research.google.com/notebooks/data_table.ipynb>data table notebook</a>'\n",
              "            + ' to learn more about interactive tables.';\n",
              "          element.innerHTML = '';\n",
              "          dataTable['output_type'] = 'display_data';\n",
              "          await google.colab.output.renderOutput(dataTable, element);\n",
              "          const docLink = document.createElement('div');\n",
              "          docLink.innerHTML = docLinkHtml;\n",
              "          element.appendChild(docLink);\n",
              "        }\n",
              "      </script>\n",
              "    </div>\n",
              "  </div>\n",
              "  "
            ],
            "text/plain": [
              "        Região Geográfica  UF  ...                          Campo  Valor\n",
              "1699916      CENTRO-OESTE  DF  ...  Número de amostras analisadas  672.0\n",
              "\n",
              "[1 rows x 22 columns]"
            ]
          },
          "metadata": {},
          "execution_count": 55
        }
      ]
    },
    {
      "cell_type": "markdown",
      "source": [
        "# Tipos de instituições presentes na base"
      ],
      "metadata": {
        "id": "kcBp5qeb5uDz"
      }
    },
    {
      "cell_type": "code",
      "source": [
        "df['Tipo da Instituição'].value_counts()"
      ],
      "metadata": {
        "colab": {
          "base_uri": "https://localhost:8080/"
        },
        "id": "FIuKls4S5vMr",
        "outputId": "adb565a2-41eb-4a29-f7e1-45312e750ce9"
      },
      "execution_count": 15,
      "outputs": [
        {
          "output_type": "execute_result",
          "data": {
            "text/plain": [
              "Local       5954007\n",
              "Regional    3551131\n",
              "Name: Tipo da Instituição, dtype: int64"
            ]
          },
          "metadata": {},
          "execution_count": 15
        }
      ]
    },
    {
      "cell_type": "markdown",
      "source": [
        "# Siglas das 66 instituições presentes no banco com suas respectivas frequências"
      ],
      "metadata": {
        "id": "_MTewFJC5wm3"
      }
    },
    {
      "cell_type": "markdown",
      "source": [
        "Algumas siglas se encontram cortadas ou com presença de espaçamentos na sua escrita"
      ],
      "metadata": {
        "id": "OHlzJcLn5ypD"
      }
    },
    {
      "cell_type": "code",
      "source": [
        "pd.options.display.max_rows=1000"
      ],
      "metadata": {
        "id": "OmiVqP8-5zc0"
      },
      "execution_count": 16,
      "outputs": []
    },
    {
      "cell_type": "code",
      "source": [
        "df['Sigla da Instituição'].value_counts()"
      ],
      "metadata": {
        "colab": {
          "base_uri": "https://localhost:8080/"
        },
        "id": "XNZ7IoFI50WT",
        "outputId": "c25ddf79-026a-4923-9d8a-7f2862484071"
      },
      "execution_count": 17,
      "outputs": [
        {
          "output_type": "execute_result",
          "data": {
            "text/plain": [
              "SABESP        430117\n",
              "COPASA        367384\n",
              "SANEPAR       365644\n",
              "CORSAN        343063\n",
              "EMBASA        291492\n",
              "CASAN         163198\n",
              "SANEAGO       146725\n",
              "CAGECE        113773\n",
              "LACUA SIST    107730\n",
              "ESSENCIAL      93823\n",
              "KF             92950\n",
              "FV             83348\n",
              "SANESUL        77503\n",
              "SANEATINS      71400\n",
              "CESAN          52752\n",
              "ARTIBRAS       43602\n",
              "COMPESA        34102\n",
              "SISAR          33496\n",
              "LABORPLAN      33164\n",
              "CAESB          31947\n",
              "CEDAE          31786\n",
              "COPANOR        30830\n",
              "HIDROFORTE     30439\n",
              "CAGEPA         30153\n",
              "CAEMA          30014\n",
              "CAERN          29284\n",
              "AGUA E SOL     28194\n",
              "DESO           25546\n",
              "ATS            25316\n",
              "PRECISAO T     21826\n",
              "ECO DIEHL      17207\n",
              "BRK AMBIEN     16100\n",
              "LICS R         15118\n",
              "CASAL          15047\n",
              "ENTREVIAS      14703\n",
              "VPAULISTA      13929\n",
              "BIOSUL         12783\n",
              "AUTOBAN        12317\n",
              "CART           12047\n",
              "SOFT SUL P     11574\n",
              "SPVIAS         11360\n",
              "AB TRIANGU      7743\n",
              "COSAMA          7129\n",
              "GRILLO          6915\n",
              "RENOVIAS        5949\n",
              "EDSON LUIS      5738\n",
              "AB COLINAS      5706\n",
              "INTERVIAS       5358\n",
              "DEPASA          5216\n",
              "REGIS BITT      5058\n",
              "LIGIANE A       4938\n",
              "RDB             4805\n",
              "AGESPISA        4606\n",
              "MUNDO D A       4260\n",
              "APPS            4158\n",
              "SIMAE           4092\n",
              "DEBORA B        3698\n",
              "RODOANEL O      3465\n",
              "H2O             3051\n",
              "CTEEP           3022\n",
              "WETTA SAUD      2957\n",
              "TIETE           2772\n",
              "VIARONDON       2759\n",
              "CRISTAL         2686\n",
              "SIMAE2          2547\n",
              "NOVADUTRA       2475\n",
              "SULTECH         2410\n",
              "DESIN           2160\n",
              "VIAOESTE        1980\n",
              "CAERD           1930\n",
              "AP FERNAO       1800\n",
              "PROLAGOS        1683\n",
              "AGJ             1657\n",
              "SPMAR           1652\n",
              "TAMOIOS         1364\n",
              "RAIZEN          1338\n",
              "FL ANALISE      1227\n",
              "ECO PRESER      1033\n",
              "SHO              967\n",
              "ECOPISTAS        937\n",
              "TEBE             923\n",
              "CAER             864\n",
              "IBG CRYO         637\n",
              "COSANPA          554\n",
              "JOSIANE VI       347\n",
              "AGRESTE          301\n",
              "VIAPAR           279\n",
              "HIDROS           250\n",
              "IAPAR            189\n",
              "DALCONT          165\n",
              "02PESQUISA       147\n",
              "HOLUS            142\n",
              "LA FONTANA       131\n",
              "SAAE SGA         112\n",
              "7BIM              23\n",
              "CRISTIANO         21\n",
              "SUSAM             13\n",
              "SEGUP/PA           6\n",
              "Name: Sigla da Instituição, dtype: int64"
            ]
          },
          "metadata": {},
          "execution_count": 17
        }
      ]
    },
    {
      "cell_type": "markdown",
      "source": [
        "# Conferindo se existe nomes de instituições preenchidos como número"
      ],
      "metadata": {
        "id": "901GlsFH589X"
      }
    },
    {
      "cell_type": "code",
      "source": [
        "instituicao = list((df.drop_duplicates(subset =\"Nome da Instituição\", keep = 'last')['Nome da Instituição']))"
      ],
      "metadata": {
        "id": "VCFhEK1M5-Yy"
      },
      "execution_count": 19,
      "outputs": []
    },
    {
      "cell_type": "code",
      "source": [
        "import collections\n",
        "\n",
        "frequencia = []\n",
        "\n",
        "for i in range(0,len(instituicao)):\n",
        "  try:\n",
        "    result = instituicao[i].isdigit()\n",
        "    frequencia.append(result)\n",
        "  except:\n",
        "    print('Valor nulo encontrado')\n",
        "\n",
        "counter=collections.Counter(frequencia)\n",
        "\n",
        "print(counter)"
      ],
      "metadata": {
        "colab": {
          "base_uri": "https://localhost:8080/"
        },
        "id": "0CzwMPmG5_P0",
        "outputId": "0bd6ccca-c636-4ba6-e796-7451ad145b47"
      },
      "execution_count": 20,
      "outputs": [
        {
          "output_type": "stream",
          "name": "stdout",
          "text": [
            "Valor nulo encontrado\n",
            "Counter({False: 8605})\n"
          ]
        }
      ]
    },
    {
      "cell_type": "markdown",
      "source": [
        "# Conferindo se possui string na variavel CNPJ"
      ],
      "metadata": {
        "id": "j8orGLbj6BFh"
      }
    },
    {
      "cell_type": "code",
      "source": [
        "CNPJ = list((df.drop_duplicates(subset =\"CNPJ da Instituição\", keep = 'last')['CNPJ da Instituição']))"
      ],
      "metadata": {
        "id": "IRDFbR7i6DaZ"
      },
      "execution_count": 21,
      "outputs": []
    },
    {
      "cell_type": "code",
      "source": [
        "frequencia = []\n",
        "\n",
        "for i in range(0,len(CNPJ)):\n",
        "  try:\n",
        "    result = isinstance(CNPJ[i], str)\n",
        "    frequencia.append(result)\n",
        "  except:\n",
        "    print('Valor nulo encontrado')\n",
        "\n",
        "counter=collections.Counter(frequencia)\n",
        "\n",
        "print(counter)"
      ],
      "metadata": {
        "colab": {
          "base_uri": "https://localhost:8080/"
        },
        "id": "Sfx9z9HJ6ElJ",
        "outputId": "e621311d-583d-412f-d40b-a6bf165211fa"
      },
      "execution_count": 22,
      "outputs": [
        {
          "output_type": "stream",
          "name": "stdout",
          "text": [
            "Counter({True: 9113, False: 1})\n"
          ]
        }
      ]
    },
    {
      "cell_type": "markdown",
      "source": [
        "# Analisando o tamanho dos CNPJ's"
      ],
      "metadata": {
        "id": "dK1TuM1b6GCh"
      }
    },
    {
      "cell_type": "code",
      "source": [
        "frequencia = []\n",
        "\n",
        "for i in range(0,len(CNPJ)):\n",
        "  try:\n",
        "    result = sum(len(i) for i in CNPJ[i])\n",
        "    frequencia.append(result)\n",
        "  except:\n",
        "    print('Valor nulo encontrado')\n",
        "\n",
        "counter=collections.Counter(frequencia)\n",
        "\n",
        "print(counter)"
      ],
      "metadata": {
        "colab": {
          "base_uri": "https://localhost:8080/"
        },
        "id": "sLPMDdnI6H9a",
        "outputId": "d5efd672-5a6d-453c-c850-a7e1ed1e0ec4"
      },
      "execution_count": 23,
      "outputs": [
        {
          "output_type": "stream",
          "name": "stdout",
          "text": [
            "Valor nulo encontrado\n",
            "Counter({14: 5998, 13: 2795, 12: 293, 11: 21, 10: 4, 9: 2})\n"
          ]
        }
      ]
    },
    {
      "cell_type": "markdown",
      "source": [
        "# Conferindo se o nome da instituição regional / local esta preenchido como string"
      ],
      "metadata": {
        "id": "zeTayd7J6MTy"
      }
    },
    {
      "cell_type": "code",
      "source": [
        "instituicao = list((df.drop_duplicates(subset =\"Nome do escritório regional/local\", keep = 'last')['Nome do escritório regional/local']))"
      ],
      "metadata": {
        "id": "yF34xHFz6PYC"
      },
      "execution_count": 56,
      "outputs": []
    },
    {
      "cell_type": "code",
      "source": [
        "import collections\n",
        "\n",
        "frequencia = []\n",
        "\n",
        "for i in range(0,len(instituicao)):\n",
        "  try:\n",
        "    result = instituicao[i].isdigit()\n",
        "    frequencia.append(result)\n",
        "  except:\n",
        "    print('Valor nulo encontrado')\n",
        "\n",
        "counter=collections.Counter(frequencia)\n",
        "\n",
        "print(counter)"
      ],
      "metadata": {
        "colab": {
          "base_uri": "https://localhost:8080/"
        },
        "id": "_vbTEOfB6QnD",
        "outputId": "8245e25c-b65c-43dd-fb15-9139c1296f64"
      },
      "execution_count": 59,
      "outputs": [
        {
          "output_type": "stream",
          "name": "stdout",
          "text": [
            "Valor nulo encontrado\n",
            "Counter({False: 613})\n"
          ]
        }
      ]
    },
    {
      "cell_type": "markdown",
      "source": [
        "# Conferindo se possui valores textuais na variavel CNPJ do escritório regional/local"
      ],
      "metadata": {
        "id": "ARkopGJM8k1V"
      }
    },
    {
      "cell_type": "code",
      "source": [
        "CNPJ = list((df.drop_duplicates(subset =\"CNPJ do escritório regional/local\", keep = 'last')['CNPJ do escritório regional/local']))"
      ],
      "metadata": {
        "id": "szqdvkdv8mGi"
      },
      "execution_count": 57,
      "outputs": []
    },
    {
      "cell_type": "code",
      "source": [
        "frequencia = []\n",
        "\n",
        "for i in range(0,len(CNPJ)):\n",
        "  try:\n",
        "    result = isinstance(CNPJ[i], str)\n",
        "    frequencia.append(result)\n",
        "  except:\n",
        "    print('Valor nulo encontrado')\n",
        "\n",
        "counter=collections.Counter(frequencia)\n",
        "\n",
        "print(counter)"
      ],
      "metadata": {
        "colab": {
          "base_uri": "https://localhost:8080/"
        },
        "id": "P9jHnVhZ8nRV",
        "outputId": "071bfbc6-363a-4d8b-f62f-deda443d5399"
      },
      "execution_count": 58,
      "outputs": [
        {
          "output_type": "stream",
          "name": "stdout",
          "text": [
            "Counter({True: 432, False: 1})\n"
          ]
        }
      ]
    },
    {
      "cell_type": "markdown",
      "source": [
        "# Conferindo a frequência de caracteres na variável CNPJ do escritório regional/local"
      ],
      "metadata": {
        "id": "UIQg7rgc8snd"
      }
    },
    {
      "cell_type": "code",
      "source": [
        "instituicao = list((df.drop_duplicates(subset =\"CNPJ do escritório regional/local\", keep = 'last')['CNPJ do escritório regional/local']))"
      ],
      "metadata": {
        "id": "oC_Qf-pT8xIt"
      },
      "execution_count": 60,
      "outputs": []
    },
    {
      "cell_type": "code",
      "source": [
        "frequencia = []\n",
        "\n",
        "for i in range(0,len(instituicao)):\n",
        "  try:\n",
        "    result = sum(len(i) for i in instituicao[i])\n",
        "    frequencia.append(result)\n",
        "  except:\n",
        "    print('Valor nulo encontrado')\n",
        "\n",
        "counter=collections.Counter(frequencia)\n",
        "\n",
        "print(counter)"
      ],
      "metadata": {
        "colab": {
          "base_uri": "https://localhost:8080/"
        },
        "id": "TU9OpLh58yE2",
        "outputId": "62bf3a07-ef38-4374-bde0-c2d500c50d5d"
      },
      "execution_count": 61,
      "outputs": [
        {
          "output_type": "stream",
          "name": "stdout",
          "text": [
            "Valor nulo encontrado\n",
            "Counter({14: 352, 13: 76, 12: 3, 11: 1})\n"
          ]
        }
      ]
    },
    {
      "cell_type": "markdown",
      "source": [
        "# Tipo da forma de abastecimento"
      ],
      "metadata": {
        "id": "uxeaOVJg80Cf"
      }
    },
    {
      "cell_type": "code",
      "source": [
        "df['Tipo da Forma de Abastecimento'].value_counts()"
      ],
      "metadata": {
        "colab": {
          "base_uri": "https://localhost:8080/"
        },
        "id": "2ClgexXd80sP",
        "outputId": "92393a12-b14d-467f-ad35-8e1fd96d116d"
      },
      "execution_count": 62,
      "outputs": [
        {
          "output_type": "execute_result",
          "data": {
            "text/plain": [
              "SAC    4947548\n",
              "SAA    4712160\n",
              "Name: Tipo da Forma de Abastecimento, dtype: int64"
            ]
          },
          "metadata": {},
          "execution_count": 62
        }
      ]
    },
    {
      "cell_type": "markdown",
      "source": [
        "# Conferindo se tem nome preenchido apenas com números"
      ],
      "metadata": {
        "id": "_i1RJWmM81sv"
      }
    },
    {
      "cell_type": "code",
      "source": [
        "instituicao = list((df.drop_duplicates(subset =\"Nome da Forma de Abastecimento\", keep = 'last')['Nome da Forma de Abastecimento']))"
      ],
      "metadata": {
        "id": "m65tZ8MY83sH"
      },
      "execution_count": 63,
      "outputs": []
    },
    {
      "cell_type": "code",
      "source": [
        "import collections\n",
        "\n",
        "frequencia = []\n",
        "\n",
        "for i in range(0,len(instituicao)):\n",
        "  try:\n",
        "    result = instituicao[i].isdigit()\n",
        "    frequencia.append(result)\n",
        "  except:\n",
        "    print('Valor nulo encontrado')\n",
        "\n",
        "counter=collections.Counter(frequencia)\n",
        "\n",
        "print(counter)"
      ],
      "metadata": {
        "colab": {
          "base_uri": "https://localhost:8080/"
        },
        "id": "rEAj9H7s83vY",
        "outputId": "c1a1c483-62e0-40b2-ccac-f3f4022d57a5"
      },
      "execution_count": 64,
      "outputs": [
        {
          "output_type": "stream",
          "name": "stdout",
          "text": [
            "Counter({False: 22229, True: 6})\n"
          ]
        }
      ]
    },
    {
      "cell_type": "markdown",
      "source": [
        "# Análise do ano de referência"
      ],
      "metadata": {
        "id": "pk0UZDhV881Y"
      }
    },
    {
      "cell_type": "code",
      "source": [
        "df['Ano de referência'].value_counts()"
      ],
      "metadata": {
        "colab": {
          "base_uri": "https://localhost:8080/"
        },
        "id": "6aWYU6FY895o",
        "outputId": "39461e34-8bbf-4753-d28a-77644553d749"
      },
      "execution_count": 65,
      "outputs": [
        {
          "output_type": "execute_result",
          "data": {
            "text/plain": [
              "2021    9659708\n",
              "Name: Ano de referência, dtype: int64"
            ]
          },
          "metadata": {},
          "execution_count": 65
        }
      ]
    },
    {
      "cell_type": "markdown",
      "source": [
        "# Mês de referência\n",
        "\n"
      ],
      "metadata": {
        "id": "Z893JiU68_WY"
      }
    },
    {
      "cell_type": "code",
      "source": [
        "df['Mês de referência'].value_counts()"
      ],
      "metadata": {
        "colab": {
          "base_uri": "https://localhost:8080/"
        },
        "id": "GK4zFsfP9B3g",
        "outputId": "8eaaae97-95e5-44cf-b86c-27a1e39c1a7a"
      },
      "execution_count": 66,
      "outputs": [
        {
          "output_type": "execute_result",
          "data": {
            "text/plain": [
              "6     907230\n",
              "1     902309\n",
              "2     893761\n",
              "4     891872\n",
              "7     890492\n",
              "3     888826\n",
              "8     884845\n",
              "5     883359\n",
              "9     865828\n",
              "10    817008\n",
              "11    713458\n",
              "12    120720\n",
              "Name: Mês de referência, dtype: int64"
            ]
          },
          "metadata": {},
          "execution_count": 66
        }
      ]
    },
    {
      "cell_type": "markdown",
      "source": [
        "# Ponto de Monitoramento"
      ],
      "metadata": {
        "id": "_FXbpqUe9DqU"
      }
    },
    {
      "cell_type": "code",
      "source": [
        "df['Ponto de Monitoramento'].value_counts()"
      ],
      "metadata": {
        "colab": {
          "base_uri": "https://localhost:8080/"
        },
        "id": "t-ZOLJ6e9F6s",
        "outputId": "d5d55953-164b-4b42-ff23-7a009ea241a6"
      },
      "execution_count": 67,
      "outputs": [
        {
          "output_type": "execute_result",
          "data": {
            "text/plain": [
              "SAÍDA DO TRATAMENTO                           2464109\n",
              "PONTO DE CONSUMO                              2444267\n",
              "Saída do tratamento (para água canalizada)    2410622\n",
              "SISTEMA DE DISTRIBUIÇÃO                       1856916\n",
              "Pós-filtração ou Pré-desinfecção               483794\n",
              "Name: Ponto de Monitoramento, dtype: int64"
            ]
          },
          "metadata": {},
          "execution_count": 67
        }
      ]
    },
    {
      "cell_type": "markdown",
      "source": [
        "# Campo"
      ],
      "metadata": {
        "id": "PXTuYkuH9HEk"
      }
    },
    {
      "cell_type": "markdown",
      "source": [
        "Existem diferentes classificações na variável, sendo que algumas delas se encontram incompletas"
      ],
      "metadata": {
        "id": "aBJB7yGJ9K9M"
      }
    },
    {
      "cell_type": "code",
      "source": [
        "df['Campo'].value_counts()"
      ],
      "metadata": {
        "colab": {
          "base_uri": "https://localhost:8080/"
        },
        "id": "BjZuqA0W9H78",
        "outputId": "2ca45249-49ec-4e61-cc61-9c303699bc7f"
      },
      "execution_count": 68,
      "outputs": [
        {
          "output_type": "execute_result",
          "data": {
            "text/plain": [
              "Número de amostras analisadas                       2572529\n",
              "Percentil 95                                         476575\n",
              "N de amostras com presença de coliformes totais      388848\n",
              "N de amostras com ausência de coliformes totais      388829\n",
              "Número de dados <= 15,0 uH                           386202\n",
              "Número de dados > 15,0 uH                            386201\n",
              "Número de dados < 0,2 mg/L                           384725\n",
              "Número de dados > 2,0 mg/L e <= 5,0mg/L              383020\n",
              "Número de dados > 5,0 mg/L                           383018\n",
              "Número de dados >= 0,2 mg/L e <= 2,0mg/L             383018\n",
              "N de amostras com presença para Escherichia coli     377427\n",
              "N de amostras com ausência para Escherichia coli     377418\n",
              "Número de dados > 9,0                                352971\n",
              "Número de dados < 6,0                                352969\n",
              "Número de dados >= 6,0 e <= 9,0                      352969\n",
              "Número de dados > 5,0 uT                             290946\n",
              "Número de dados <= 5,0 uT                            290941\n",
              "Número de dados <= 1,5 mg/L                          162063\n",
              "Número de dados > 1,5 mg/L                           162062\n",
              "Número de dados >                                     94507\n",
              "Número de dados >=                                    94507\n",
              "Número de dados <                                     94507\n",
              "Número de dados > 0,3 uT e <= 0,5 uT                  85053\n",
              "Número de dados > 1,0 uT                              85052\n",
              "Número de dados <= 0,3 uT                             85051\n",
              "Número de dados > 0,5 uT e <= 1,0 uT                  85049\n",
              "Média das temperaturas máximas diárias(°C)            75179\n",
              "Número de resultados < 500 UFC/mL                     51666\n",
              "Número de resultados > 500 UFC/mL                     51666\n",
              "Número de dados > 1,0 mg/L                             1707\n",
              "Número de dados >= 0,2 mg/L e <= 1,0 mg/L              1707\n",
              "Número de dados > 4,0 mg/L                              442\n",
              "Número de dados >= 2,0 mg/L e <= 4,0 mg/L               442\n",
              "Número de dados < 2,0 mg/L                              442\n",
              "Name: Campo, dtype: int64"
            ]
          },
          "metadata": {},
          "execution_count": 68
        }
      ]
    },
    {
      "cell_type": "markdown",
      "source": [
        "# Valor"
      ],
      "metadata": {
        "id": "v6Wc6LM59NNs"
      }
    },
    {
      "cell_type": "code",
      "source": [
        "Valor = list((df.drop_duplicates(subset =\"Valor\", keep = 'last')['Valor']))"
      ],
      "metadata": {
        "id": "rBjQtqFp9N3M"
      },
      "execution_count": 69,
      "outputs": []
    },
    {
      "cell_type": "code",
      "source": [
        "frequencia = []\n",
        "\n",
        "for i in range(0,len(Valor)):\n",
        "  try:\n",
        "    result = isinstance(Valor[i], str)\n",
        "    frequencia.append(result)\n",
        "  except:\n",
        "    print('Valor nulo encontrado')\n",
        "\n",
        "counter=collections.Counter(frequencia)\n",
        "\n",
        "print(counter)"
      ],
      "metadata": {
        "colab": {
          "base_uri": "https://localhost:8080/"
        },
        "id": "uiqzeY149RPn",
        "outputId": "3ec19b6b-0b47-47f6-9ef1-3e36feffdac8"
      },
      "execution_count": 70,
      "outputs": [
        {
          "output_type": "stream",
          "name": "stdout",
          "text": [
            "Counter({False: 12308})\n"
          ]
        }
      ]
    },
    {
      "cell_type": "markdown",
      "source": [
        "# Realizando a busca pela chave primária"
      ],
      "metadata": {
        "id": "Yq9gH44n9VQn"
      }
    },
    {
      "cell_type": "code",
      "source": [
        "(df.groupby(['Código Forma de abastecimento', 'Município','Mês de referência','Ponto de Monitoramento','Tipo de Filtração','Parâmetro','Campo']).size()).value_counts()"
      ],
      "metadata": {
        "colab": {
          "base_uri": "https://localhost:8080/"
        },
        "id": "QJuUQA4H9WlH",
        "outputId": "19c0d10b-3c84-4e3d-8e55-1099805b13b5"
      },
      "execution_count": 71,
      "outputs": [
        {
          "output_type": "execute_result",
          "data": {
            "text/plain": [
              "1     7140240\n",
              "2       79880\n",
              "3       30734\n",
              "4       16028\n",
              "5       10849\n",
              "6        5641\n",
              "7        4426\n",
              "8        3412\n",
              "9        3260\n",
              "11       1438\n",
              "10       1406\n",
              "12       1388\n",
              "15        901\n",
              "17        813\n",
              "23        554\n",
              "16        501\n",
              "21        494\n",
              "13        463\n",
              "14        319\n",
              "19        300\n",
              "27        244\n",
              "26        204\n",
              "20        163\n",
              "22        131\n",
              "30        130\n",
              "24        108\n",
              "18        104\n",
              "25         79\n",
              "29         74\n",
              "28          6\n",
              "dtype: int64"
            ]
          },
          "metadata": {},
          "execution_count": 71
        }
      ]
    }
  ]
}