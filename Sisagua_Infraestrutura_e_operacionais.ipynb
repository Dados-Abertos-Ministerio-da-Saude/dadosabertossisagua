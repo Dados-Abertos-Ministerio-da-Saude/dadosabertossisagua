{
  "nbformat": 4,
  "nbformat_minor": 0,
  "metadata": {
    "colab": {
      "name": "Sisagua - Infraestrutura e operacionais.ipynb",
      "provenance": [],
      "collapsed_sections": []
    },
    "kernelspec": {
      "name": "python3",
      "display_name": "Python 3"
    },
    "language_info": {
      "name": "python"
    }
  },
  "cells": [
    {
      "cell_type": "markdown",
      "source": [
        "# Realizando a conexão com o driver"
      ],
      "metadata": {
        "id": "y4UisHYx59n-"
      }
    },
    {
      "cell_type": "code",
      "execution_count": 1,
      "metadata": {
        "colab": {
          "base_uri": "https://localhost:8080/"
        },
        "id": "h6HJRWf25dKG",
        "outputId": "67931527-5637-4c70-d1b1-10142ccf07bc"
      },
      "outputs": [
        {
          "output_type": "stream",
          "name": "stdout",
          "text": [
            "Mounted at /gdrive\n"
          ]
        }
      ],
      "source": [
        "from google.colab import drive\n",
        "drive.mount('/gdrive', force_remount=True)"
      ]
    },
    {
      "cell_type": "code",
      "source": [
        "%cd '/gdrive/My Drive/PDFS'\n",
        "%ls"
      ],
      "metadata": {
        "colab": {
          "base_uri": "https://localhost:8080/"
        },
        "id": "zE-9P-lA6CaM",
        "outputId": "55dc31ed-89ee-4421-a339-342f5df66377"
      },
      "execution_count": 2,
      "outputs": [
        {
          "output_type": "stream",
          "name": "stdout",
          "text": [
            "/gdrive/My Drive/PDFS\n",
            "'comorbidades  com doses  e data..csv'\n",
            " comorbidade.txt\n",
            " Contador_ID.txt\n",
            " controle_mensal_amostras_fora_padrao.csv\n",
            " controle_mensal_amostras_fora_padrao.zip.1\n",
            " controle_mensal_infraestrutura_operacionais.csv\n",
            "'dados publicacao.csv'\n",
            " Download_arquivos_01_11_2021.txt\n",
            " Download_arquivos_28_10_2021.txt\n",
            " Download_arquivos_29_10_2021.txt\n",
            " Download_arquivos_31_10_2021.txt\n",
            " new.csv\n"
          ]
        }
      ]
    },
    {
      "cell_type": "markdown",
      "source": [
        "# Importando a base de dados"
      ],
      "metadata": {
        "id": "gV7PjcVA6AHw"
      }
    },
    {
      "cell_type": "code",
      "source": [
        "import zipfile\n",
        "import pandas as pd\n",
        "import time\n",
        "\n",
        "# Realizando o download da base\n",
        "\n",
        "dados = !wget --no-check-certificate https://sage.saude.gov.br/dados/sisagua/controle_mensal_infraestrutura_operacionais.zip\n",
        "\n",
        "# Pegando os CSV's que se encontravam zipados\n",
        "\n",
        "with zipfile.ZipFile('controle_mensal_infraestrutura_operacionais.zip',\"r\") as zip_ref:\n",
        "    zip_ref.extractall(\"Sisagua\")\n",
        "\n",
        "time.sleep(20)\n",
        "\n",
        "%cd 'Sisagua'\n",
        "%ls\n",
        "\n",
        "# Lendo o Dataframe\n",
        "\n",
        "df = pd.read_csv('controle_mensal_infraestrutura_operacionais.csv', encoding='latin_1',sep=';',decimal=',',\n",
        "                 dtype={'Código IBGE':'object','CNPJ da Instituição':'object',r'CNPJ do escritório regional/local':'object'})"
      ],
      "metadata": {
        "id": "Enn5Hn4v6FMU"
      },
      "execution_count": null,
      "outputs": []
    },
    {
      "cell_type": "markdown",
      "source": [
        "# Visão geral do formato das colunas"
      ],
      "metadata": {
        "id": "aJpCSGMY6G1X"
      }
    },
    {
      "cell_type": "code",
      "source": [
        "df.info()"
      ],
      "metadata": {
        "colab": {
          "base_uri": "https://localhost:8080/"
        },
        "id": "eE_6ycSN7NoZ",
        "outputId": "979d01a9-24e2-42ae-8c26-ac0a5b2dbcbd"
      },
      "execution_count": null,
      "outputs": [
        {
          "output_type": "stream",
          "name": "stdout",
          "text": [
            "<class 'pandas.core.frame.DataFrame'>\n",
            "RangeIndex: 518554 entries, 0 to 518553\n",
            "Data columns (total 28 columns):\n",
            " #   Column                                                 Non-Null Count   Dtype  \n",
            "---  ------                                                 --------------   -----  \n",
            " 0   Região Geográfica                                      518554 non-null  object \n",
            " 1   UF                                                     518554 non-null  object \n",
            " 2   Regional de Saúde                                      518554 non-null  object \n",
            " 3   Município                                              518554 non-null  object \n",
            " 4   Código IBGE                                            518554 non-null  object \n",
            " 5   Tipo da Instituição                                    516456 non-null  object \n",
            " 6   Sigla da Instituição                                   279955 non-null  object \n",
            " 7   Nome da Instituição                                    516456 non-null  object \n",
            " 8   CNPJ da Instituição                                    516456 non-null  object \n",
            " 9   Nome do escritório regional/local                      279955 non-null  object \n",
            " 10  CNPJ do escritório regional/local                      279955 non-null  object \n",
            " 11  Tipo da Forma de Abastecimento                         518554 non-null  object \n",
            " 12  Código Forma de abastecimento                          518554 non-null  object \n",
            " 13  Nome da Forma de Abastecimento                         518554 non-null  object \n",
            " 14  Ano de referência                                      518554 non-null  int64  \n",
            " 15  Mês de referência                                      518554 non-null  int64  \n",
            " 16  Data de registro                                       518554 non-null  object \n",
            " 17  Data de preenchimento do relatório mensal              518523 non-null  object \n",
            " 18  Zona                                                   518554 non-null  object \n",
            " 19  Categoria Área                                         518554 non-null  object \n",
            " 20  Área                                                   518554 non-null  object \n",
            " 21  Tipo do local                                          40458 non-null   object \n",
            " 22  Local                                                  40458 non-null   object \n",
            " 23  Número de reparos na rede (somente para SAA)           411428 non-null  float64\n",
            " 24  Número de eventos de intermitência (somente para SAA)  302983 non-null  float64\n",
            " 25  Número de eventos de falta de água                     448423 non-null  float64\n",
            " 26  Número de reclamações de cor da água                   350903 non-null  float64\n",
            " 27  Número de Reclamação de gosto e ou odor                331609 non-null  float64\n",
            "dtypes: float64(5), int64(2), object(21)\n",
            "memory usage: 110.8+ MB\n"
          ]
        }
      ]
    },
    {
      "cell_type": "markdown",
      "source": [
        "# Contagem de valores nulos"
      ],
      "metadata": {
        "id": "4-4yWLUe7f8D"
      }
    },
    {
      "cell_type": "code",
      "source": [
        "df.isnull().astype(int).sum()"
      ],
      "metadata": {
        "colab": {
          "base_uri": "https://localhost:8080/"
        },
        "id": "sAV_bzx27gsI",
        "outputId": "c5f09c7b-c492-42c3-c734-e947aef43a40"
      },
      "execution_count": null,
      "outputs": [
        {
          "output_type": "execute_result",
          "data": {
            "text/plain": [
              "Região Geográfica                                             0\n",
              "UF                                                            0\n",
              "Regional de Saúde                                             0\n",
              "Município                                                     0\n",
              "Código IBGE                                                   0\n",
              "Tipo da Instituição                                        2098\n",
              "Sigla da Instituição                                     238599\n",
              "Nome da Instituição                                        2098\n",
              "CNPJ da Instituição                                        2098\n",
              "Nome do escritório regional/local                        238599\n",
              "CNPJ do escritório regional/local                        238599\n",
              "Tipo da Forma de Abastecimento                                0\n",
              "Código Forma de abastecimento                                 0\n",
              "Nome da Forma de Abastecimento                                0\n",
              "Ano de referência                                             0\n",
              "Mês de referência                                             0\n",
              "Data de registro                                              0\n",
              "Data de preenchimento do relatório mensal                    31\n",
              "Zona                                                          0\n",
              "Categoria Área                                                0\n",
              "Área                                                          0\n",
              "Tipo do local                                            478096\n",
              "Local                                                    478096\n",
              "Número de reparos na rede (somente para SAA)             107126\n",
              "Número de eventos de intermitência (somente para SAA)    215571\n",
              "Número de eventos de falta de água                        70131\n",
              "Número de reclamações de cor da água                     167651\n",
              "Número de Reclamação de gosto e ou odor                  186945\n",
              "dtype: int64"
            ]
          },
          "metadata": {},
          "execution_count": 6
        }
      ]
    },
    {
      "cell_type": "markdown",
      "source": [
        "# Conferindo se existem 27 UF's"
      ],
      "metadata": {
        "id": "TJoXiIzj7iXu"
      }
    },
    {
      "cell_type": "code",
      "source": [
        "df['UF'].value_counts()"
      ],
      "metadata": {
        "colab": {
          "base_uri": "https://localhost:8080/"
        },
        "id": "Y2KfBECj7jv0",
        "outputId": "76ab450b-9bf5-4210-a047-4f0032cc29b5"
      },
      "execution_count": null,
      "outputs": [
        {
          "output_type": "execute_result",
          "data": {
            "text/plain": [
              "MG    130080\n",
              "SP    129538\n",
              "SC     72309\n",
              "MT     39056\n",
              "PR     36774\n",
              "BA     24973\n",
              "RS     21095\n",
              "TO     12072\n",
              "GO     12027\n",
              "MS     11642\n",
              "RJ      9333\n",
              "ES      8201\n",
              "MA      3774\n",
              "AM      3572\n",
              "RO      1063\n",
              "PB      1045\n",
              "PA       578\n",
              "CE       497\n",
              "PI       416\n",
              "RN       213\n",
              "AL       155\n",
              "RR        64\n",
              "PE        29\n",
              "SE        21\n",
              "AP        19\n",
              "DF         7\n",
              "AC         1\n",
              "Name: UF, dtype: int64"
            ]
          },
          "metadata": {},
          "execution_count": 7
        }
      ]
    },
    {
      "cell_type": "markdown",
      "source": [
        "# Conferindo se as 5 regiões estão corretas"
      ],
      "metadata": {
        "id": "QyV4_iiS7k3q"
      }
    },
    {
      "cell_type": "code",
      "source": [
        "df['Região Geográfica'].value_counts()"
      ],
      "metadata": {
        "colab": {
          "base_uri": "https://localhost:8080/"
        },
        "id": "Cbo7KCc_7ne2",
        "outputId": "3fae2192-0fcf-42e7-a0c8-d8c517740e62"
      },
      "execution_count": null,
      "outputs": [
        {
          "output_type": "execute_result",
          "data": {
            "text/plain": [
              "SUDESTE         277152\n",
              "SUL             130178\n",
              "CENTRO-OESTE     62732\n",
              "NORDESTE         31123\n",
              "NORTE            17369\n",
              "Name: Região Geográfica, dtype: int64"
            ]
          },
          "metadata": {},
          "execution_count": 8
        }
      ]
    },
    {
      "cell_type": "markdown",
      "source": [
        "# Conferindo se o Código IBGE está indexado corretamente"
      ],
      "metadata": {
        "id": "RfFLOdGM7oCg"
      }
    },
    {
      "cell_type": "code",
      "source": [
        "(df.drop_duplicates(subset =\"Código IBGE\", keep = 'last')['Código IBGE']).to_csv('new.csv', index=False)"
      ],
      "metadata": {
        "id": "DOdaghaj7pom"
      },
      "execution_count": null,
      "outputs": []
    },
    {
      "cell_type": "markdown",
      "source": [
        "Existem 5 códigos IBGE que não tiveram correspondência com a base disponibilizada pelo Ministério da saúde, sendo estes:"
      ],
      "metadata": {
        "id": "ubNYkHu29bsA"
      }
    },
    {
      "cell_type": "markdown",
      "source": [
        "![image.png](data:image/png;base64,iVBORw0KGgoAAAANSUhEUgAAAEEAAABlCAYAAAASyo5lAAAEWElEQVR4nO2csXKyShiGH87kUjBF4hWsV6B/c6q06ZZSm3SZOU26v4FSurSZU6Q5cAV6BWsK4V72FAIioiYRlD987wyFfutinlkW93GNY4yx9Dw3AMN/h7VF+8/P57NarfjrULEPAPLUQugTAKiB0DcAUIHQRwBQgtBXAJBB2AJICUYOjlM6vLhonAajUs0jLveUBoxKr/PiBmqlc46CtMm/ezfGGLtNYn2F1ZGtSWS18m2SP9JYioaR1WCVn+RFC8puHp5bi6yvSm0ajjHGfgHCbhJfWXIokbag7fZlpX6+W6s81yaE2ltkOMmH54j6URjze7ZEPfzCBdK1AXXHoDrK1um3a5dMBYLLdGGxdnMkPswGpWs/9jI4E0IdsZi6B7p1ua3/EHpGrb0c/MQI4E6f0YS85xTG8y2gu5f9ybFIytoc6vW7tfZyFALpGoPirjpeAffXAwrDOgX3dgjLD5JKm+Gt++3aRVOeGCOdz8z5Y7aTX+JbVZqxEl+VJrXNTL69WegGasWZLnx3iLQFtkfplpi/mW19F5hNfKsarW0AUTmahmGMsY4xxt7f3192+HUoR5fSfYpAQCAAmV5brVbXfh9XzQ2ATIwSgQACARAIgEAA9iB0zDGe8I+NpfuOsa7WXLrtGD/lH89Ppx3jJf3jH+QY2/OPf5BjbM8/dtYxXtQ/dtcxfsY/np+OO8YTtYYijhFZShcRCAgEQBwjII5RJsY8AgGBAAgEQCAAXXCMHNmrWPgLp929jN1wjHV7FSOry4umxLeqJcf4hcthzHwxJV/ND+4UmDUpQPxOiOY5N03jJ3y15CM5UWPM3FoW0xphka4xDCn0gXtLWxvbruoYj8ad8qxDJo5HTEowmmD8Vw4avTNyUzkz04Vlmj1KgxGDgcetnTOGzTU6CTdFHWEbd4y7Gc8tEQ4TJwTlk7RBgM45xnJiPMfh/e/sfA9vDA6OzPNyVcd49NTBC6HyeRpn55u+4qslb/+1QOG6jrHobf/uUG2XqbY2vny5smM8vlcx0u3uYcwhiGOUpfQmAgGBAIhjBMQxysSYRyAgEACBAAgEoAOOcbfP+r2KsfeTHWPiW1Xqc3dlarftlba6pV/EXX8f436nFZmat23vZ4FX38e4l+SDZUmupsEjs2HEfPzF4f3FdGgfY0rwEqL8p43PTAMeZ0OitgnQIccYewNm+LxOXSAleJwxjDLB23I64Rhjz2FifJLie42Ej2X5shwwW8JyNsAZBTR+j7iuY8yU3Y7Gq0u7E+N1HWP1fPmxd+toF4I4RllKbyIQEAiAOEZAHKNMjHkEAgIBEAiAQAA64BjL/R5yiG07xtqRoKOtWLGF1Ij5/fZAkj0f6ZBJ8dfEeIMZ+MnmNZEmnORW6kTNcXjkGV8deIexx8Ro9KF6E+mGYzy0SuyjY6ykh46xkj46xmqb3jnG/fTKMRa9nZj4frJj/PT/XBTH2GpkKZ1FICAQAHGMAPwPd4yky6AWG2IAAAAASUVORK5CYII=)"
      ],
      "metadata": {
        "id": "8Tc8mT8w9X6-"
      }
    },
    {
      "cell_type": "markdown",
      "source": [
        "Conferindo quais municipios são referentes os códigos do IBGE"
      ],
      "metadata": {
        "id": "JrIEOMrx9h1i"
      }
    },
    {
      "cell_type": "code",
      "source": [
        "df[df['Código IBGE']=='530014'].head(1)"
      ],
      "metadata": {
        "colab": {
          "base_uri": "https://localhost:8080/",
          "height": 336
        },
        "id": "-MwRWk3o9e-Y",
        "outputId": "0ea2964d-2e93-4d1b-bebf-fe32d8f5b19f"
      },
      "execution_count": null,
      "outputs": [
        {
          "output_type": "execute_result",
          "data": {
            "text/html": [
              "\n",
              "  <div id=\"df-35a789dd-bd15-46b0-9634-9f8f147aa442\">\n",
              "    <div class=\"colab-df-container\">\n",
              "      <div>\n",
              "<style scoped>\n",
              "    .dataframe tbody tr th:only-of-type {\n",
              "        vertical-align: middle;\n",
              "    }\n",
              "\n",
              "    .dataframe tbody tr th {\n",
              "        vertical-align: top;\n",
              "    }\n",
              "\n",
              "    .dataframe thead th {\n",
              "        text-align: right;\n",
              "    }\n",
              "</style>\n",
              "<table border=\"1\" class=\"dataframe\">\n",
              "  <thead>\n",
              "    <tr style=\"text-align: right;\">\n",
              "      <th></th>\n",
              "      <th>Região Geográfica</th>\n",
              "      <th>UF</th>\n",
              "      <th>Regional de Saúde</th>\n",
              "      <th>Município</th>\n",
              "      <th>Código IBGE</th>\n",
              "      <th>Tipo da Instituição</th>\n",
              "      <th>Sigla da Instituição</th>\n",
              "      <th>Nome da Instituição</th>\n",
              "      <th>CNPJ da Instituição</th>\n",
              "      <th>Nome do escritório regional/local</th>\n",
              "      <th>CNPJ do escritório regional/local</th>\n",
              "      <th>Tipo da Forma de Abastecimento</th>\n",
              "      <th>Código Forma de abastecimento</th>\n",
              "      <th>Nome da Forma de Abastecimento</th>\n",
              "      <th>Ano de referência</th>\n",
              "      <th>Mês de referência</th>\n",
              "      <th>Data de registro</th>\n",
              "      <th>Data de preenchimento do relatório mensal</th>\n",
              "      <th>Zona</th>\n",
              "      <th>Categoria Área</th>\n",
              "      <th>Área</th>\n",
              "      <th>Tipo do local</th>\n",
              "      <th>Local</th>\n",
              "      <th>Número de reparos na rede (somente para SAA)</th>\n",
              "      <th>Número de eventos de intermitência (somente para SAA)</th>\n",
              "      <th>Número de eventos de falta de água</th>\n",
              "      <th>Número de reclamações de cor da água</th>\n",
              "      <th>Número de Reclamação de gosto e ou odor</th>\n",
              "    </tr>\n",
              "  </thead>\n",
              "  <tbody>\n",
              "    <tr>\n",
              "      <th>279266</th>\n",
              "      <td>CENTRO-OESTE</td>\n",
              "      <td>DF</td>\n",
              "      <td>UNICA</td>\n",
              "      <td>SANTA MARIA</td>\n",
              "      <td>530014</td>\n",
              "      <td>Regional</td>\n",
              "      <td>CAESB</td>\n",
              "      <td>COMPANHIA DE SANEAMENTO AMBIENTAL DO DISTRITO ...</td>\n",
              "      <td>82024000137</td>\n",
              "      <td>CAESB REGIONAL UNICA</td>\n",
              "      <td>82024000137</td>\n",
              "      <td>SAA</td>\n",
              "      <td>S530014000002</td>\n",
              "      <td>CHAPÉU DE PEDRA</td>\n",
              "      <td>2018</td>\n",
              "      <td>9</td>\n",
              "      <td>2019/08/15 00:00:00.000</td>\n",
              "      <td>2019/08/15 00:00:00.000</td>\n",
              "      <td>Urbana</td>\n",
              "      <td>Bairro</td>\n",
              "      <td>SETOR HABITACIONAL TORORO</td>\n",
              "      <td>NaN</td>\n",
              "      <td>NaN</td>\n",
              "      <td>0.0</td>\n",
              "      <td>0.0</td>\n",
              "      <td>0.0</td>\n",
              "      <td>1.0</td>\n",
              "      <td>0.0</td>\n",
              "    </tr>\n",
              "  </tbody>\n",
              "</table>\n",
              "</div>\n",
              "      <button class=\"colab-df-convert\" onclick=\"convertToInteractive('df-35a789dd-bd15-46b0-9634-9f8f147aa442')\"\n",
              "              title=\"Convert this dataframe to an interactive table.\"\n",
              "              style=\"display:none;\">\n",
              "        \n",
              "  <svg xmlns=\"http://www.w3.org/2000/svg\" height=\"24px\"viewBox=\"0 0 24 24\"\n",
              "       width=\"24px\">\n",
              "    <path d=\"M0 0h24v24H0V0z\" fill=\"none\"/>\n",
              "    <path d=\"M18.56 5.44l.94 2.06.94-2.06 2.06-.94-2.06-.94-.94-2.06-.94 2.06-2.06.94zm-11 1L8.5 8.5l.94-2.06 2.06-.94-2.06-.94L8.5 2.5l-.94 2.06-2.06.94zm10 10l.94 2.06.94-2.06 2.06-.94-2.06-.94-.94-2.06-.94 2.06-2.06.94z\"/><path d=\"M17.41 7.96l-1.37-1.37c-.4-.4-.92-.59-1.43-.59-.52 0-1.04.2-1.43.59L10.3 9.45l-7.72 7.72c-.78.78-.78 2.05 0 2.83L4 21.41c.39.39.9.59 1.41.59.51 0 1.02-.2 1.41-.59l7.78-7.78 2.81-2.81c.8-.78.8-2.07 0-2.86zM5.41 20L4 18.59l7.72-7.72 1.47 1.35L5.41 20z\"/>\n",
              "  </svg>\n",
              "      </button>\n",
              "      \n",
              "  <style>\n",
              "    .colab-df-container {\n",
              "      display:flex;\n",
              "      flex-wrap:wrap;\n",
              "      gap: 12px;\n",
              "    }\n",
              "\n",
              "    .colab-df-convert {\n",
              "      background-color: #E8F0FE;\n",
              "      border: none;\n",
              "      border-radius: 50%;\n",
              "      cursor: pointer;\n",
              "      display: none;\n",
              "      fill: #1967D2;\n",
              "      height: 32px;\n",
              "      padding: 0 0 0 0;\n",
              "      width: 32px;\n",
              "    }\n",
              "\n",
              "    .colab-df-convert:hover {\n",
              "      background-color: #E2EBFA;\n",
              "      box-shadow: 0px 1px 2px rgba(60, 64, 67, 0.3), 0px 1px 3px 1px rgba(60, 64, 67, 0.15);\n",
              "      fill: #174EA6;\n",
              "    }\n",
              "\n",
              "    [theme=dark] .colab-df-convert {\n",
              "      background-color: #3B4455;\n",
              "      fill: #D2E3FC;\n",
              "    }\n",
              "\n",
              "    [theme=dark] .colab-df-convert:hover {\n",
              "      background-color: #434B5C;\n",
              "      box-shadow: 0px 1px 3px 1px rgba(0, 0, 0, 0.15);\n",
              "      filter: drop-shadow(0px 1px 2px rgba(0, 0, 0, 0.3));\n",
              "      fill: #FFFFFF;\n",
              "    }\n",
              "  </style>\n",
              "\n",
              "      <script>\n",
              "        const buttonEl =\n",
              "          document.querySelector('#df-35a789dd-bd15-46b0-9634-9f8f147aa442 button.colab-df-convert');\n",
              "        buttonEl.style.display =\n",
              "          google.colab.kernel.accessAllowed ? 'block' : 'none';\n",
              "\n",
              "        async function convertToInteractive(key) {\n",
              "          const element = document.querySelector('#df-35a789dd-bd15-46b0-9634-9f8f147aa442');\n",
              "          const dataTable =\n",
              "            await google.colab.kernel.invokeFunction('convertToInteractive',\n",
              "                                                     [key], {});\n",
              "          if (!dataTable) return;\n",
              "\n",
              "          const docLinkHtml = 'Like what you see? Visit the ' +\n",
              "            '<a target=\"_blank\" href=https://colab.research.google.com/notebooks/data_table.ipynb>data table notebook</a>'\n",
              "            + ' to learn more about interactive tables.';\n",
              "          element.innerHTML = '';\n",
              "          dataTable['output_type'] = 'display_data';\n",
              "          await google.colab.output.renderOutput(dataTable, element);\n",
              "          const docLink = document.createElement('div');\n",
              "          docLink.innerHTML = docLinkHtml;\n",
              "          element.appendChild(docLink);\n",
              "        }\n",
              "      </script>\n",
              "    </div>\n",
              "  </div>\n",
              "  "
            ],
            "text/plain": [
              "       Região Geográfica  ... Número de Reclamação de gosto e ou odor\n",
              "279266      CENTRO-OESTE  ...                                     0.0\n",
              "\n",
              "[1 rows x 28 columns]"
            ]
          },
          "metadata": {},
          "execution_count": 22
        }
      ]
    },
    {
      "cell_type": "markdown",
      "source": [
        "# Tipos de instituições presentes na base"
      ],
      "metadata": {
        "id": "-fKJQv1P-yL3"
      }
    },
    {
      "cell_type": "code",
      "source": [
        "df['Tipo da Instituição'].value_counts()"
      ],
      "metadata": {
        "colab": {
          "base_uri": "https://localhost:8080/"
        },
        "id": "pzbZ657Z-zmM",
        "outputId": "da4e4f0c-9f05-4039-ae1c-b3120e050f7c"
      },
      "execution_count": null,
      "outputs": [
        {
          "output_type": "execute_result",
          "data": {
            "text/plain": [
              "Regional    279955\n",
              "Local       236501\n",
              "Name: Tipo da Instituição, dtype: int64"
            ]
          },
          "metadata": {},
          "execution_count": 23
        }
      ]
    },
    {
      "cell_type": "markdown",
      "source": [
        "# Siglas das 52 instituições presentes no banco com suas respectivas frequências"
      ],
      "metadata": {
        "id": "H9V7-D0M-3ce"
      }
    },
    {
      "cell_type": "markdown",
      "source": [
        "Algumas siglas se encontram cortadas ou com presença de espaçamentos na sua escrita"
      ],
      "metadata": {
        "id": "sn9cPIlC-5bG"
      }
    },
    {
      "cell_type": "code",
      "source": [
        "pd.options.display.max_rows=1000"
      ],
      "metadata": {
        "id": "fPSa9_v--4LY"
      },
      "execution_count": null,
      "outputs": []
    },
    {
      "cell_type": "code",
      "source": [
        "df['Sigla da Instituição'].value_counts()"
      ],
      "metadata": {
        "colab": {
          "base_uri": "https://localhost:8080/"
        },
        "id": "hHV0DEL7-7aD",
        "outputId": "041481ad-b527-4858-aa86-040bfc5a1a4c"
      },
      "execution_count": null,
      "outputs": [
        {
          "output_type": "execute_result",
          "data": {
            "text/plain": [
              "COPASA        100884\n",
              "CASAN          43781\n",
              "SANEPAR        31340\n",
              "EMBASA         24461\n",
              "SABESP         14721\n",
              "SANEATINS      10865\n",
              "CORSAN         10707\n",
              "SANESUL         9705\n",
              "SANEAGO         9512\n",
              "COPANOR         5925\n",
              "CESAN           4123\n",
              "SIMAE           3570\n",
              "CAEMA           2324\n",
              "AGJ             2052\n",
              "COSAMA          2001\n",
              "ATS             1047\n",
              "CAERD            907\n",
              "PROLAGOS         464\n",
              "CEDAE            382\n",
              "CAERN            196\n",
              "BRK AMBIEN       145\n",
              "FV               142\n",
              "LICS R           119\n",
              "INTERVIAS         78\n",
              "AGESPISA          64\n",
              "CAER              64\n",
              "KF                42\n",
              "SPMAR             33\n",
              "ARTIBRAS          30\n",
              "EB CDRM           27\n",
              "LIGIANE A         23\n",
              "AB COLINAS        23\n",
              "CART              22\n",
              "IAPAR             21\n",
              "H2O               21\n",
              "DESO              21\n",
              "PRECISAO T        18\n",
              "SOFT SUL P        17\n",
              "HIDROS            13\n",
              "SIMAE2            10\n",
              "COMPESA            9\n",
              "LABORPLAN          7\n",
              "CAESB              7\n",
              "CAESA              6\n",
              "JOSIANE VI         6\n",
              "SISAR              5\n",
              "COSANPA            5\n",
              "CAGECE             5\n",
              "7BIM               2\n",
              "02PESQUISA         1\n",
              "CMNEB              1\n",
              "DEPASA             1\n",
              "Name: Sigla da Instituição, dtype: int64"
            ]
          },
          "metadata": {},
          "execution_count": 26
        }
      ]
    },
    {
      "cell_type": "markdown",
      "source": [
        "# Conferindo se existe nomes de instituições preenchidos como número"
      ],
      "metadata": {
        "id": "rkY8A9Gk_Na3"
      }
    },
    {
      "cell_type": "code",
      "source": [
        "instituicao = list((df.drop_duplicates(subset =\"Nome da Instituição\", keep = 'last')['Nome da Instituição']))"
      ],
      "metadata": {
        "id": "yyAY802T_OBf"
      },
      "execution_count": null,
      "outputs": []
    },
    {
      "cell_type": "code",
      "source": [
        "import collections\n",
        "\n",
        "frequencia = []\n",
        "\n",
        "for i in range(0,len(instituicao)):\n",
        "  try:\n",
        "    result = instituicao[i].isdigit()\n",
        "    frequencia.append(result)\n",
        "  except:\n",
        "    print('Valor nulo encontrado')\n",
        "\n",
        "counter=collections.Counter(frequencia)\n",
        "\n",
        "print(counter)"
      ],
      "metadata": {
        "colab": {
          "base_uri": "https://localhost:8080/"
        },
        "id": "54vZsEWJ_OFg",
        "outputId": "e3d47873-99f4-4fc7-b230-3f4d9ff4d8d2"
      },
      "execution_count": null,
      "outputs": [
        {
          "output_type": "stream",
          "name": "stdout",
          "text": [
            "Valor nulo encontrado\n",
            "Counter({False: 2873})\n"
          ]
        }
      ]
    },
    {
      "cell_type": "markdown",
      "source": [
        "# Conferindo se possui string na variavel CNPJ"
      ],
      "metadata": {
        "id": "VOenM5oy_QXF"
      }
    },
    {
      "cell_type": "code",
      "source": [
        "CNPJ = list((df.drop_duplicates(subset =\"CNPJ da Instituição\", keep = 'last')['CNPJ da Instituição']))"
      ],
      "metadata": {
        "id": "6wDcbhHD_SQJ"
      },
      "execution_count": null,
      "outputs": []
    },
    {
      "cell_type": "code",
      "source": [
        "frequencia = []\n",
        "\n",
        "for i in range(0,len(CNPJ)):\n",
        "  try:\n",
        "    result = isinstance(CNPJ[i], str)\n",
        "    frequencia.append(result)\n",
        "  except:\n",
        "    print('Valor nulo encontrado')\n",
        "\n",
        "counter=collections.Counter(frequencia)\n",
        "\n",
        "print(counter)"
      ],
      "metadata": {
        "colab": {
          "base_uri": "https://localhost:8080/"
        },
        "id": "WVoh9dc-_SSq",
        "outputId": "d8331e2c-1045-43b7-8916-0b58acbeda5b"
      },
      "execution_count": null,
      "outputs": [
        {
          "output_type": "stream",
          "name": "stdout",
          "text": [
            "Counter({True: 3114, False: 1})\n"
          ]
        }
      ]
    },
    {
      "cell_type": "markdown",
      "source": [
        "# Analisando o tamanho dos CNPJ's"
      ],
      "metadata": {
        "id": "1-IfH1vS_Tvz"
      }
    },
    {
      "cell_type": "code",
      "source": [
        "frequencia = []\n",
        "\n",
        "for i in range(0,len(CNPJ)):\n",
        "  try:\n",
        "    result = sum(len(i) for i in CNPJ[i])\n",
        "    frequencia.append(result)\n",
        "  except:\n",
        "    print('Valor nulo encontrado')\n",
        "\n",
        "counter=collections.Counter(frequencia)\n",
        "\n",
        "print(counter)"
      ],
      "metadata": {
        "colab": {
          "base_uri": "https://localhost:8080/"
        },
        "id": "RPbuL8VX_V1b",
        "outputId": "ff05cfa9-eb92-4102-e047-e3fd89affa03"
      },
      "execution_count": null,
      "outputs": [
        {
          "output_type": "stream",
          "name": "stdout",
          "text": [
            "Valor nulo encontrado\n",
            "Counter({14: 2012, 13: 995, 12: 91, 11: 14, 10: 1, 9: 1})\n"
          ]
        }
      ]
    },
    {
      "cell_type": "markdown",
      "source": [
        "# Conferindo se o nome da instituição regional / local esta preenchido como string"
      ],
      "metadata": {
        "id": "il05gE___YYK"
      }
    },
    {
      "cell_type": "code",
      "source": [
        "instituicao = list((df.drop_duplicates(subset =\"Nome do escritório regional/local\", keep = 'last')['Nome do escritório regional/local']))"
      ],
      "metadata": {
        "id": "ZDKcaS0-_Ye0"
      },
      "execution_count": null,
      "outputs": []
    },
    {
      "cell_type": "code",
      "source": [
        "import collections\n",
        "\n",
        "frequencia = []\n",
        "\n",
        "for i in range(0,len(instituicao)):\n",
        "  try:\n",
        "    result = instituicao[i].isdigit()\n",
        "    frequencia.append(result)\n",
        "  except:\n",
        "    print('Valor nulo encontrado')\n",
        "\n",
        "counter=collections.Counter(frequencia)\n",
        "\n",
        "print(counter)"
      ],
      "metadata": {
        "colab": {
          "base_uri": "https://localhost:8080/"
        },
        "id": "p2tN09kS_bcy",
        "outputId": "a2b1c345-116f-418c-8366-d96a5c34a17b"
      },
      "execution_count": null,
      "outputs": [
        {
          "output_type": "stream",
          "name": "stdout",
          "text": [
            "Valor nulo encontrado\n",
            "Counter({False: 457})\n"
          ]
        }
      ]
    },
    {
      "cell_type": "markdown",
      "source": [
        "# Conferindo se possui valores textuais na variavel CNPJ do escritório regional/local"
      ],
      "metadata": {
        "id": "fxvNUpS9_def"
      }
    },
    {
      "cell_type": "code",
      "source": [
        "CNPJ = list((df.drop_duplicates(subset =\"CNPJ do escritório regional/local\", keep = 'last')['CNPJ do escritório regional/local']))"
      ],
      "metadata": {
        "id": "OOTFFCmo_dE9"
      },
      "execution_count": null,
      "outputs": []
    },
    {
      "cell_type": "code",
      "source": [
        "frequencia = []\n",
        "\n",
        "for i in range(0,len(CNPJ)):\n",
        "  try:\n",
        "    result = isinstance(CNPJ[i], str)\n",
        "    frequencia.append(result)\n",
        "  except:\n",
        "    print('Valor nulo encontrado')\n",
        "\n",
        "counter=collections.Counter(frequencia)\n",
        "\n",
        "print(counter)"
      ],
      "metadata": {
        "colab": {
          "base_uri": "https://localhost:8080/"
        },
        "id": "rmKAO3mr_hPx",
        "outputId": "f4b27c95-34d4-4fee-b0b5-6123f6aae16f"
      },
      "execution_count": null,
      "outputs": [
        {
          "output_type": "stream",
          "name": "stdout",
          "text": [
            "Counter({True: 333, False: 1})\n"
          ]
        }
      ]
    },
    {
      "cell_type": "markdown",
      "source": [
        "# Conferindo a frequência de caracteres na variável CNPJ do escritório regional/local"
      ],
      "metadata": {
        "id": "NpCwDJV-_jFT"
      }
    },
    {
      "cell_type": "code",
      "source": [
        "instituicao = list((df.drop_duplicates(subset =\"CNPJ do escritório regional/local\", keep = 'last')['CNPJ do escritório regional/local']))"
      ],
      "metadata": {
        "id": "g3c0blEH_js3"
      },
      "execution_count": null,
      "outputs": []
    },
    {
      "cell_type": "code",
      "source": [
        "frequencia = []\n",
        "\n",
        "for i in range(0,len(instituicao)):\n",
        "  try:\n",
        "    result = sum(len(i) for i in instituicao[i])\n",
        "    frequencia.append(result)\n",
        "  except:\n",
        "    print('Valor nulo encontrado')\n",
        "\n",
        "counter=collections.Counter(frequencia)\n",
        "\n",
        "print(counter)"
      ],
      "metadata": {
        "colab": {
          "base_uri": "https://localhost:8080/"
        },
        "id": "cdSt2Rzp_lEc",
        "outputId": "f49c591f-2a2a-4443-eb97-6c6f5ee1053b"
      },
      "execution_count": null,
      "outputs": [
        {
          "output_type": "stream",
          "name": "stdout",
          "text": [
            "Valor nulo encontrado\n",
            "Counter({14: 283, 13: 47, 12: 2, 11: 1})\n"
          ]
        }
      ]
    },
    {
      "cell_type": "markdown",
      "source": [
        "# Tipo da forma de abastecimento"
      ],
      "metadata": {
        "id": "vgsThqL4_nDC"
      }
    },
    {
      "cell_type": "code",
      "source": [
        "df['Tipo da Forma de Abastecimento'].value_counts()"
      ],
      "metadata": {
        "colab": {
          "base_uri": "https://localhost:8080/"
        },
        "id": "IKhgBZTA_oGK",
        "outputId": "ac2a2fa8-ff09-4cfe-9014-7e3475d5fa7b"
      },
      "execution_count": null,
      "outputs": [
        {
          "output_type": "execute_result",
          "data": {
            "text/plain": [
              "SAA    454881\n",
              "SAC     63673\n",
              "Name: Tipo da Forma de Abastecimento, dtype: int64"
            ]
          },
          "metadata": {},
          "execution_count": 38
        }
      ]
    },
    {
      "cell_type": "markdown",
      "source": [
        "# Conferindo se tem nome preenchido apenas com números"
      ],
      "metadata": {
        "id": "0jcvZNJ__t52"
      }
    },
    {
      "cell_type": "code",
      "source": [
        "instituicao = list((df.drop_duplicates(subset =\"Nome da Forma de Abastecimento\", keep = 'last')['Nome da Forma de Abastecimento']))"
      ],
      "metadata": {
        "id": "udqZekKp_3PI"
      },
      "execution_count": null,
      "outputs": []
    },
    {
      "cell_type": "code",
      "source": [
        "import collections\n",
        "\n",
        "frequencia = []\n",
        "\n",
        "for i in range(0,len(instituicao)):\n",
        "  try:\n",
        "    result = instituicao[i].isdigit()\n",
        "    frequencia.append(result)\n",
        "  except:\n",
        "    print('Valor nulo encontrado')\n",
        "\n",
        "counter=collections.Counter(frequencia)\n",
        "\n",
        "print(counter)"
      ],
      "metadata": {
        "colab": {
          "base_uri": "https://localhost:8080/"
        },
        "id": "kiQ1C57x_7KT",
        "outputId": "eba65026-e324-4317-ecb2-2f0f429a7dd8"
      },
      "execution_count": null,
      "outputs": [
        {
          "output_type": "stream",
          "name": "stdout",
          "text": [
            "Counter({False: 10905, True: 6})\n"
          ]
        }
      ]
    },
    {
      "cell_type": "markdown",
      "source": [
        "# Averiguando a qualidade do Código Forma de abastecimento"
      ],
      "metadata": {
        "id": "fHn91euz_9Ct"
      }
    },
    {
      "cell_type": "code",
      "source": [
        "codigo = list((df.drop_duplicates(subset =\"Código Forma de abastecimento\", keep = 'last')['Código Forma de abastecimento']))"
      ],
      "metadata": {
        "id": "6ngOKJgzAC9V"
      },
      "execution_count": null,
      "outputs": []
    },
    {
      "cell_type": "code",
      "source": [
        "import collections\n",
        "\n",
        "frequencia = []\n",
        "\n",
        "for i in range(0,len(codigo)):\n",
        "  try:\n",
        "    result = codigo[i].isdigit()\n",
        "    frequencia.append(result)\n",
        "  except:\n",
        "    print('Valor nulo encontrado')\n",
        "\n",
        "counter=collections.Counter(frequencia)\n",
        "\n",
        "print(counter)"
      ],
      "metadata": {
        "colab": {
          "base_uri": "https://localhost:8080/"
        },
        "id": "9fQJopVDAEpb",
        "outputId": "5634cdc3-18b6-4c70-9777-e9073e68c375"
      },
      "execution_count": null,
      "outputs": [
        {
          "output_type": "stream",
          "name": "stdout",
          "text": [
            "Counter({False: 10076})\n"
          ]
        }
      ]
    },
    {
      "cell_type": "markdown",
      "source": [
        "# Ano de referência"
      ],
      "metadata": {
        "id": "IDfsc33mAMts"
      }
    },
    {
      "cell_type": "code",
      "source": [
        "df['Ano de referência'].value_counts()"
      ],
      "metadata": {
        "colab": {
          "base_uri": "https://localhost:8080/"
        },
        "id": "5SRAr6NgAMyr",
        "outputId": "47c24e80-e3d5-4c88-9c3d-9628ff519947"
      },
      "execution_count": null,
      "outputs": [
        {
          "output_type": "execute_result",
          "data": {
            "text/plain": [
              "2020    93970\n",
              "2019    87614\n",
              "2018    77097\n",
              "2021    73511\n",
              "2017    72748\n",
              "2016    52344\n",
              "2015    39855\n",
              "2014    21415\n",
              "Name: Ano de referência, dtype: int64"
            ]
          },
          "metadata": {},
          "execution_count": 45
        }
      ]
    },
    {
      "cell_type": "markdown",
      "source": [
        "# Mês de referência"
      ],
      "metadata": {
        "id": "jedkwhCKAR1y"
      }
    },
    {
      "cell_type": "code",
      "source": [
        "df['Mês de referência'].value_counts()"
      ],
      "metadata": {
        "colab": {
          "base_uri": "https://localhost:8080/"
        },
        "id": "9a3eVnHMAM0v",
        "outputId": "88ec4060-b020-48c4-f689-349ff866de3e"
      },
      "execution_count": null,
      "outputs": [
        {
          "output_type": "execute_result",
          "data": {
            "text/plain": [
              "9     45584\n",
              "8     45170\n",
              "10    44584\n",
              "1     44573\n",
              "5     44563\n",
              "4     44405\n",
              "7     44388\n",
              "6     44342\n",
              "2     43899\n",
              "3     43610\n",
              "11    36926\n",
              "12    36510\n",
              "Name: Mês de referência, dtype: int64"
            ]
          },
          "metadata": {},
          "execution_count": 46
        }
      ]
    },
    {
      "cell_type": "markdown",
      "source": [
        "# Data de registro"
      ],
      "metadata": {
        "id": "kW1ni65-AVtN"
      }
    },
    {
      "cell_type": "code",
      "source": [
        "from collections import Counter\n",
        "\n",
        "# Separando os anos \n",
        "\n",
        "Ano = []\n",
        "\n",
        "for i in range(0,len(df['Data de registro '])):\n",
        "  Ano.append(df['Data de registro '][i][0:4])\n",
        "\n",
        "# Separando os meses\n",
        "\n",
        "print(50 * '--')\n",
        "\n",
        "print(\" Ano \")\n",
        "\n",
        "print(50 * '--')\n",
        "\n",
        "print(Counter(Ano))\n",
        "\n",
        "\n",
        "mes = []\n",
        "\n",
        "for i in range(0,len(df['Data de registro '])):\n",
        "  mes.append(df['Data de registro '][i][5:7])\n",
        "\n",
        "\n",
        "print(50 * '--')\n",
        "\n",
        "print(\" Mes \")\n",
        "\n",
        "print(50 * '--')\n",
        "\n",
        "print(Counter(mes))\n",
        "\n",
        "\n",
        "# Separando os dias\n",
        "\n",
        "dia = []\n",
        "\n",
        "for i in range(0,len(df['Data de registro '])):\n",
        "  dia.append(df['Data de registro '][i][8:10])\n",
        "\n",
        "\n",
        "print(50 * '--')\n",
        "\n",
        "print(\" Dia \")\n",
        "\n",
        "print(50 * '--')\n",
        "\n",
        "print(Counter(dia))"
      ],
      "metadata": {
        "colab": {
          "base_uri": "https://localhost:8080/"
        },
        "id": "PG0llcs-AWpf",
        "outputId": "eca2d8b4-1a05-4930-8b4c-48b19fa087b6"
      },
      "execution_count": null,
      "outputs": [
        {
          "output_type": "stream",
          "name": "stdout",
          "text": [
            "----------------------------------------------------------------------------------------------------\n",
            " Ano \n",
            "----------------------------------------------------------------------------------------------------\n",
            "Counter({'2020': 93318, '2019': 87003, '2021': 84679, '2018': 77323, '2017': 72694, '2016': 53104, '2015': 42438, '2014': 7995})\n",
            "----------------------------------------------------------------------------------------------------\n",
            " Mes \n",
            "----------------------------------------------------------------------------------------------------\n",
            "Counter({'08': 49222, '11': 48746, '10': 45638, '09': 45468, '07': 44579, '05': 43871, '03': 42311, '06': 41711, '12': 40630, '01': 40135, '04': 39113, '02': 37130})\n",
            "----------------------------------------------------------------------------------------------------\n",
            " Dia \n",
            "----------------------------------------------------------------------------------------------------\n",
            "Counter({'10': 31788, '09': 24907, '14': 23789, '13': 22735, '08': 22604, '11': 21865, '12': 20734, '07': 20353, '06': 20117, '15': 19109, '19': 17384, '05': 17315, '17': 16352, '16': 16072, '22': 15865, '04': 15483, '23': 15142, '03': 15044, '20': 14663, '21': 14226, '26': 14209, '18': 13942, '27': 13903, '02': 13510, '25': 13444, '24': 12929, '28': 12597, '29': 12149, '30': 10417, '01': 10385, '31': 5522})\n"
          ]
        }
      ]
    },
    {
      "cell_type": "markdown",
      "source": [
        "# Data de preenchimento do relatório mensal"
      ],
      "metadata": {
        "id": "h-pxQypoAnKi"
      }
    },
    {
      "cell_type": "code",
      "source": [
        "from collections import Counter\n",
        "\n",
        "DT_registro = []\n",
        "\n",
        "for i in range(0,len(df['Data de preenchimento do relatório mensal'])):\n",
        "\n",
        "  if len(str(df['Data de preenchimento do relatório mensal'][i])) > 5:\n",
        "\n",
        "    DT_registro.append(df['Data de preenchimento do relatório mensal'][i][0:10])\n",
        "\n",
        "# Separando os anos \n",
        "\n",
        "Ano = []\n",
        "\n",
        "for i in range(0,len(df['Data de preenchimento do relatório mensal'])):\n",
        "  if len(str(df['Data de preenchimento do relatório mensal'][i])) > 5:\n",
        "    Ano.append(df['Data de preenchimento do relatório mensal'][i][0:4])\n",
        "\n",
        "# Separando os meses\n",
        "\n",
        "print(50 * '--')\n",
        "\n",
        "print(\" Ano \")\n",
        "\n",
        "print(50 * '--')\n",
        "\n",
        "print(Counter(Ano))\n",
        "\n",
        "\n",
        "mes = []\n",
        "\n",
        "for i in range(0,len(df['Data de preenchimento do relatório mensal'])):\n",
        "  if len(str(df['Data de preenchimento do relatório mensal'][i])) > 5:\n",
        "    mes.append(df['Data de preenchimento do relatório mensal'][i][5:7])\n",
        "\n",
        "\n",
        "print(50 * '--')\n",
        "\n",
        "print(\" Mes \")\n",
        "\n",
        "print(50 * '--')\n",
        "\n",
        "print(Counter(mes))\n",
        "\n",
        "\n",
        "# Separando os dias\n",
        "\n",
        "dia = []\n",
        "\n",
        "for i in range(0,len(df['Data de preenchimento do relatório mensal'])):\n",
        "  if len(str(df['Data de preenchimento do relatório mensal'][i])) > 5:\n",
        "    dia.append(df['Data de preenchimento do relatório mensal'][i][8:10])\n",
        "\n",
        "\n",
        "print(50 * '--')\n",
        "\n",
        "print(\" Dia \")\n",
        "\n",
        "print(50 * '--')\n",
        "\n",
        "print(Counter(dia))"
      ],
      "metadata": {
        "colab": {
          "base_uri": "https://localhost:8080/"
        },
        "id": "epJeifVeAq1-",
        "outputId": "2d74dc4b-1f91-4d99-9c3a-3df4a4fb156d"
      },
      "execution_count": null,
      "outputs": [
        {
          "output_type": "stream",
          "name": "stdout",
          "text": [
            "----------------------------------------------------------------------------------------------------\n",
            " Ano \n",
            "----------------------------------------------------------------------------------------------------\n",
            "Counter({'2020': 93791, '2019': 87368, '2021': 80602, '2018': 75806, '2017': 72679, '2016': 51792, '2015': 38274, '2014': 18211})\n",
            "----------------------------------------------------------------------------------------------------\n",
            " Mes \n",
            "----------------------------------------------------------------------------------------------------\n",
            "Counter({'08': 47311, '10': 45690, '09': 45676, '05': 45015, '11': 44778, '07': 44206, '06': 43478, '03': 43276, '04': 41840, '02': 40898, '12': 38742, '01': 37613})\n",
            "----------------------------------------------------------------------------------------------------\n",
            " Dia \n",
            "----------------------------------------------------------------------------------------------------\n",
            "Counter({'10': 41447, '01': 32309, '09': 29720, '08': 26919, '11': 24950, '07': 22783, '06': 22313, '13': 21964, '12': 21454, '14': 19976, '05': 19963, '04': 18030, '15': 18020, '03': 16255, '30': 15413, '02': 14507, '31': 13023, '16': 12484, '17': 12056, '27': 11825, '26': 11816, '20': 11725, '28': 11438, '19': 11420, '29': 9598, '18': 9473, '21': 9419, '22': 8239, '23': 6997, '24': 6623, '25': 6364})\n"
          ]
        }
      ]
    },
    {
      "cell_type": "markdown",
      "source": [
        "# Zona"
      ],
      "metadata": {
        "id": "c2mGp67QA1tR"
      }
    },
    {
      "cell_type": "code",
      "source": [
        "df['Zona'].value_counts()"
      ],
      "metadata": {
        "colab": {
          "base_uri": "https://localhost:8080/"
        },
        "id": "4wiSJmDDA2vs",
        "outputId": "4e9903c5-6622-4f56-cbbe-e89cb7cbc58d"
      },
      "execution_count": null,
      "outputs": [
        {
          "output_type": "execute_result",
          "data": {
            "text/plain": [
              "Urbana    476394\n",
              "Rural      42160\n",
              "Name: Zona, dtype: int64"
            ]
          },
          "metadata": {},
          "execution_count": 53
        }
      ]
    },
    {
      "cell_type": "markdown",
      "source": [
        "# Categoria Área"
      ],
      "metadata": {
        "id": "a0blUd2_A7WD"
      }
    },
    {
      "cell_type": "code",
      "source": [
        "df['Categoria Área'].value_counts()"
      ],
      "metadata": {
        "colab": {
          "base_uri": "https://localhost:8080/"
        },
        "id": "jjPUgT0CA-pU",
        "outputId": "49d435dd-2cb6-4eaf-ef17-1855567fa66f"
      },
      "execution_count": null,
      "outputs": [
        {
          "output_type": "execute_result",
          "data": {
            "text/plain": [
              "Bairro                        434551\n",
              "Povoado/Lugarejo               29719\n",
              "Sede de distrito (ou vila)     27613\n",
              "Área urbana isolada            14230\n",
              "Núcleo/Propriedade Rural       11054\n",
              "Comunidade Quilombola            687\n",
              "Projeto de assentamento          498\n",
              "Reserva Extrativista              87\n",
              "Comunidade Ribeirinha             74\n",
              "Aldeia indígena                   41\n",
              "Name: Categoria Área, dtype: int64"
            ]
          },
          "metadata": {},
          "execution_count": 54
        }
      ]
    },
    {
      "cell_type": "markdown",
      "source": [
        "# Área"
      ],
      "metadata": {
        "id": "cTZYOGL7BABq"
      }
    },
    {
      "cell_type": "code",
      "source": [
        "df['Área'].value_counts()"
      ],
      "metadata": {
        "colab": {
          "base_uri": "https://localhost:8080/"
        },
        "id": "dYWGZWJqBDVZ",
        "outputId": "993f7931-77b3-4793-b273-3540d7716cad"
      },
      "execution_count": null,
      "outputs": [
        {
          "output_type": "execute_result",
          "data": {
            "text/plain": [
              "CENTRO                          83946\n",
              "SEDE MUNICIPAL                  16245\n",
              "SETOR CENTRAL                    3506\n",
              "BELA VISTA                       2902\n",
              "SEDE DO MUNICIPIO                2017\n",
              "                                ...  \n",
              "FRANCISCO VIEIRA CAMPOS             1\n",
              "AGESPISA DE MIGUEL ALVES            1\n",
              "BRASILINA TERRA JOIA POLETTO        1\n",
              "RESIDENCIAL MÁRIO COVAS             1\n",
              "RIBEIRAO VERDE                      1\n",
              "Name: Área, Length: 14556, dtype: int64"
            ]
          },
          "metadata": {},
          "execution_count": 55
        }
      ]
    },
    {
      "cell_type": "markdown",
      "source": [
        "Conferindo se tem área preenchida apenas com números "
      ],
      "metadata": {
        "id": "qRGooyYYBL7I"
      }
    },
    {
      "cell_type": "code",
      "source": [
        "area = list((df.drop_duplicates(subset =\"Área\", keep = 'last')['Área']))"
      ],
      "metadata": {
        "id": "exVTizdmBP54"
      },
      "execution_count": null,
      "outputs": []
    },
    {
      "cell_type": "code",
      "source": [
        "import collections\n",
        "\n",
        "frequencia = []\n",
        "\n",
        "for i in range(0,len(area)):\n",
        "  try:\n",
        "    result = area[i].isdigit()\n",
        "    frequencia.append(result)\n",
        "  except:\n",
        "    print('Valor nulo encontrado')\n",
        "\n",
        "counter=collections.Counter(frequencia)\n",
        "\n",
        "print(counter)"
      ],
      "metadata": {
        "colab": {
          "base_uri": "https://localhost:8080/"
        },
        "id": "YY4hfHIeBJPC",
        "outputId": "d1335d03-377c-446c-b051-af5cf4cd02c6"
      },
      "execution_count": null,
      "outputs": [
        {
          "output_type": "stream",
          "name": "stdout",
          "text": [
            "Counter({False: 14554, True: 2})\n"
          ]
        }
      ]
    },
    {
      "cell_type": "markdown",
      "source": [
        "# Tipo do local"
      ],
      "metadata": {
        "id": "8Fm69UzZBaSN"
      }
    },
    {
      "cell_type": "code",
      "source": [
        "df['Tipo do local'].value_counts()"
      ],
      "metadata": {
        "colab": {
          "base_uri": "https://localhost:8080/"
        },
        "id": "EaJo-ul_BJSV",
        "outputId": "4a8a7a86-7b7c-4e00-cf82-d615d95b0fee"
      },
      "execution_count": null,
      "outputs": [
        {
          "output_type": "execute_result",
          "data": {
            "text/plain": [
              "Indústria                    10812\n",
              "Outro                         7439\n",
              "Estabelecimento comercial     6532\n",
              "Condomínio                    3227\n",
              "Estabelecimento de ensino     2020\n",
              "Grupo de casas                1898\n",
              "Casa                          1891\n",
              "Linha                         1462\n",
              "Estabelecimento de saúde      1384\n",
              "Clube                         1227\n",
              "Conjunto habitacional          642\n",
              "Edifício/Prédio                595\n",
              "Posto de combustível           426\n",
              "Asilo/Casa de repouso          247\n",
              "Templo religioso               140\n",
              "Praça                          136\n",
              "Cadeia/Presídio                123\n",
              "Creche                          71\n",
              "Estádio/Ginásio                 71\n",
              "Porto                           33\n",
              "Parque                          22\n",
              "Aeroporto                       20\n",
              "Acampamento                     13\n",
              "Construção civil (obra)         10\n",
              "Rodoviária                       8\n",
              "Cemitério                        4\n",
              "Orfanato                         4\n",
              "Estação Ferroviária              1\n",
              "Name: Tipo do local, dtype: int64"
            ]
          },
          "metadata": {},
          "execution_count": 59
        }
      ]
    },
    {
      "cell_type": "markdown",
      "source": [
        "# Local"
      ],
      "metadata": {
        "id": "zQ0VtlrrBf1m"
      }
    },
    {
      "cell_type": "code",
      "source": [
        "df['Local'].value_counts()"
      ],
      "metadata": {
        "colab": {
          "base_uri": "https://localhost:8080/"
        },
        "id": "51pWOe2_BhKX",
        "outputId": "b81d55dc-03dd-4295-dc03-9d73ef8ffd4e"
      },
      "execution_count": null,
      "outputs": [
        {
          "output_type": "execute_result",
          "data": {
            "text/plain": [
              "CNH LATIN AMERICA LTDA                 304\n",
              "COPASA                                 301\n",
              "CENTRO                                 270\n",
              "ANOVIS INDUSTRIAL FARMACEUTICA LTDA    211\n",
              "SOROCABA AMBIENTAL FILIAL              170\n",
              "                                      ... \n",
              "EMEF VISCONDE DO RIO BRANCO              1\n",
              "CAVALETE DO ESF LARANJEIRAS              1\n",
              "CASA 1 PONTO 21                          1\n",
              "RESIDENCIA DE LIDIA BICIGO               1\n",
              "CAMPINHA                                 1\n",
              "Name: Local, Length: 3484, dtype: int64"
            ]
          },
          "metadata": {},
          "execution_count": 60
        }
      ]
    },
    {
      "cell_type": "markdown",
      "source": [
        "Conferindo se tem local preenchido apenas com números"
      ],
      "metadata": {
        "id": "v_0OJ7dOBr_e"
      }
    },
    {
      "cell_type": "code",
      "source": [
        "local = list((df.drop_duplicates(subset =\"Local\", keep = 'last')['Local']))"
      ],
      "metadata": {
        "id": "FcM6rsN_BlBk"
      },
      "execution_count": null,
      "outputs": []
    },
    {
      "cell_type": "code",
      "source": [
        "import collections\n",
        "\n",
        "frequencia = []\n",
        "\n",
        "for i in range(0,len(local)):\n",
        "  try:\n",
        "    result = local[i].isdigit()\n",
        "    frequencia.append(result)\n",
        "  except:\n",
        "    print('Valor nulo encontrado')\n",
        "\n",
        "counter=collections.Counter(frequencia)\n",
        "\n",
        "print(counter)"
      ],
      "metadata": {
        "colab": {
          "base_uri": "https://localhost:8080/"
        },
        "id": "_U7wbVxIBlDx",
        "outputId": "5a3f63c2-d754-4d32-a344-865c95998fb4"
      },
      "execution_count": null,
      "outputs": [
        {
          "output_type": "stream",
          "name": "stdout",
          "text": [
            "Valor nulo encontrado\n",
            "Counter({False: 3479, True: 5})\n"
          ]
        }
      ]
    },
    {
      "cell_type": "markdown",
      "source": [
        "# Número de reparos na rede (somente para SAA)"
      ],
      "metadata": {
        "id": "IcyEGv_6B0Q-"
      }
    },
    {
      "cell_type": "code",
      "source": [
        "Resultado = [x for x in list((df.drop_duplicates(subset =\"Número de reparos na rede (somente para SAA)\", keep = 'last')['Número de reparos na rede (somente para SAA)'])) if str(x) != 'nan']"
      ],
      "metadata": {
        "id": "CcAzyf6MB0f2"
      },
      "execution_count": null,
      "outputs": []
    },
    {
      "cell_type": "code",
      "source": [
        "import collections\n",
        "\n",
        "frequencia = []\n",
        "\n",
        "for i in range(0,len(Resultado)):\n",
        "  try:\n",
        "    result = str(Resultado[i]).replace('.','').replace('-','').replace(',','').isdigit()\n",
        "    frequencia.append(result)\n",
        "  except:\n",
        "    print('Valor nulo encontrado')\n",
        "\n",
        "counter=collections.Counter(frequencia)\n",
        "\n",
        "print(counter)"
      ],
      "metadata": {
        "colab": {
          "base_uri": "https://localhost:8080/"
        },
        "id": "oCeJx2U0B_Mw",
        "outputId": "a38070ff-e898-4f8a-bd51-78b2caf7953e"
      },
      "execution_count": null,
      "outputs": [
        {
          "output_type": "stream",
          "name": "stdout",
          "text": [
            "Counter({True: 695})\n"
          ]
        }
      ]
    },
    {
      "cell_type": "markdown",
      "source": [
        "# Número de eventos de intermitência (somente para SAA)"
      ],
      "metadata": {
        "id": "mLgyYY1_CEf2"
      }
    },
    {
      "cell_type": "code",
      "source": [
        "Resultado = [x for x in list((df.drop_duplicates(subset =\"Número de eventos de intermitência (somente para SAA)\", keep = 'last')['Número de eventos de intermitência (somente para SAA)'])) if str(x) != 'nan']"
      ],
      "metadata": {
        "id": "kZ1h4MXdCHEY"
      },
      "execution_count": null,
      "outputs": []
    },
    {
      "cell_type": "code",
      "source": [
        "import collections\n",
        "\n",
        "frequencia = []\n",
        "\n",
        "for i in range(0,len(Resultado)):\n",
        "  try:\n",
        "    result = str(Resultado[i]).replace('.','').replace('-','').replace(',','').isdigit()\n",
        "    frequencia.append(result)\n",
        "  except:\n",
        "    print('Valor nulo encontrado')\n",
        "\n",
        "counter=collections.Counter(frequencia)\n",
        "\n",
        "print(counter)"
      ],
      "metadata": {
        "colab": {
          "base_uri": "https://localhost:8080/"
        },
        "id": "lsMDn0dICHGd",
        "outputId": "3ddb0e3b-97bc-4a25-e72d-0fea6f1ab8ac"
      },
      "execution_count": null,
      "outputs": [
        {
          "output_type": "stream",
          "name": "stdout",
          "text": [
            "Counter({True: 1242})\n"
          ]
        }
      ]
    },
    {
      "cell_type": "markdown",
      "source": [
        "# Número de eventos de falta de água"
      ],
      "metadata": {
        "id": "zrOk4zdWCN_2"
      }
    },
    {
      "cell_type": "code",
      "source": [
        "Resultado = [x for x in list((df.drop_duplicates(subset =\"Número de eventos de falta de água\", keep = 'last')['Número de eventos de falta de água'])) if str(x) != 'nan']"
      ],
      "metadata": {
        "id": "JiLQcrkjCL7-"
      },
      "execution_count": null,
      "outputs": []
    },
    {
      "cell_type": "code",
      "source": [
        "import collections\n",
        "\n",
        "frequencia = []\n",
        "\n",
        "for i in range(0,len(Resultado)):\n",
        "  try:\n",
        "    result = str(Resultado[i]).replace('.','').replace('-','').replace(',','').isdigit()\n",
        "    frequencia.append(result)\n",
        "  except:\n",
        "    print('Valor nulo encontrado')\n",
        "\n",
        "counter=collections.Counter(frequencia)\n",
        "\n",
        "print(counter)"
      ],
      "metadata": {
        "colab": {
          "base_uri": "https://localhost:8080/"
        },
        "id": "KBJzbFWICQEl",
        "outputId": "fa8715e9-8d46-4f82-9d59-614761383672"
      },
      "execution_count": null,
      "outputs": [
        {
          "output_type": "stream",
          "name": "stdout",
          "text": [
            "Counter({True: 1096})\n"
          ]
        }
      ]
    },
    {
      "cell_type": "markdown",
      "source": [
        "# Número de reclamações de cor da água"
      ],
      "metadata": {
        "id": "sWc0br5bCVv9"
      }
    },
    {
      "cell_type": "code",
      "source": [
        "Resultado = [x for x in list((df.drop_duplicates(subset =\"Número de reclamações de cor da água\", keep = 'last')['Número de reclamações de cor da água'])) if str(x) != 'nan']"
      ],
      "metadata": {
        "id": "44f9KuXYCWdy"
      },
      "execution_count": null,
      "outputs": []
    },
    {
      "cell_type": "code",
      "source": [
        "import collections\n",
        "\n",
        "frequencia = []\n",
        "\n",
        "for i in range(0,len(Resultado)):\n",
        "  try:\n",
        "    result = str(Resultado[i]).replace('.','').replace('-','').replace(',','').isdigit()\n",
        "    frequencia.append(result)\n",
        "  except:\n",
        "    print('Valor nulo encontrado')\n",
        "\n",
        "counter=collections.Counter(frequencia)\n",
        "\n",
        "print(counter)"
      ],
      "metadata": {
        "colab": {
          "base_uri": "https://localhost:8080/"
        },
        "id": "DdRXr-87CWfr",
        "outputId": "2a4e1ea9-bb3f-4ea9-a0b4-ea9828ffaa2d"
      },
      "execution_count": null,
      "outputs": [
        {
          "output_type": "stream",
          "name": "stdout",
          "text": [
            "Counter({True: 215})\n"
          ]
        }
      ]
    },
    {
      "cell_type": "markdown",
      "source": [
        "# Número de Reclamação de gosto e ou odor"
      ],
      "metadata": {
        "id": "QlZEw_oXCbHF"
      }
    },
    {
      "cell_type": "code",
      "source": [
        "Resultado = [x for x in list((df.drop_duplicates(subset =\"Número de Reclamação de gosto e ou odor\", keep = 'last')['Número de Reclamação de gosto e ou odor'])) if str(x) != 'nan']"
      ],
      "metadata": {
        "id": "rYTCHVtPCd7L"
      },
      "execution_count": null,
      "outputs": []
    },
    {
      "cell_type": "code",
      "source": [
        "import collections\n",
        "\n",
        "frequencia = []\n",
        "\n",
        "for i in range(0,len(Resultado)):\n",
        "  try:\n",
        "    result = str(Resultado[i]).replace('.','').replace('-','').replace(',','').isdigit()\n",
        "    frequencia.append(result)\n",
        "  except:\n",
        "    print('Valor nulo encontrado')\n",
        "\n",
        "counter=collections.Counter(frequencia)\n",
        "\n",
        "print(counter)"
      ],
      "metadata": {
        "colab": {
          "base_uri": "https://localhost:8080/"
        },
        "id": "ITYlVJHnCeBO",
        "outputId": "c9d765e9-329a-4179-fa58-562c2dea1ac3"
      },
      "execution_count": null,
      "outputs": [
        {
          "output_type": "stream",
          "name": "stdout",
          "text": [
            "Counter({True: 99})\n"
          ]
        }
      ]
    },
    {
      "cell_type": "markdown",
      "source": [
        "# Realizando a busca pela chave primária"
      ],
      "metadata": {
        "id": "MtGxF6iKCjaL"
      }
    },
    {
      "cell_type": "code",
      "source": [
        "(df.groupby(['Código Forma de abastecimento', 'Município','Mês de referência','Área','Tipo do local', 'Zona','Categoria Área','Nome da Forma de Abastecimento']).size()).value_counts()"
      ],
      "metadata": {
        "colab": {
          "base_uri": "https://localhost:8080/"
        },
        "id": "wc6az8U-ClQa",
        "outputId": "3fd8d6b4-c1b7-41bc-bd72-21c4b8f98437"
      },
      "execution_count": null,
      "outputs": [
        {
          "output_type": "execute_result",
          "data": {
            "text/plain": [
              "1     10492\n",
              "2      3810\n",
              "3      2136\n",
              "4      1700\n",
              "5      1520\n",
              "6       177\n",
              "7        21\n",
              "8        13\n",
              "10       11\n",
              "9         4\n",
              "11        2\n",
              "15        1\n",
              "14        1\n",
              "12        1\n",
              "16        1\n",
              "dtype: int64"
            ]
          },
          "metadata": {},
          "execution_count": 80
        }
      ]
    }
  ]
}