{
  "nbformat": 4,
  "nbformat_minor": 0,
  "metadata": {
    "colab": {
      "name": "SIsagua - Amostra fora do padrao.ipynb",
      "provenance": [],
      "collapsed_sections": []
    },
    "kernelspec": {
      "name": "python3",
      "display_name": "Python 3"
    },
    "language_info": {
      "name": "python"
    },
    "accelerator": "GPU"
  },
  "cells": [
    {
      "cell_type": "markdown",
      "source": [
        "#  Realizando a conexão com o driver"
      ],
      "metadata": {
        "id": "6gLucH9BdxfD"
      }
    },
    {
      "cell_type": "code",
      "execution_count": 1,
      "metadata": {
        "colab": {
          "base_uri": "https://localhost:8080/"
        },
        "id": "x0Qaflf0diAK",
        "outputId": "78187a7a-27e5-4de4-c285-dcedca179cee"
      },
      "outputs": [
        {
          "output_type": "stream",
          "name": "stdout",
          "text": [
            "Mounted at /gdrive\n"
          ]
        }
      ],
      "source": [
        "from google.colab import drive\n",
        "drive.mount('/gdrive', force_remount=True)"
      ]
    },
    {
      "cell_type": "code",
      "source": [
        "%cd '/gdrive/My Drive/PDFS'\n",
        "%ls"
      ],
      "metadata": {
        "colab": {
          "base_uri": "https://localhost:8080/"
        },
        "id": "ljNYiWG6d11L",
        "outputId": "20e20a23-736c-4ad6-822d-2db9257ec83a"
      },
      "execution_count": 2,
      "outputs": [
        {
          "output_type": "stream",
          "name": "stdout",
          "text": [
            "/gdrive/My Drive/PDFS\n",
            "'comorbidades  com doses  e data..csv'      Download_arquivos_01_11_2021.txt\n",
            " comorbidade.txt                            Download_arquivos_28_10_2021.txt\n",
            " Contador_ID.txt                            Download_arquivos_29_10_2021.txt\n",
            " controle_mensal_amostras_fora_padrao.csv   Download_arquivos_31_10_2021.txt\n",
            "'dados publicacao.csv'                      new.csv\n"
          ]
        }
      ]
    },
    {
      "cell_type": "markdown",
      "source": [
        "# Importando a base de dados"
      ],
      "metadata": {
        "id": "fB1eueQxd3YX"
      }
    },
    {
      "cell_type": "code",
      "source": [
        "import zipfile\n",
        "import pandas as pd\n",
        "import time\n",
        "\n",
        "# Realizando o download da base\n",
        "\n",
        "dados = !wget --no-check-certificate https://sage.saude.gov.br/dados/sisagua/controle_mensal_amostras_fora_padrao.zip\n",
        "\n",
        "# Pegando os CSV's que se encontravam zipados\n",
        "\n",
        "with zipfile.ZipFile('controle_mensal_amostras_fora_padrao.zip',\"r\") as zip_ref:\n",
        "    zip_ref.extractall(\"Sisagua\")\n",
        "\n",
        "time.sleep(20)\n",
        "\n",
        "%cd 'Sisagua'\n",
        "%ls\n",
        "\n",
        "# Lendo o Dataframe\n",
        "\n",
        "df = pd.read_csv('controle_mensal_amostras_fora_padrao.csv', encoding='latin_1',sep=';',decimal=',',\n",
        "                 dtype={'Código IBGE':'object','CNPJ da Instituição':'object',r'CNPJ do escritório regional/local':'object'})"
      ],
      "metadata": {
        "colab": {
          "base_uri": "https://localhost:8080/"
        },
        "id": "m505CQTDd4HP",
        "outputId": "40552f96-1f73-4f99-9240-25b380f55708"
      },
      "execution_count": 3,
      "outputs": [
        {
          "output_type": "stream",
          "name": "stdout",
          "text": [
            "/gdrive/My Drive/PDFS/Sisagua\n",
            "controle_mensal_amostras_fora_padrao.csv\n"
          ]
        },
        {
          "output_type": "stream",
          "name": "stderr",
          "text": [
            "/usr/local/lib/python3.7/dist-packages/IPython/core/interactiveshell.py:2718: DtypeWarning: Columns (6,9) have mixed types.Specify dtype option on import or set low_memory=False.\n",
            "  interactivity=interactivity, compiler=compiler, result=result)\n"
          ]
        }
      ]
    },
    {
      "cell_type": "markdown",
      "source": [
        "# Visão geral do formato das colunas"
      ],
      "metadata": {
        "id": "QvjOkh32epgh"
      }
    },
    {
      "cell_type": "code",
      "source": [
        "df.info()"
      ],
      "metadata": {
        "colab": {
          "base_uri": "https://localhost:8080/"
        },
        "id": "M7Nkd80DeqTi",
        "outputId": "9af29915-fa62-4a66-8f41-d510384767de"
      },
      "execution_count": 4,
      "outputs": [
        {
          "output_type": "stream",
          "name": "stdout",
          "text": [
            "<class 'pandas.core.frame.DataFrame'>\n",
            "RangeIndex: 516632 entries, 0 to 516631\n",
            "Data columns (total 31 columns):\n",
            " #   Column                                     Non-Null Count   Dtype  \n",
            "---  ------                                     --------------   -----  \n",
            " 0   Região Geográfica                          516632 non-null  object \n",
            " 1   UF                                         516632 non-null  object \n",
            " 2   Regional de Saúde                          516632 non-null  object \n",
            " 3   Município                                  516632 non-null  object \n",
            " 4   Código IBGE                                516632 non-null  object \n",
            " 5   Tipo da Instituição                        515093 non-null  object \n",
            " 6   Sigla da Instituição                       285147 non-null  object \n",
            " 7   Nome da Instituição                        515093 non-null  object \n",
            " 8   CNPJ da Instituição                        515093 non-null  object \n",
            " 9   Nome do escritório regional/local          285147 non-null  object \n",
            " 10  CNPJ do escritório regional/local          285147 non-null  object \n",
            " 11  Tipo da Forma de Abastecimento             516632 non-null  object \n",
            " 12  Código Forma de abastecimento              516632 non-null  object \n",
            " 13  Nome da Forma de Abastecimento             516632 non-null  object \n",
            " 14  Ano de referência                          516632 non-null  int64  \n",
            " 15  Mês de referência                          516632 non-null  int64  \n",
            " 16  Data de registro                           516632 non-null  object \n",
            " 17  Data de preenchimento do relatório mensal  516614 non-null  object \n",
            " 18  Data da coleta                             516616 non-null  object \n",
            " 19  Ponto de Monitoramento                     516632 non-null  object \n",
            " 20  Parâmetro                                  516632 non-null  object \n",
            " 21  Zona                                       516611 non-null  object \n",
            " 22  Categoria Área                             516611 non-null  object \n",
            " 23  Área                                       516611 non-null  object \n",
            " 24  Tipo do local                              86109 non-null   object \n",
            " 25  Local                                      86109 non-null   object \n",
            " 26  Endereço                                   463138 non-null  object \n",
            " 27  Latitude                                   19380 non-null   float64\n",
            " 28  Longitude                                  19380 non-null   float64\n",
            " 29  Resultado                                  516628 non-null  object \n",
            " 30  Providência do controle                    516468 non-null  object \n",
            "dtypes: float64(2), int64(2), object(27)\n",
            "memory usage: 122.2+ MB\n"
          ]
        }
      ]
    },
    {
      "cell_type": "markdown",
      "source": [
        "# Contagem de valores nulos"
      ],
      "metadata": {
        "id": "ViUrZlseerJM"
      }
    },
    {
      "cell_type": "code",
      "source": [
        "df.isnull().astype(int).sum()"
      ],
      "metadata": {
        "colab": {
          "base_uri": "https://localhost:8080/"
        },
        "id": "OFKRpvIbet9D",
        "outputId": "e1bd1601-f748-4070-bb51-d034e9c3cfa2"
      },
      "execution_count": 5,
      "outputs": [
        {
          "output_type": "execute_result",
          "data": {
            "text/plain": [
              "Região Geográfica                                 0\n",
              "UF                                                0\n",
              "Regional de Saúde                                 0\n",
              "Município                                         0\n",
              "Código IBGE                                       0\n",
              "Tipo da Instituição                            1539\n",
              "Sigla da Instituição                         231485\n",
              "Nome da Instituição                            1539\n",
              "CNPJ da Instituição                            1539\n",
              "Nome do escritório regional/local            231485\n",
              "CNPJ do escritório regional/local            231485\n",
              "Tipo da Forma de Abastecimento                    0\n",
              "Código Forma de abastecimento                     0\n",
              "Nome da Forma de Abastecimento                    0\n",
              "Ano de referência                                 0\n",
              "Mês de referência                                 0\n",
              "Data de registro                                  0\n",
              "Data de preenchimento do relatório mensal        18\n",
              "Data da coleta                                   16\n",
              "Ponto de Monitoramento                            0\n",
              "Parâmetro                                         0\n",
              "Zona                                             21\n",
              "Categoria Área                                   21\n",
              "Área                                             21\n",
              "Tipo do local                                430523\n",
              "Local                                        430523\n",
              "Endereço                                      53494\n",
              "Latitude                                     497252\n",
              "Longitude                                    497252\n",
              "Resultado                                         4\n",
              "Providência do controle                         164\n",
              "dtype: int64"
            ]
          },
          "metadata": {},
          "execution_count": 5
        }
      ]
    },
    {
      "cell_type": "markdown",
      "source": [
        "# Conferindo se existem 27 UF's"
      ],
      "metadata": {
        "id": "MB18HGS9ewVd"
      }
    },
    {
      "cell_type": "code",
      "source": [
        "df['UF'].value_counts()"
      ],
      "metadata": {
        "colab": {
          "base_uri": "https://localhost:8080/"
        },
        "id": "FFNxNVfyex5X",
        "outputId": "b3ebebb0-3853-4ed9-b3ac-3f98ffe1af63"
      },
      "execution_count": 6,
      "outputs": [
        {
          "output_type": "execute_result",
          "data": {
            "text/plain": [
              "SP    267904\n",
              "BA     64957\n",
              "SE     40050\n",
              "SC     38838\n",
              "ES     20659\n",
              "RS     18450\n",
              "MG     12868\n",
              "GO      8323\n",
              "DF      8004\n",
              "RJ      6087\n",
              "AM      5934\n",
              "PI      5697\n",
              "MT      4259\n",
              "MA      2917\n",
              "PB      2492\n",
              "RN      2286\n",
              "MS      1969\n",
              "PR      1759\n",
              "RR       913\n",
              "AL       502\n",
              "RO       490\n",
              "TO       468\n",
              "PA       339\n",
              "PE       219\n",
              "CE       203\n",
              "AP        40\n",
              "AC         5\n",
              "Name: UF, dtype: int64"
            ]
          },
          "metadata": {},
          "execution_count": 6
        }
      ]
    },
    {
      "cell_type": "markdown",
      "source": [
        "# Conferindo se as 5 regiões estão corretas"
      ],
      "metadata": {
        "id": "DWhl83iZez2F"
      }
    },
    {
      "cell_type": "code",
      "source": [
        "df['Região Geográfica'].value_counts()"
      ],
      "metadata": {
        "colab": {
          "base_uri": "https://localhost:8080/"
        },
        "id": "ciMzXQ1we0wF",
        "outputId": "851fca75-93ea-4f86-c3d8-c8ac31f56c95"
      },
      "execution_count": 7,
      "outputs": [
        {
          "output_type": "execute_result",
          "data": {
            "text/plain": [
              "SUDESTE         307518\n",
              "NORDESTE        119323\n",
              "SUL              59047\n",
              "CENTRO-OESTE     22555\n",
              "NORTE             8189\n",
              "Name: Região Geográfica, dtype: int64"
            ]
          },
          "metadata": {},
          "execution_count": 7
        }
      ]
    },
    {
      "cell_type": "markdown",
      "source": [
        "# Conferindo se o Código IBGE está indexado corretamente"
      ],
      "metadata": {
        "id": "NLoSURz3e6Ec"
      }
    },
    {
      "cell_type": "code",
      "source": [
        "(df.drop_duplicates(subset =\"Código IBGE\", keep = 'last')['Código IBGE']).to_csv('new.csv', index=False)"
      ],
      "metadata": {
        "id": "bKM8i4zxe6wz"
      },
      "execution_count": 8,
      "outputs": []
    },
    {
      "cell_type": "markdown",
      "source": [
        "Existem 31 códigos IBGE que não tiveram correspondência com a base disponibilizada pelo Ministério da saúde, sendo estes:"
      ],
      "metadata": {
        "id": "qXoJAKZNiuCh"
      }
    },
    {
      "cell_type": "markdown",
      "source": [
        "![image.png](data:image/png;base64,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)"
      ],
      "metadata": {
        "id": "JFFWoUxMiowk"
      }
    },
    {
      "cell_type": "markdown",
      "source": [
        "Conferindo quais municipios são referentes os códigos do IBGE"
      ],
      "metadata": {
        "id": "z94W3PgGiwOL"
      }
    },
    {
      "cell_type": "code",
      "source": [
        "df[df['Código IBGE']=='530030'].head(1)"
      ],
      "metadata": {
        "colab": {
          "base_uri": "https://localhost:8080/",
          "height": 284
        },
        "id": "lriCLewsioQI",
        "outputId": "71134eb6-0bd9-4734-b805-b61f3b098819"
      },
      "execution_count": 9,
      "outputs": [
        {
          "output_type": "execute_result",
          "data": {
            "text/html": [
              "\n",
              "  <div id=\"df-0a149a0d-b88b-4bb2-8677-e7ea5249750f\">\n",
              "    <div class=\"colab-df-container\">\n",
              "      <div>\n",
              "<style scoped>\n",
              "    .dataframe tbody tr th:only-of-type {\n",
              "        vertical-align: middle;\n",
              "    }\n",
              "\n",
              "    .dataframe tbody tr th {\n",
              "        vertical-align: top;\n",
              "    }\n",
              "\n",
              "    .dataframe thead th {\n",
              "        text-align: right;\n",
              "    }\n",
              "</style>\n",
              "<table border=\"1\" class=\"dataframe\">\n",
              "  <thead>\n",
              "    <tr style=\"text-align: right;\">\n",
              "      <th></th>\n",
              "      <th>Região Geográfica</th>\n",
              "      <th>UF</th>\n",
              "      <th>Regional de Saúde</th>\n",
              "      <th>Município</th>\n",
              "      <th>Código IBGE</th>\n",
              "      <th>Tipo da Instituição</th>\n",
              "      <th>Sigla da Instituição</th>\n",
              "      <th>Nome da Instituição</th>\n",
              "      <th>CNPJ da Instituição</th>\n",
              "      <th>Nome do escritório regional/local</th>\n",
              "      <th>CNPJ do escritório regional/local</th>\n",
              "      <th>Tipo da Forma de Abastecimento</th>\n",
              "      <th>Código Forma de abastecimento</th>\n",
              "      <th>Nome da Forma de Abastecimento</th>\n",
              "      <th>Ano de referência</th>\n",
              "      <th>Mês de referência</th>\n",
              "      <th>Data de registro</th>\n",
              "      <th>Data de preenchimento do relatório mensal</th>\n",
              "      <th>Data da coleta</th>\n",
              "      <th>Ponto de Monitoramento</th>\n",
              "      <th>Parâmetro</th>\n",
              "      <th>Zona</th>\n",
              "      <th>Categoria Área</th>\n",
              "      <th>Área</th>\n",
              "      <th>Tipo do local</th>\n",
              "      <th>Local</th>\n",
              "      <th>Endereço</th>\n",
              "      <th>Latitude</th>\n",
              "      <th>Longitude</th>\n",
              "      <th>Resultado</th>\n",
              "      <th>Providência do controle</th>\n",
              "    </tr>\n",
              "  </thead>\n",
              "  <tbody>\n",
              "    <tr>\n",
              "      <th>221</th>\n",
              "      <td>CENTRO-OESTE</td>\n",
              "      <td>DF</td>\n",
              "      <td>UNICA</td>\n",
              "      <td>VICENTE PIRES</td>\n",
              "      <td>530030</td>\n",
              "      <td>Regional</td>\n",
              "      <td>CAESB</td>\n",
              "      <td>COMPANHIA DE SANEAMENTO AMBIENTAL DO DISTRITO ...</td>\n",
              "      <td>82024000137</td>\n",
              "      <td>CAESB REGIONAL UNICA</td>\n",
              "      <td>82024000137</td>\n",
              "      <td>SAA</td>\n",
              "      <td>S530009000001</td>\n",
              "      <td>DESCOBERTO</td>\n",
              "      <td>2014</td>\n",
              "      <td>3</td>\n",
              "      <td>2014/08/08 00:00:00.000</td>\n",
              "      <td>2014/08/08 00:00:00.000</td>\n",
              "      <td>2014/03/12 00:00:00.000</td>\n",
              "      <td>SISTEMA DE DISTRIBUIÇÃO</td>\n",
              "      <td>Turbidez (uT)</td>\n",
              "      <td>Urbana</td>\n",
              "      <td>Bairro</td>\n",
              "      <td>COLONIA AGRICOLA SAMAMBAIA</td>\n",
              "      <td>NaN</td>\n",
              "      <td>NaN</td>\n",
              "      <td>Rua 40/42 - lado da EPTG</td>\n",
              "      <td>NaN</td>\n",
              "      <td>NaN</td>\n",
              "      <td>11,1</td>\n",
              "      <td>Descarga de rede</td>\n",
              "    </tr>\n",
              "  </tbody>\n",
              "</table>\n",
              "</div>\n",
              "      <button class=\"colab-df-convert\" onclick=\"convertToInteractive('df-0a149a0d-b88b-4bb2-8677-e7ea5249750f')\"\n",
              "              title=\"Convert this dataframe to an interactive table.\"\n",
              "              style=\"display:none;\">\n",
              "        \n",
              "  <svg xmlns=\"http://www.w3.org/2000/svg\" height=\"24px\"viewBox=\"0 0 24 24\"\n",
              "       width=\"24px\">\n",
              "    <path d=\"M0 0h24v24H0V0z\" fill=\"none\"/>\n",
              "    <path d=\"M18.56 5.44l.94 2.06.94-2.06 2.06-.94-2.06-.94-.94-2.06-.94 2.06-2.06.94zm-11 1L8.5 8.5l.94-2.06 2.06-.94-2.06-.94L8.5 2.5l-.94 2.06-2.06.94zm10 10l.94 2.06.94-2.06 2.06-.94-2.06-.94-.94-2.06-.94 2.06-2.06.94z\"/><path d=\"M17.41 7.96l-1.37-1.37c-.4-.4-.92-.59-1.43-.59-.52 0-1.04.2-1.43.59L10.3 9.45l-7.72 7.72c-.78.78-.78 2.05 0 2.83L4 21.41c.39.39.9.59 1.41.59.51 0 1.02-.2 1.41-.59l7.78-7.78 2.81-2.81c.8-.78.8-2.07 0-2.86zM5.41 20L4 18.59l7.72-7.72 1.47 1.35L5.41 20z\"/>\n",
              "  </svg>\n",
              "      </button>\n",
              "      \n",
              "  <style>\n",
              "    .colab-df-container {\n",
              "      display:flex;\n",
              "      flex-wrap:wrap;\n",
              "      gap: 12px;\n",
              "    }\n",
              "\n",
              "    .colab-df-convert {\n",
              "      background-color: #E8F0FE;\n",
              "      border: none;\n",
              "      border-radius: 50%;\n",
              "      cursor: pointer;\n",
              "      display: none;\n",
              "      fill: #1967D2;\n",
              "      height: 32px;\n",
              "      padding: 0 0 0 0;\n",
              "      width: 32px;\n",
              "    }\n",
              "\n",
              "    .colab-df-convert:hover {\n",
              "      background-color: #E2EBFA;\n",
              "      box-shadow: 0px 1px 2px rgba(60, 64, 67, 0.3), 0px 1px 3px 1px rgba(60, 64, 67, 0.15);\n",
              "      fill: #174EA6;\n",
              "    }\n",
              "\n",
              "    [theme=dark] .colab-df-convert {\n",
              "      background-color: #3B4455;\n",
              "      fill: #D2E3FC;\n",
              "    }\n",
              "\n",
              "    [theme=dark] .colab-df-convert:hover {\n",
              "      background-color: #434B5C;\n",
              "      box-shadow: 0px 1px 3px 1px rgba(0, 0, 0, 0.15);\n",
              "      filter: drop-shadow(0px 1px 2px rgba(0, 0, 0, 0.3));\n",
              "      fill: #FFFFFF;\n",
              "    }\n",
              "  </style>\n",
              "\n",
              "      <script>\n",
              "        const buttonEl =\n",
              "          document.querySelector('#df-0a149a0d-b88b-4bb2-8677-e7ea5249750f button.colab-df-convert');\n",
              "        buttonEl.style.display =\n",
              "          google.colab.kernel.accessAllowed ? 'block' : 'none';\n",
              "\n",
              "        async function convertToInteractive(key) {\n",
              "          const element = document.querySelector('#df-0a149a0d-b88b-4bb2-8677-e7ea5249750f');\n",
              "          const dataTable =\n",
              "            await google.colab.kernel.invokeFunction('convertToInteractive',\n",
              "                                                     [key], {});\n",
              "          if (!dataTable) return;\n",
              "\n",
              "          const docLinkHtml = 'Like what you see? Visit the ' +\n",
              "            '<a target=\"_blank\" href=https://colab.research.google.com/notebooks/data_table.ipynb>data table notebook</a>'\n",
              "            + ' to learn more about interactive tables.';\n",
              "          element.innerHTML = '';\n",
              "          dataTable['output_type'] = 'display_data';\n",
              "          await google.colab.output.renderOutput(dataTable, element);\n",
              "          const docLink = document.createElement('div');\n",
              "          docLink.innerHTML = docLinkHtml;\n",
              "          element.appendChild(docLink);\n",
              "        }\n",
              "      </script>\n",
              "    </div>\n",
              "  </div>\n",
              "  "
            ],
            "text/plain": [
              "    Região Geográfica  UF  ... Resultado Providência do controle\n",
              "221      CENTRO-OESTE  DF  ...      11,1        Descarga de rede\n",
              "\n",
              "[1 rows x 31 columns]"
            ]
          },
          "metadata": {},
          "execution_count": 9
        }
      ]
    },
    {
      "cell_type": "markdown",
      "source": [
        "# Tipos de instituições presentes na base"
      ],
      "metadata": {
        "id": "zuFu7zpOk4lR"
      }
    },
    {
      "cell_type": "code",
      "source": [
        "df['Tipo da Instituição'].value_counts()"
      ],
      "metadata": {
        "colab": {
          "base_uri": "https://localhost:8080/"
        },
        "id": "ns9eL9N9k3Wc",
        "outputId": "c02e00f6-6750-4ce4-f806-e27bb9de5f0e"
      },
      "execution_count": 10,
      "outputs": [
        {
          "output_type": "execute_result",
          "data": {
            "text/plain": [
              "Regional    285147\n",
              "Local       229946\n",
              "Name: Tipo da Instituição, dtype: int64"
            ]
          },
          "metadata": {},
          "execution_count": 10
        }
      ]
    },
    {
      "cell_type": "markdown",
      "source": [
        "# Siglas das 66 instituições presentes no banco com suas respectivas frequências"
      ],
      "metadata": {
        "id": "sOfDWOD5koOp"
      }
    },
    {
      "cell_type": "markdown",
      "source": [
        "Algumas siglas se encontram cortadas ou com presença de espaçamentos na sua escrita"
      ],
      "metadata": {
        "id": "ic17ahdxknCD"
      }
    },
    {
      "cell_type": "code",
      "source": [
        "pd.options.display.max_rows=1000"
      ],
      "metadata": {
        "id": "qj3is-RDkllO"
      },
      "execution_count": 11,
      "outputs": []
    },
    {
      "cell_type": "code",
      "source": [
        "df['Sigla da Instituição'].value_counts()"
      ],
      "metadata": {
        "colab": {
          "base_uri": "https://localhost:8080/"
        },
        "id": "N8RSaxi5kj0n",
        "outputId": "82354bf1-c67b-4e8d-ff41-a4fe6016c60b"
      },
      "execution_count": 12,
      "outputs": [
        {
          "output_type": "execute_result",
          "data": {
            "text/plain": [
              "SABESP        116211\n",
              "EMBASA         62787\n",
              "DESO           40019\n",
              "CASAN          31006\n",
              "CAESB           8004\n",
              "CESAN           7746\n",
              "CAEMA           2601\n",
              "CEDAE           2406\n",
              "COPASA          2386\n",
              "CAERN           2281\n",
              "CORSAN          1662\n",
              "AGESPISA        1244\n",
              "SANESUL         1100\n",
              "SANEPAR         1037\n",
              "BRK AMBIEN       471\n",
              "CAERD            438\n",
              "SANEATINS        427\n",
              "SANEAGO          411\n",
              "AB TRIANGU       323\n",
              "SIMAE            320\n",
              "AB COLINAS       223\n",
              "COSANPA          222\n",
              "RDB              204\n",
              "COMPESA          157\n",
              "HIDROS           156\n",
              "AUTOBAN          149\n",
              "SPVIAS           108\n",
              "AGJ               85\n",
              "COSAMA            83\n",
              "AUTOVIAS          81\n",
              "SHO               74\n",
              "REGIS BITT        74\n",
              "SOFT SUL P        70\n",
              "CART              68\n",
              "CTEEP             66\n",
              "LICS R            64\n",
              "INTERVIAS         44\n",
              "CENTROVIAS        43\n",
              "CAESA             40\n",
              "ATS               37\n",
              "RENOVIAS          30\n",
              "SIMAE2            29\n",
              "VIA NORTE         29\n",
              "RODOANEL O        22\n",
              "VPAULISTA         21\n",
              "AP FERNAO         11\n",
              "LABORPLAN          9\n",
              "LIGIANE A          9\n",
              "COPANOR            7\n",
              "ESSENCIAL          5\n",
              "KF                 5\n",
              "DEPASA             5\n",
              "LACUA SIST         5\n",
              "SISAR              5\n",
              "BIOSUL             5\n",
              "VIAOESTE           4\n",
              "PROLAGOS           4\n",
              "NOVADUTRA          3\n",
              "SPMAR              3\n",
              "ECOPISTAS          3\n",
              "TIETE              3\n",
              "RAIZEN             1\n",
              "ARTIBRAS           1\n",
              "Name: Sigla da Instituição, dtype: int64"
            ]
          },
          "metadata": {},
          "execution_count": 12
        }
      ]
    },
    {
      "cell_type": "markdown",
      "source": [
        "# Conferindo se existe nomes de instituições preenchidos como número"
      ],
      "metadata": {
        "id": "n7IrHI8ekidb"
      }
    },
    {
      "cell_type": "code",
      "source": [
        "instituicao = list((df.drop_duplicates(subset =\"Nome da Instituição\", keep = 'last')['Nome da Instituição']))"
      ],
      "metadata": {
        "id": "hvjuubjoke5o"
      },
      "execution_count": 13,
      "outputs": []
    },
    {
      "cell_type": "code",
      "source": [
        "import collections\n",
        "\n",
        "frequencia = []\n",
        "\n",
        "for i in range(0,len(instituicao)):\n",
        "  try:\n",
        "    result = instituicao[i].isdigit()\n",
        "    frequencia.append(result)\n",
        "  except:\n",
        "    print('Valor nulo encontrado')\n",
        "\n",
        "counter=collections.Counter(frequencia)\n",
        "\n",
        "print(counter)"
      ],
      "metadata": {
        "colab": {
          "base_uri": "https://localhost:8080/"
        },
        "id": "HaoFcAf_kd5D",
        "outputId": "5ff67e61-68ee-4623-8f20-f8c657cc8182"
      },
      "execution_count": 14,
      "outputs": [
        {
          "output_type": "stream",
          "name": "stdout",
          "text": [
            "Valor nulo encontrado\n",
            "Counter({False: 3980})\n"
          ]
        }
      ]
    },
    {
      "cell_type": "markdown",
      "source": [
        "# Conferindo se possui string na variavel CNPJ"
      ],
      "metadata": {
        "id": "V6-yq2u2kc2Y"
      }
    },
    {
      "cell_type": "code",
      "source": [
        "CNPJ = list((df.drop_duplicates(subset =\"CNPJ da Instituição\", keep = 'last')['CNPJ da Instituição']))"
      ],
      "metadata": {
        "id": "NoDnuZYkkbrN"
      },
      "execution_count": 15,
      "outputs": []
    },
    {
      "cell_type": "code",
      "source": [
        "frequencia = []\n",
        "\n",
        "for i in range(0,len(CNPJ)):\n",
        "  try:\n",
        "    result = isinstance(CNPJ[i], str)\n",
        "    frequencia.append(result)\n",
        "  except:\n",
        "    print('Valor nulo encontrado')\n",
        "\n",
        "counter=collections.Counter(frequencia)\n",
        "\n",
        "print(counter)"
      ],
      "metadata": {
        "colab": {
          "base_uri": "https://localhost:8080/"
        },
        "id": "LFKfDVwmkaxp",
        "outputId": "a400c160-4196-4664-ced5-3c5dff8fbb78"
      },
      "execution_count": 16,
      "outputs": [
        {
          "output_type": "stream",
          "name": "stdout",
          "text": [
            "Counter({True: 4176, False: 1})\n"
          ]
        }
      ]
    },
    {
      "cell_type": "markdown",
      "source": [
        "# Analisando o tamanho dos CNPJ's"
      ],
      "metadata": {
        "id": "lQGwTpN7kZz6"
      }
    },
    {
      "cell_type": "code",
      "source": [
        "frequencia = []\n",
        "\n",
        "for i in range(0,len(CNPJ)):\n",
        "  try:\n",
        "    result = sum(len(i) for i in CNPJ[i])\n",
        "    frequencia.append(result)\n",
        "  except:\n",
        "    print('Valor nulo encontrado')\n",
        "\n",
        "counter=collections.Counter(frequencia)\n",
        "\n",
        "print(counter)"
      ],
      "metadata": {
        "colab": {
          "base_uri": "https://localhost:8080/"
        },
        "id": "vaoJWjZhkYgi",
        "outputId": "6077cce7-ffc3-4bec-a10d-fb6dcfaabd91"
      },
      "execution_count": 17,
      "outputs": [
        {
          "output_type": "stream",
          "name": "stdout",
          "text": [
            "Valor nulo encontrado\n",
            "Counter({14: 2664, 13: 1365, 12: 127, 11: 18, 9: 1, 10: 1})\n"
          ]
        }
      ]
    },
    {
      "cell_type": "markdown",
      "source": [
        "# Conferindo se o nome da instituição regional / local esta preenchido como string"
      ],
      "metadata": {
        "id": "chTZkVbRkW1U"
      }
    },
    {
      "cell_type": "code",
      "source": [
        "instituicao = list((df.drop_duplicates(subset =\"Nome do escritório regional/local\", keep = 'last')['Nome do escritório regional/local']))"
      ],
      "metadata": {
        "id": "sQ9vwbH_kVqD"
      },
      "execution_count": 18,
      "outputs": []
    },
    {
      "cell_type": "code",
      "source": [
        "import collections\n",
        "\n",
        "frequencia = []\n",
        "\n",
        "for i in range(0,len(instituicao)):\n",
        "  try:\n",
        "    result = instituicao[i].isdigit()\n",
        "    frequencia.append(result)\n",
        "  except:\n",
        "    print('Valor nulo encontrado')\n",
        "\n",
        "counter=collections.Counter(frequencia)\n",
        "\n",
        "print(counter)"
      ],
      "metadata": {
        "colab": {
          "base_uri": "https://localhost:8080/"
        },
        "id": "Pjqj8IDokUmS",
        "outputId": "e83ecb17-12d1-42a8-b122-875446e10b0c"
      },
      "execution_count": 19,
      "outputs": [
        {
          "output_type": "stream",
          "name": "stdout",
          "text": [
            "Valor nulo encontrado\n",
            "Counter({False: 488})\n"
          ]
        }
      ]
    },
    {
      "cell_type": "markdown",
      "source": [
        "# Conferindo se possui valores textuais na variavel CNPJ do escritório regional/local"
      ],
      "metadata": {
        "id": "WPY-dBr4kS6n"
      }
    },
    {
      "cell_type": "code",
      "source": [
        "CNPJ = list((df.drop_duplicates(subset =\"CNPJ do escritório regional/local\", keep = 'last')['CNPJ do escritório regional/local']))"
      ],
      "metadata": {
        "id": "wJcb8YC0kR2H"
      },
      "execution_count": 20,
      "outputs": []
    },
    {
      "cell_type": "code",
      "source": [
        "frequencia = []\n",
        "\n",
        "for i in range(0,len(CNPJ)):\n",
        "  try:\n",
        "    result = isinstance(CNPJ[i], str)\n",
        "    frequencia.append(result)\n",
        "  except:\n",
        "    print('Valor nulo encontrado')\n",
        "\n",
        "counter=collections.Counter(frequencia)\n",
        "\n",
        "print(counter)"
      ],
      "metadata": {
        "colab": {
          "base_uri": "https://localhost:8080/"
        },
        "id": "7t_pBMVmkQuz",
        "outputId": "5973097b-2d96-4233-90d8-15cdd312b6e9"
      },
      "execution_count": 21,
      "outputs": [
        {
          "output_type": "stream",
          "name": "stdout",
          "text": [
            "Counter({True: 369, False: 1})\n"
          ]
        }
      ]
    },
    {
      "cell_type": "markdown",
      "source": [
        "# Conferindo a frequência de caracteres na variável CNPJ do escritório regional/local"
      ],
      "metadata": {
        "id": "bRG5rwV6kPcp"
      }
    },
    {
      "cell_type": "code",
      "source": [
        "instituicao = list((df.drop_duplicates(subset =\"CNPJ do escritório regional/local\", keep = 'last')['CNPJ do escritório regional/local']))"
      ],
      "metadata": {
        "id": "5jvwdR8ikN1k"
      },
      "execution_count": 22,
      "outputs": []
    },
    {
      "cell_type": "code",
      "source": [
        "frequencia = []\n",
        "\n",
        "for i in range(0,len(instituicao)):\n",
        "  try:\n",
        "    result = sum(len(i) for i in instituicao[i])\n",
        "    frequencia.append(result)\n",
        "  except:\n",
        "    print('Valor nulo encontrado')\n",
        "\n",
        "counter=collections.Counter(frequencia)\n",
        "\n",
        "print(counter)"
      ],
      "metadata": {
        "colab": {
          "base_uri": "https://localhost:8080/"
        },
        "id": "ZsV1EPN0kMYo",
        "outputId": "f90caf5c-3df7-4416-a241-5159ffbf403c"
      },
      "execution_count": 23,
      "outputs": [
        {
          "output_type": "stream",
          "name": "stdout",
          "text": [
            "Valor nulo encontrado\n",
            "Counter({14: 305, 13: 62, 11: 1, 12: 1})\n"
          ]
        }
      ]
    },
    {
      "cell_type": "markdown",
      "source": [
        "# Tipo da forma de abastecimento"
      ],
      "metadata": {
        "id": "5um-Kmsyjtyv"
      }
    },
    {
      "cell_type": "code",
      "source": [
        "df['Tipo da Forma de Abastecimento'].value_counts()"
      ],
      "metadata": {
        "colab": {
          "base_uri": "https://localhost:8080/"
        },
        "id": "TYgaASAqkFh4",
        "outputId": "fe7e1eaa-863b-4248-d280-82338416096d"
      },
      "execution_count": 24,
      "outputs": [
        {
          "output_type": "execute_result",
          "data": {
            "text/plain": [
              "SAA    412062\n",
              "SAC    104570\n",
              "Name: Tipo da Forma de Abastecimento, dtype: int64"
            ]
          },
          "metadata": {},
          "execution_count": 24
        }
      ]
    },
    {
      "cell_type": "markdown",
      "source": [
        "### Conferindo se tem nome preenchido apenas com números"
      ],
      "metadata": {
        "id": "VkzaTB_0kDP4"
      }
    },
    {
      "cell_type": "code",
      "source": [
        "instituicao = list((df.drop_duplicates(subset =\"Nome da Forma de Abastecimento\", keep = 'last')['Nome da Forma de Abastecimento']))"
      ],
      "metadata": {
        "id": "dOtNruN_kCKR"
      },
      "execution_count": 25,
      "outputs": []
    },
    {
      "cell_type": "code",
      "source": [
        "import collections\n",
        "\n",
        "frequencia = []\n",
        "\n",
        "for i in range(0,len(instituicao)):\n",
        "  try:\n",
        "    result = instituicao[i].isdigit()\n",
        "    frequencia.append(result)\n",
        "  except:\n",
        "    print('Valor nulo encontrado')\n",
        "\n",
        "counter=collections.Counter(frequencia)\n",
        "\n",
        "print(counter)"
      ],
      "metadata": {
        "colab": {
          "base_uri": "https://localhost:8080/"
        },
        "id": "qltYak0gju66",
        "outputId": "77e067cb-7545-4703-94ac-f066625669aa"
      },
      "execution_count": 26,
      "outputs": [
        {
          "output_type": "stream",
          "name": "stdout",
          "text": [
            "Counter({False: 9543, True: 4})\n"
          ]
        }
      ]
    },
    {
      "cell_type": "markdown",
      "source": [
        "# Ano de referência"
      ],
      "metadata": {
        "id": "DbkrwyaalHKq"
      }
    },
    {
      "cell_type": "code",
      "source": [
        "df['Ano de referência'].value_counts()"
      ],
      "metadata": {
        "colab": {
          "base_uri": "https://localhost:8080/"
        },
        "id": "_5k9IR0NlLJz",
        "outputId": "9d0c3f29-2407-41d9-d76e-92f5d87d33bd"
      },
      "execution_count": 27,
      "outputs": [
        {
          "output_type": "execute_result",
          "data": {
            "text/plain": [
              "2020    101187\n",
              "2019     86470\n",
              "2021     85865\n",
              "2018     79548\n",
              "2017     79023\n",
              "2016     34875\n",
              "2014     25498\n",
              "2015     24166\n",
              "Name: Ano de referência, dtype: int64"
            ]
          },
          "metadata": {},
          "execution_count": 27
        }
      ]
    },
    {
      "cell_type": "markdown",
      "source": [
        "# Mês de referência"
      ],
      "metadata": {
        "id": "A2T9Nns-lRwD"
      }
    },
    {
      "cell_type": "code",
      "source": [
        "df['Mês de referência'].value_counts()"
      ],
      "metadata": {
        "colab": {
          "base_uri": "https://localhost:8080/"
        },
        "id": "0saRl6QAlULK",
        "outputId": "f112fdbc-93f8-4e10-a260-e245a024930d"
      },
      "execution_count": 28,
      "outputs": [
        {
          "output_type": "execute_result",
          "data": {
            "text/plain": [
              "1     47399\n",
              "4     45509\n",
              "5     44740\n",
              "3     43905\n",
              "2     43892\n",
              "9     43542\n",
              "10    43444\n",
              "6     43246\n",
              "7     43074\n",
              "8     43051\n",
              "11    37865\n",
              "12    36965\n",
              "Name: Mês de referência, dtype: int64"
            ]
          },
          "metadata": {},
          "execution_count": 28
        }
      ]
    },
    {
      "cell_type": "markdown",
      "source": [
        "# Data de registro"
      ],
      "metadata": {
        "id": "zDJi2D-UlZeP"
      }
    },
    {
      "cell_type": "code",
      "source": [
        "from collections import Counter\n",
        "\n",
        "# Separando os anos \n",
        "\n",
        "Ano = []\n",
        "\n",
        "for i in range(0,len(df['Data de registro'])):\n",
        "  Ano.append(df['Data de registro'][i][0:4])\n",
        "\n",
        "# Separando os meses\n",
        "\n",
        "print(50 * '--')\n",
        "\n",
        "print(\" Ano \")\n",
        "\n",
        "print(50 * '--')\n",
        "\n",
        "print(Counter(Ano))\n",
        "\n",
        "\n",
        "mes = []\n",
        "\n",
        "for i in range(0,len(df['Data de registro'])):\n",
        "  mes.append(df['Data de registro'][i][5:7])\n",
        "\n",
        "\n",
        "print(50 * '--')\n",
        "\n",
        "print(\" Mes \")\n",
        "\n",
        "print(50 * '--')\n",
        "\n",
        "print(Counter(mes))\n",
        "\n",
        "\n",
        "# Separando os dias\n",
        "\n",
        "dia = []\n",
        "\n",
        "for i in range(0,len(df['Data de registro'])):\n",
        "  dia.append(df['Data de registro'][i][8:10])\n",
        "\n",
        "\n",
        "print(50 * '--')\n",
        "\n",
        "print(\" Dia \")\n",
        "\n",
        "print(50 * '--')\n",
        "\n",
        "print(Counter(dia))"
      ],
      "metadata": {
        "colab": {
          "base_uri": "https://localhost:8080/"
        },
        "id": "r9Yi3CGbmW50",
        "outputId": "7ff15f48-44f5-4487-c683-6624f4456bda"
      },
      "execution_count": 29,
      "outputs": [
        {
          "output_type": "stream",
          "name": "stdout",
          "text": [
            "----------------------------------------------------------------------------------------------------\n",
            " Ano \n",
            "----------------------------------------------------------------------------------------------------\n",
            "Counter({'2020': 100641, '2021': 95705, '2019': 87221, '2018': 80014, '2017': 76494, '2015': 34772, '2016': 34091, '2014': 7694})\n",
            "----------------------------------------------------------------------------------------------------\n",
            " Mes \n",
            "----------------------------------------------------------------------------------------------------\n",
            "Counter({'10': 52091, '08': 47632, '05': 46781, '09': 46659, '11': 46057, '07': 43756, '03': 41898, '04': 40167, '06': 39552, '12': 38745, '01': 37799, '02': 35495})\n",
            "----------------------------------------------------------------------------------------------------\n",
            " Dia \n",
            "----------------------------------------------------------------------------------------------------\n",
            "Counter({'10': 42801, '09': 42170, '08': 35714, '07': 25552, '14': 24581, '06': 24422, '13': 24378, '11': 24241, '15': 24230, '12': 20369, '05': 20051, '04': 14004, '03': 13992, '16': 13062, '27': 11844, '17': 11816, '18': 11697, '02': 11540, '23': 11205, '20': 11032, '21': 10222, '26': 10190, '19': 9759, '01': 9436, '22': 9286, '29': 9272, '25': 9238, '28': 8923, '24': 8215, '30': 8108, '31': 5282})\n"
          ]
        }
      ]
    },
    {
      "cell_type": "markdown",
      "source": [
        "# Data de preenchimento do relatório mensal"
      ],
      "metadata": {
        "id": "R9WByKuOpwQN"
      }
    },
    {
      "cell_type": "code",
      "source": [
        "from collections import Counter\n",
        "\n",
        "DT_registro = []\n",
        "\n",
        "for i in range(0,len(df['Data de preenchimento do relatório mensal'])):\n",
        "\n",
        "  if len(str(df['Data de preenchimento do relatório mensal'][i])) > 5:\n",
        "\n",
        "    DT_registro.append(df['Data de preenchimento do relatório mensal'][i][0:10])\n",
        "\n",
        "# Separando os anos \n",
        "\n",
        "Ano = []\n",
        "\n",
        "for i in range(0,len(df['Data de preenchimento do relatório mensal'])):\n",
        "  if len(str(df['Data de preenchimento do relatório mensal'][i])) > 5:\n",
        "    Ano.append(df['Data de preenchimento do relatório mensal'][i][0:4])\n",
        "\n",
        "# Separando os meses\n",
        "\n",
        "print(50 * '--')\n",
        "\n",
        "print(\" Ano \")\n",
        "\n",
        "print(50 * '--')\n",
        "\n",
        "print(Counter(Ano))\n",
        "\n",
        "\n",
        "mes = []\n",
        "\n",
        "for i in range(0,len(df['Data de preenchimento do relatório mensal'])):\n",
        "  if len(str(df['Data de preenchimento do relatório mensal'][i])) > 5:\n",
        "    mes.append(df['Data de preenchimento do relatório mensal'][i][5:7])\n",
        "\n",
        "\n",
        "print(50 * '--')\n",
        "\n",
        "print(\" Mes \")\n",
        "\n",
        "print(50 * '--')\n",
        "\n",
        "print(Counter(mes))\n",
        "\n",
        "\n",
        "# Separando os dias\n",
        "\n",
        "dia = []\n",
        "\n",
        "for i in range(0,len(df['Data de preenchimento do relatório mensal'])):\n",
        "  if len(str(df['Data de preenchimento do relatório mensal'][i])) > 5:\n",
        "    dia.append(df['Data de preenchimento do relatório mensal'][i][8:10])\n",
        "\n",
        "\n",
        "print(50 * '--')\n",
        "\n",
        "print(\" Dia \")\n",
        "\n",
        "print(50 * '--')\n",
        "\n",
        "print(Counter(dia))"
      ],
      "metadata": {
        "colab": {
          "base_uri": "https://localhost:8080/"
        },
        "id": "i9p4ONeEp1hq",
        "outputId": "347c865a-c0b7-4bd6-d858-11f257fdd0f4"
      },
      "execution_count": 30,
      "outputs": [
        {
          "output_type": "stream",
          "name": "stdout",
          "text": [
            "----------------------------------------------------------------------------------------------------\n",
            " Ano \n",
            "----------------------------------------------------------------------------------------------------\n",
            "Counter({'2020': 100652, '2021': 94661, '2019': 87047, '2018': 79301, '2017': 75917, '2015': 33913, '2016': 32281, '2014': 12842})\n",
            "----------------------------------------------------------------------------------------------------\n",
            " Mes \n",
            "----------------------------------------------------------------------------------------------------\n",
            "Counter({'10': 51463, '08': 46750, '05': 46113, '11': 45428, '09': 44626, '07': 42715, '03': 42079, '06': 41458, '04': 41310, '12': 38849, '02': 38833, '01': 36990})\n",
            "----------------------------------------------------------------------------------------------------\n",
            " Dia \n",
            "----------------------------------------------------------------------------------------------------\n",
            "Counter({'09': 40369, '08': 39423, '10': 37988, '07': 34533, '06': 32913, '05': 28450, '11': 27527, '12': 24552, '13': 23344, '14': 19280, '04': 17626, '15': 17376, '03': 14566, '02': 12429, '17': 10839, '20': 10559, '01': 10283, '27': 10008, '16': 9961, '18': 9736, '30': 9733, '21': 8522, '23': 8205, '22': 7768, '19': 7765, '31': 7741, '26': 7600, '29': 7586, '28': 7551, '25': 6463, '24': 5918})\n"
          ]
        }
      ]
    },
    {
      "cell_type": "markdown",
      "source": [
        "# Data de preenchimento do relatório mensal"
      ],
      "metadata": {
        "id": "2-10QioTrNae"
      }
    },
    {
      "cell_type": "code",
      "source": [
        "from collections import Counter\n",
        "\n",
        "DT_registro = []\n",
        "\n",
        "for i in range(0,len(df['Data da coleta'])):\n",
        "\n",
        "  if len(str(df['Data da coleta'][i])) > 5:\n",
        "\n",
        "    DT_registro.append(df['Data da coleta'][i][0:10])\n",
        "\n",
        "# Separando os anos \n",
        "\n",
        "Ano = []\n",
        "\n",
        "for i in range(0,len(df['Data da coleta'])):\n",
        "  if len(str(df['Data da coleta'][i])) > 5:\n",
        "    Ano.append(df['Data da coleta'][i][0:4])\n",
        "\n",
        "# Separando os meses\n",
        "\n",
        "print(50 * '--')\n",
        "\n",
        "print(\" Ano \")\n",
        "\n",
        "print(50 * '--')\n",
        "\n",
        "print(Counter(Ano))\n",
        "\n",
        "\n",
        "mes = []\n",
        "\n",
        "for i in range(0,len(df['Data da coleta'])):\n",
        "  if len(str(df['Data da coleta'][i])) > 5:\n",
        "    mes.append(df['Data da coleta'][i][5:7])\n",
        "\n",
        "\n",
        "print(50 * '--')\n",
        "\n",
        "print(\" Mes \")\n",
        "\n",
        "print(50 * '--')\n",
        "\n",
        "print(Counter(mes))\n",
        "\n",
        "\n",
        "# Separando os dias\n",
        "\n",
        "dia = []\n",
        "\n",
        "for i in range(0,len(df['Data da coleta'])):\n",
        "  if len(str(df['Data da coleta'][i])) > 5:\n",
        "    dia.append(df['Data da coleta'][i][8:10])\n",
        "\n",
        "\n",
        "print(50 * '--')\n",
        "\n",
        "print(\" Dia \")\n",
        "\n",
        "print(50 * '--')\n",
        "\n",
        "print(Counter(dia))"
      ],
      "metadata": {
        "colab": {
          "base_uri": "https://localhost:8080/"
        },
        "id": "M5msY4sxqAoa",
        "outputId": "409f5b25-e86c-4f9e-edaf-48a82752baa1"
      },
      "execution_count": 31,
      "outputs": [
        {
          "output_type": "stream",
          "name": "stdout",
          "text": [
            "----------------------------------------------------------------------------------------------------\n",
            " Ano \n",
            "----------------------------------------------------------------------------------------------------\n",
            "Counter({'2020': 101187, '2019': 86468, '2021': 85864, '2018': 79543, '2017': 79021, '2016': 34873, '2014': 25498, '2015': 24162})\n",
            "----------------------------------------------------------------------------------------------------\n",
            " Mes \n",
            "----------------------------------------------------------------------------------------------------\n",
            "Counter({'01': 47398, '04': 45507, '05': 44739, '03': 43903, '02': 43888, '09': 43542, '10': 43444, '06': 43242, '07': 43073, '08': 43051, '11': 37864, '12': 36965})\n",
            "----------------------------------------------------------------------------------------------------\n",
            " Dia \n",
            "----------------------------------------------------------------------------------------------------\n",
            "Counter({'13': 19097, '18': 18973, '06': 18872, '05': 18727, '14': 18668, '10': 18657, '16': 18608, '19': 18581, '04': 18557, '08': 18526, '09': 18519, '17': 18381, '07': 18207, '11': 18149, '22': 17942, '15': 17852, '03': 17841, '12': 17565, '20': 17350, '23': 16711, '21': 16679, '27': 16329, '02': 16153, '26': 15750, '24': 15669, '25': 15324, '01': 14492, '28': 14283, '29': 12038, '30': 9452, '31': 4664})\n"
          ]
        }
      ]
    },
    {
      "cell_type": "markdown",
      "source": [
        "# Ponto de Monitoramento"
      ],
      "metadata": {
        "id": "bLxKWxsBrkID"
      }
    },
    {
      "cell_type": "code",
      "source": [
        "df['Ponto de Monitoramento'].value_counts()"
      ],
      "metadata": {
        "colab": {
          "base_uri": "https://localhost:8080/"
        },
        "id": "sPF6ykPnrauq",
        "outputId": "1aee7c0d-ad76-4ac4-a79d-22e47364ae65"
      },
      "execution_count": 32,
      "outputs": [
        {
          "output_type": "execute_result",
          "data": {
            "text/plain": [
              "SISTEMA DE DISTRIBUIÇÃO    412062\n",
              "PONTO DE CONSUMO           104570\n",
              "Name: Ponto de Monitoramento, dtype: int64"
            ]
          },
          "metadata": {},
          "execution_count": 32
        }
      ]
    },
    {
      "cell_type": "markdown",
      "source": [
        "# Parâmetro"
      ],
      "metadata": {
        "id": "H4A4F1u1roNe"
      }
    },
    {
      "cell_type": "code",
      "source": [
        "df['Parâmetro'].value_counts()"
      ],
      "metadata": {
        "colab": {
          "base_uri": "https://localhost:8080/"
        },
        "id": "WuN8ETN5ro_G",
        "outputId": "86e9f523-054f-4747-8584-334cbf56054e"
      },
      "execution_count": 33,
      "outputs": [
        {
          "output_type": "execute_result",
          "data": {
            "text/plain": [
              "Cloro Residual Livre (mg/L)          239474\n",
              "Cor (uH)                              62735\n",
              "Coliformes totais                     54641\n",
              "Fluoreto (mg/L)                       53471\n",
              "Turbidez (uT)                         46405\n",
              "pH                                    40680\n",
              "Escherichia coli                       7876\n",
              "Cloro Residual Combinado (mg/L)        6304\n",
              "Bactérias Heterotróficas (UFC/mL)      3692\n",
              "Dióxido de Cloro                       1354\n",
              "Name: Parâmetro, dtype: int64"
            ]
          },
          "metadata": {},
          "execution_count": 33
        }
      ]
    },
    {
      "cell_type": "markdown",
      "source": [
        "# Zona"
      ],
      "metadata": {
        "id": "HguAP6jVrsbX"
      }
    },
    {
      "cell_type": "code",
      "source": [
        "df['Zona'].value_counts()"
      ],
      "metadata": {
        "colab": {
          "base_uri": "https://localhost:8080/"
        },
        "id": "ifakZrZlrux9",
        "outputId": "bfc1e0d4-8685-481c-8749-15bbfc0679f9"
      },
      "execution_count": 34,
      "outputs": [
        {
          "output_type": "execute_result",
          "data": {
            "text/plain": [
              "Urbana    459365\n",
              "Rural      57246\n",
              "Name: Zona, dtype: int64"
            ]
          },
          "metadata": {},
          "execution_count": 34
        }
      ]
    },
    {
      "cell_type": "markdown",
      "source": [
        "# Categoria Área"
      ],
      "metadata": {
        "id": "c3xo_uytryDR"
      }
    },
    {
      "cell_type": "code",
      "source": [
        "df['Categoria Área'].value_counts()"
      ],
      "metadata": {
        "colab": {
          "base_uri": "https://localhost:8080/"
        },
        "id": "3VEXDRGSr0Pf",
        "outputId": "a542aca5-1267-41c0-d9a0-5f1f1e74c051"
      },
      "execution_count": 35,
      "outputs": [
        {
          "output_type": "execute_result",
          "data": {
            "text/plain": [
              "Bairro                        418122\n",
              "Povoado/Lugarejo               39675\n",
              "Área urbana isolada            27760\n",
              "Núcleo/Propriedade Rural       15097\n",
              "Sede de distrito (ou vila)     13483\n",
              "Comunidade Ribeirinha            995\n",
              "Comunidade Quilombola            872\n",
              "Reserva Extrativista             325\n",
              "Projeto de assentamento          181\n",
              "Aldeia indígena                  101\n",
              "Name: Categoria Área, dtype: int64"
            ]
          },
          "metadata": {},
          "execution_count": 35
        }
      ]
    },
    {
      "cell_type": "markdown",
      "source": [
        "# Tipo do local"
      ],
      "metadata": {
        "id": "h1Optxpor5JE"
      }
    },
    {
      "cell_type": "code",
      "source": [
        "df['Tipo do local'].value_counts()"
      ],
      "metadata": {
        "colab": {
          "base_uri": "https://localhost:8080/"
        },
        "id": "qr9BA_oPr50v",
        "outputId": "e78204c3-8051-4161-c103-37911184faa7"
      },
      "execution_count": 36,
      "outputs": [
        {
          "output_type": "execute_result",
          "data": {
            "text/plain": [
              "Indústria                    18218\n",
              "Estabelecimento de ensino    16315\n",
              "Outro                        15576\n",
              "Estabelecimento comercial    11692\n",
              "Estabelecimento de saúde      8508\n",
              "Condomínio                    3488\n",
              "Casa                          2714\n",
              "Clube                         1793\n",
              "Cadeia/Presídio               1570\n",
              "Posto de combustível          1319\n",
              "Edifício/Prédio               1257\n",
              "Grupo de casas                1075\n",
              "Conjunto habitacional          855\n",
              "Creche                         438\n",
              "Asilo/Casa de repouso          339\n",
              "Praça                          237\n",
              "Parque                         146\n",
              "Templo religioso               130\n",
              "Linha                          116\n",
              "Rodoviária                      80\n",
              "Aeroporto                       79\n",
              "Porto                           50\n",
              "Cemitério                       46\n",
              "Estádio/Ginásio                 36\n",
              "Construção civil (obra)         20\n",
              "Estação Ferroviária             11\n",
              "Acampamento                      1\n",
              "Name: Tipo do local, dtype: int64"
            ]
          },
          "metadata": {},
          "execution_count": 36
        }
      ]
    },
    {
      "cell_type": "markdown",
      "source": [
        "# Conferindo se existe local preenchido como número"
      ],
      "metadata": {
        "id": "yu5Bxoa1r-lx"
      }
    },
    {
      "cell_type": "code",
      "source": [
        "local = list((df.drop_duplicates(subset =\"Local\", keep = 'last')['Local']))"
      ],
      "metadata": {
        "id": "tBy48QlNsWoJ"
      },
      "execution_count": 37,
      "outputs": []
    },
    {
      "cell_type": "code",
      "source": [
        "import collections\n",
        "\n",
        "frequencia = []\n",
        "\n",
        "for i in range(0,len(local)):\n",
        "  try:\n",
        "    result = local[i].isdigit()\n",
        "    frequencia.append(result)\n",
        "  except:\n",
        "    print('Valor nulo encontrado')\n",
        "\n",
        "counter=collections.Counter(frequencia)\n",
        "\n",
        "print(counter)"
      ],
      "metadata": {
        "colab": {
          "base_uri": "https://localhost:8080/"
        },
        "id": "XfsQW3C9sNL7",
        "outputId": "f336699b-25ef-4f57-95a7-1c0c00804d39"
      },
      "execution_count": 38,
      "outputs": [
        {
          "output_type": "stream",
          "name": "stdout",
          "text": [
            "Valor nulo encontrado\n",
            "Counter({False: 3881, True: 2})\n"
          ]
        }
      ]
    },
    {
      "cell_type": "markdown",
      "source": [
        "# Conferindo se a string de endereço foi preenchida como número"
      ],
      "metadata": {
        "id": "NgRRDEe4sgM0"
      }
    },
    {
      "cell_type": "code",
      "source": [
        "Endereco = [x for x in list((df.drop_duplicates(subset =\"Endereço\", keep = 'last')['Endereço'])) if str(x) != 'nan']"
      ],
      "metadata": {
        "id": "KoDfBB27sg6o"
      },
      "execution_count": 39,
      "outputs": []
    },
    {
      "cell_type": "code",
      "source": [
        "import collections\n",
        "\n",
        "frequencia = []\n",
        "\n",
        "for i in range(0,len(Endereco)):\n",
        "  try:\n",
        "    result = Endereco[i].isdigit()\n",
        "    frequencia.append(result)\n",
        "  except:\n",
        "    print('Valor nulo encontrado')\n",
        "\n",
        "counter=collections.Counter(frequencia)\n",
        "\n",
        "print(counter)"
      ],
      "metadata": {
        "colab": {
          "base_uri": "https://localhost:8080/"
        },
        "id": "cWOJdEfmsj8c",
        "outputId": "38734437-4fdd-4f3e-dccd-9f8e1d7d4362"
      },
      "execution_count": 40,
      "outputs": [
        {
          "output_type": "stream",
          "name": "stdout",
          "text": [
            "Counter({False: 137157, True: 14})\n"
          ]
        }
      ]
    },
    {
      "cell_type": "markdown",
      "source": [
        "# Analisando se os valores de latitude são todos numéricos"
      ],
      "metadata": {
        "id": "YrIF46Jgspsv"
      }
    },
    {
      "cell_type": "code",
      "source": [
        "LAT = [x for x in list((df.drop_duplicates(subset =\"Latitude\", keep = 'last')['Latitude'])) if str(x) != 'nan']"
      ],
      "metadata": {
        "id": "VvxFRh4_sqaV"
      },
      "execution_count": 41,
      "outputs": []
    },
    {
      "cell_type": "code",
      "source": [
        "import collections\n",
        "\n",
        "frequencia = []\n",
        "\n",
        "for i in range(0,len(LAT)):\n",
        "  try:\n",
        "    result = str(LAT[i]).replace('.','').replace('-','').isdigit()\n",
        "    frequencia.append(result)\n",
        "  except:\n",
        "    print('Valor nulo encontrado')\n",
        "\n",
        "counter=collections.Counter(frequencia)\n",
        "\n",
        "print(counter)"
      ],
      "metadata": {
        "colab": {
          "base_uri": "https://localhost:8080/"
        },
        "id": "legX0Z5ossVb",
        "outputId": "1dd0b2a2-6537-46db-fe66-54368bb7fe43"
      },
      "execution_count": 42,
      "outputs": [
        {
          "output_type": "stream",
          "name": "stdout",
          "text": [
            "Counter({True: 2003})\n"
          ]
        }
      ]
    },
    {
      "cell_type": "markdown",
      "source": [
        "# Analisando se os valores de longitude são todos numéricos"
      ],
      "metadata": {
        "id": "J_NWWTrcupYV"
      }
    },
    {
      "cell_type": "code",
      "source": [
        "LONG = [x for x in list((df.drop_duplicates(subset =\"Longitude\", keep = 'last')['Longitude'])) if str(x) != 'nan']"
      ],
      "metadata": {
        "id": "MWGqxLdAuuV0"
      },
      "execution_count": 43,
      "outputs": []
    },
    {
      "cell_type": "code",
      "source": [
        "import collections\n",
        "\n",
        "frequencia = []\n",
        "\n",
        "for i in range(0,len(LONG)):\n",
        "  try:\n",
        "    result = str(LONG[i]).replace('.','').replace('-','').isdigit()\n",
        "    frequencia.append(result)\n",
        "  except:\n",
        "    print('Valor nulo encontrado')\n",
        "\n",
        "counter=collections.Counter(frequencia)\n",
        "\n",
        "print(counter)"
      ],
      "metadata": {
        "colab": {
          "base_uri": "https://localhost:8080/"
        },
        "id": "3HhKFCOduzag",
        "outputId": "0eaf6a96-4264-4849-c8dc-f4222eee04c9"
      },
      "execution_count": 44,
      "outputs": [
        {
          "output_type": "stream",
          "name": "stdout",
          "text": [
            "Counter({True: 1950})\n"
          ]
        }
      ]
    },
    {
      "cell_type": "markdown",
      "source": [
        "# Analisando o Campo numérico da base"
      ],
      "metadata": {
        "id": "iFfANq86u2cX"
      }
    },
    {
      "cell_type": "code",
      "source": [
        "Resultado = [x for x in list((df.drop_duplicates(subset =\"Resultado\", keep = 'last')['Resultado'])) if str(x) != 'nan']"
      ],
      "metadata": {
        "id": "EdHH-ejjvGxS"
      },
      "execution_count": 45,
      "outputs": []
    },
    {
      "cell_type": "code",
      "source": [
        "import collections\n",
        "\n",
        "frequencia = []\n",
        "\n",
        "for i in range(0,len(Resultado)):\n",
        "  try:\n",
        "    result = str(Resultado[i]).replace('.','').replace('-','').replace(',','').isdigit()\n",
        "    frequencia.append(result)\n",
        "  except:\n",
        "    print('Valor nulo encontrado')\n",
        "\n",
        "counter=collections.Counter(frequencia)\n",
        "\n",
        "print(counter)"
      ],
      "metadata": {
        "colab": {
          "base_uri": "https://localhost:8080/"
        },
        "id": "Fd-ExFKlvCaK",
        "outputId": "d2e48306-f159-4cef-f420-b45564bd100b"
      },
      "execution_count": 46,
      "outputs": [
        {
          "output_type": "stream",
          "name": "stdout",
          "text": [
            "Counter({True: 6107, False: 1})\n"
          ]
        }
      ]
    },
    {
      "cell_type": "markdown",
      "source": [
        "# Providência do controle"
      ],
      "metadata": {
        "id": "DL9BSQTXvsXP"
      }
    },
    {
      "cell_type": "code",
      "source": [
        "df['Providência do controle'].value_counts()"
      ],
      "metadata": {
        "colab": {
          "base_uri": "https://localhost:8080/"
        },
        "id": "Uq3wGeVmu3lD",
        "outputId": "4287cd3a-3944-44a1-9e29-e60fd403c4a0"
      },
      "execution_count": 47,
      "outputs": [
        {
          "output_type": "execute_result",
          "data": {
            "text/plain": [
              "Será avaliado em Análise Crítica.                                                           84898\n",
              "DESCARGA NA REDE                                                                            23848\n",
              "RECOLETA                                                                                    19167\n",
              "Ajuste na cloração.                                                                         15762\n",
              "Ação corretiva análise Portaria de Potabilidade                                             12191\n",
              "                                                                                            ...  \n",
              "APÓS LIMPEZA E DESINFECÇÃO NA REDE DE DISTRIBUIÇÃO, RESULTADO AUSENTE EM 04/02.                 1\n",
              "Recoleta 21/12/2016, CRL 0,8mg/L, turbidez 0,20uT, Coliformes totais e E. coli ausentes.        1\n",
              "Desinfecção e Rocoleta                                                                          1\n",
              "NO MOMENTO A ÁGUA ESTA SENDO UTILIZADA PARA CONSTRUÇÃO SERA IMPLANTADO O FILTRO                 1\n",
              "o responsável foi orientado sobre as normas vigentes                                            1\n",
              "Name: Providência do controle, Length: 47749, dtype: int64"
            ]
          },
          "metadata": {},
          "execution_count": 47
        }
      ]
    },
    {
      "cell_type": "markdown",
      "source": [
        "# Realizando a busca pela chave primária"
      ],
      "metadata": {
        "id": "Y3NB0SmKv6u2"
      }
    },
    {
      "cell_type": "code",
      "source": [
        "(df.groupby(['Código Forma de abastecimento', 'Município','Mês de referência','Ponto de Monitoramento','Tipo da Forma de Abastecimento', 'Zona','Parâmetro','Providência do controle']).size()).value_counts()"
      ],
      "metadata": {
        "colab": {
          "base_uri": "https://localhost:8080/"
        },
        "id": "sXBMJS6xv7cj",
        "outputId": "8ea0b159-8fc0-43a4-e411-9d5516ae2573"
      },
      "execution_count": 48,
      "outputs": [
        {
          "output_type": "execute_result",
          "data": {
            "text/plain": [
              "1      100619\n",
              "2       23012\n",
              "3       10858\n",
              "4        6271\n",
              "5        4148\n",
              "6        2899\n",
              "7        1917\n",
              "8        1634\n",
              "9        1248\n",
              "10       1114\n",
              "11        766\n",
              "12        697\n",
              "13        576\n",
              "14        455\n",
              "15        408\n",
              "16        372\n",
              "17        324\n",
              "18        288\n",
              "19        243\n",
              "20        216\n",
              "21        194\n",
              "22        174\n",
              "23        163\n",
              "25        140\n",
              "24        139\n",
              "50        137\n",
              "28        124\n",
              "26        123\n",
              "27        108\n",
              "29        103\n",
              "30        103\n",
              "31         98\n",
              "32         80\n",
              "34         73\n",
              "33         73\n",
              "49         67\n",
              "39         60\n",
              "38         54\n",
              "40         51\n",
              "35         51\n",
              "36         50\n",
              "100        48\n",
              "45         48\n",
              "46         47\n",
              "42         45\n",
              "37         42\n",
              "44         39\n",
              "41         39\n",
              "47         37\n",
              "43         36\n",
              "48         34\n",
              "51         29\n",
              "52         25\n",
              "55         20\n",
              "53         19\n",
              "54         18\n",
              "56         16\n",
              "72         16\n",
              "57         16\n",
              "249        15\n",
              "60         14\n",
              "63         13\n",
              "82         13\n",
              "81         13\n",
              "59         13\n",
              "77         12\n",
              "62         12\n",
              "68         12\n",
              "67         11\n",
              "80         11\n",
              "58         10\n",
              "65         10\n",
              "88         10\n",
              "76          9\n",
              "70          9\n",
              "99          9\n",
              "73          9\n",
              "200         9\n",
              "96          9\n",
              "69          8\n",
              "64          8\n",
              "74          8\n",
              "75          8\n",
              "83          8\n",
              "87          8\n",
              "90          8\n",
              "248         8\n",
              "92          8\n",
              "250         8\n",
              "98          7\n",
              "61          7\n",
              "97          7\n",
              "94          7\n",
              "91          7\n",
              "89          7\n",
              "84          7\n",
              "105         7\n",
              "71          6\n",
              "95          6\n",
              "247         6\n",
              "78          6\n",
              "104         5\n",
              "107         5\n",
              "150         5\n",
              "66          5\n",
              "196         4\n",
              "137         4\n",
              "109         4\n",
              "101         4\n",
              "149         4\n",
              "146         4\n",
              "86          4\n",
              "197         4\n",
              "112         4\n",
              "199         4\n",
              "119         3\n",
              "125         3\n",
              "169         3\n",
              "140         3\n",
              "120         3\n",
              "161         3\n",
              "102         3\n",
              "198         3\n",
              "246         3\n",
              "103         3\n",
              "115         3\n",
              "79          3\n",
              "180         3\n",
              "187         3\n",
              "147         3\n",
              "111         3\n",
              "136         2\n",
              "145         2\n",
              "133         2\n",
              "151         2\n",
              "142         2\n",
              "148         2\n",
              "129         2\n",
              "139         2\n",
              "134         2\n",
              "127         2\n",
              "163         2\n",
              "126         2\n",
              "106         2\n",
              "165         2\n",
              "234         2\n",
              "211         2\n",
              "108         2\n",
              "237         2\n",
              "239         2\n",
              "194         2\n",
              "193         2\n",
              "192         2\n",
              "190         2\n",
              "252         2\n",
              "244         2\n",
              "124         2\n",
              "251         2\n",
              "175         2\n",
              "173         2\n",
              "242         1\n",
              "130         1\n",
              "226         1\n",
              "138         1\n",
              "235         1\n",
              "236         1\n",
              "116         1\n",
              "118         1\n",
              "245         1\n",
              "117         1\n",
              "93          1\n",
              "241         1\n",
              "223         1\n",
              "214         1\n",
              "141         1\n",
              "188         1\n",
              "168         1\n",
              "170         1\n",
              "171         1\n",
              "172         1\n",
              "154         1\n",
              "183         1\n",
              "184         1\n",
              "152         1\n",
              "185         1\n",
              "189         1\n",
              "219         1\n",
              "201         1\n",
              "202         1\n",
              "204         1\n",
              "207         1\n",
              "212         1\n",
              "85          1\n",
              "144         1\n",
              "215         1\n",
              "218         1\n",
              "128         1\n",
              "dtype: int64"
            ]
          },
          "metadata": {},
          "execution_count": 48
        }
      ]
    }
  ]
}